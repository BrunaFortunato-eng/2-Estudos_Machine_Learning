{
 "cells": [
  {
   "cell_type": "code",
   "execution_count": 1,
   "metadata": {
    "colab": {
     "base_uri": "https://localhost:8080/",
     "height": 615
    },
    "colab_type": "code",
    "id": "cABJZKBQnxhI",
    "outputId": "ab4eda96-ac64-422c-a7a6-597cee010151"
   },
   "outputs": [
    {
     "name": "stdout",
     "output_type": "stream",
     "text": [
      "Requirement already satisfied: tensorflow==2 in /home/hub/anaconda3/envs/fiep/lib/python3.7/site-packages (2.0.0)\n",
      "Requirement already satisfied: gast==0.2.2 in /home/hub/anaconda3/envs/fiep/lib/python3.7/site-packages (from tensorflow==2) (0.2.2)\n",
      "Requirement already satisfied: tensorboard<2.1.0,>=2.0.0 in /home/hub/anaconda3/envs/fiep/lib/python3.7/site-packages (from tensorflow==2) (2.0.2)\n",
      "Requirement already satisfied: termcolor>=1.1.0 in /home/hub/anaconda3/envs/fiep/lib/python3.7/site-packages (from tensorflow==2) (1.1.0)\n",
      "Requirement already satisfied: opt-einsum>=2.3.2 in /home/hub/anaconda3/envs/fiep/lib/python3.7/site-packages (from tensorflow==2) (3.1.0)\n",
      "Requirement already satisfied: absl-py>=0.7.0 in /home/hub/anaconda3/envs/fiep/lib/python3.7/site-packages (from tensorflow==2) (0.9.0)\n",
      "Requirement already satisfied: wrapt>=1.11.1 in /home/hub/anaconda3/envs/fiep/lib/python3.7/site-packages (from tensorflow==2) (1.11.2)\n",
      "Requirement already satisfied: keras-applications>=1.0.8 in /home/hub/anaconda3/envs/fiep/lib/python3.7/site-packages (from tensorflow==2) (1.0.8)\n",
      "Requirement already satisfied: google-pasta>=0.1.6 in /home/hub/anaconda3/envs/fiep/lib/python3.7/site-packages (from tensorflow==2) (0.1.8)\n",
      "Requirement already satisfied: keras-preprocessing>=1.0.5 in /home/hub/anaconda3/envs/fiep/lib/python3.7/site-packages (from tensorflow==2) (1.1.0)\n",
      "Requirement already satisfied: six>=1.10.0 in /home/hub/anaconda3/envs/fiep/lib/python3.7/site-packages (from tensorflow==2) (1.13.0)\n",
      "Requirement already satisfied: tensorflow-estimator<2.1.0,>=2.0.0 in /home/hub/anaconda3/envs/fiep/lib/python3.7/site-packages (from tensorflow==2) (2.0.1)\n",
      "Requirement already satisfied: grpcio>=1.8.6 in /home/hub/anaconda3/envs/fiep/lib/python3.7/site-packages (from tensorflow==2) (1.27.2)\n",
      "Requirement already satisfied: wheel>=0.26 in /home/hub/anaconda3/envs/fiep/lib/python3.7/site-packages (from tensorflow==2) (0.33.6)\n",
      "Requirement already satisfied: protobuf>=3.6.1 in /home/hub/anaconda3/envs/fiep/lib/python3.7/site-packages (from tensorflow==2) (3.11.3)\n",
      "Requirement already satisfied: astor>=0.6.0 in /home/hub/anaconda3/envs/fiep/lib/python3.7/site-packages (from tensorflow==2) (0.8.1)\n",
      "Requirement already satisfied: numpy<2.0,>=1.16.0 in /home/hub/anaconda3/envs/fiep/lib/python3.7/site-packages (from tensorflow==2) (1.18.1)\n",
      "Requirement already satisfied: markdown>=2.6.8 in /home/hub/anaconda3/envs/fiep/lib/python3.7/site-packages (from tensorboard<2.1.0,>=2.0.0->tensorflow==2) (3.2.1)\n",
      "Requirement already satisfied: google-auth<2,>=1.6.3 in /home/hub/anaconda3/envs/fiep/lib/python3.7/site-packages (from tensorboard<2.1.0,>=2.0.0->tensorflow==2) (1.11.2)\n",
      "Requirement already satisfied: setuptools>=41.0.0 in /home/hub/anaconda3/envs/fiep/lib/python3.7/site-packages (from tensorboard<2.1.0,>=2.0.0->tensorflow==2) (44.0.0.post20200106)\n",
      "Requirement already satisfied: google-auth-oauthlib<0.5,>=0.4.1 in /home/hub/anaconda3/envs/fiep/lib/python3.7/site-packages (from tensorboard<2.1.0,>=2.0.0->tensorflow==2) (0.4.1)\n",
      "Requirement already satisfied: werkzeug>=0.11.15 in /home/hub/anaconda3/envs/fiep/lib/python3.7/site-packages (from tensorboard<2.1.0,>=2.0.0->tensorflow==2) (0.16.0)\n",
      "Requirement already satisfied: requests<3,>=2.21.0 in /home/hub/anaconda3/envs/fiep/lib/python3.7/site-packages (from tensorboard<2.1.0,>=2.0.0->tensorflow==2) (2.22.0)\n",
      "Requirement already satisfied: h5py in /home/hub/anaconda3/envs/fiep/lib/python3.7/site-packages (from keras-applications>=1.0.8->tensorflow==2) (2.9.0)\n",
      "Requirement already satisfied: rsa<4.1,>=3.1.4 in /home/hub/anaconda3/envs/fiep/lib/python3.7/site-packages (from google-auth<2,>=1.6.3->tensorboard<2.1.0,>=2.0.0->tensorflow==2) (4.0)\n",
      "Requirement already satisfied: cachetools<5.0,>=2.0.0 in /home/hub/anaconda3/envs/fiep/lib/python3.7/site-packages (from google-auth<2,>=1.6.3->tensorboard<2.1.0,>=2.0.0->tensorflow==2) (4.0.0)\n",
      "Requirement already satisfied: pyasn1-modules>=0.2.1 in /home/hub/anaconda3/envs/fiep/lib/python3.7/site-packages (from google-auth<2,>=1.6.3->tensorboard<2.1.0,>=2.0.0->tensorflow==2) (0.2.8)\n",
      "Requirement already satisfied: requests-oauthlib>=0.7.0 in /home/hub/anaconda3/envs/fiep/lib/python3.7/site-packages (from google-auth-oauthlib<0.5,>=0.4.1->tensorboard<2.1.0,>=2.0.0->tensorflow==2) (1.3.0)\n",
      "Requirement already satisfied: idna<2.9,>=2.5 in /home/hub/anaconda3/envs/fiep/lib/python3.7/site-packages (from requests<3,>=2.21.0->tensorboard<2.1.0,>=2.0.0->tensorflow==2) (2.8)\n",
      "Requirement already satisfied: certifi>=2017.4.17 in /home/hub/anaconda3/envs/fiep/lib/python3.7/site-packages (from requests<3,>=2.21.0->tensorboard<2.1.0,>=2.0.0->tensorflow==2) (2019.11.28)\n",
      "Requirement already satisfied: urllib3!=1.25.0,!=1.25.1,<1.26,>=1.21.1 in /home/hub/anaconda3/envs/fiep/lib/python3.7/site-packages (from requests<3,>=2.21.0->tensorboard<2.1.0,>=2.0.0->tensorflow==2) (1.25.7)\n",
      "Requirement already satisfied: chardet<3.1.0,>=3.0.2 in /home/hub/anaconda3/envs/fiep/lib/python3.7/site-packages (from requests<3,>=2.21.0->tensorboard<2.1.0,>=2.0.0->tensorflow==2) (3.0.4)\n",
      "Requirement already satisfied: pyasn1>=0.1.3 in /home/hub/anaconda3/envs/fiep/lib/python3.7/site-packages (from rsa<4.1,>=3.1.4->google-auth<2,>=1.6.3->tensorboard<2.1.0,>=2.0.0->tensorflow==2) (0.4.8)\n",
      "Requirement already satisfied: oauthlib>=3.0.0 in /home/hub/anaconda3/envs/fiep/lib/python3.7/site-packages (from requests-oauthlib>=0.7.0->google-auth-oauthlib<0.5,>=0.4.1->tensorboard<2.1.0,>=2.0.0->tensorflow==2) (3.1.0)\n"
     ]
    }
   ],
   "source": [
    "!pip install tensorflow==2"
   ]
  },
  {
   "cell_type": "code",
   "execution_count": 2,
   "metadata": {
    "colab": {},
    "colab_type": "code",
    "id": "GWCYTG9XnbK_"
   },
   "outputs": [],
   "source": [
    "import tensorflow as tf\n",
    "import pandas as pd\n",
    "import numpy as np\n",
    "from sklearn.model_selection import train_test_split\n",
    "from tensorflow.keras.utils import to_categorical # For y values\n",
    "from tensorflow.keras.models import Sequential\n",
    "from tensorflow.keras import metrics\n",
    "from tensorflow.keras.layers import Dense, Dropout\n",
    "from tensorflow.keras import backend as K\n",
    "\n",
    "import matplotlib.pyplot as plt\n",
    "\n",
    "import seaborn as sns; sns.set()\n"
   ]
  },
  {
   "cell_type": "code",
   "execution_count": 3,
   "metadata": {
    "colab": {},
    "colab_type": "code",
    "id": "nCVURZJ9nbLM"
   },
   "outputs": [],
   "source": [
    "np.random.seed(123)  # for reproducibility"
   ]
  },
  {
   "cell_type": "markdown",
   "metadata": {
    "colab_type": "text",
    "id": "wInQv3TNnbLT"
   },
   "source": [
    "## Some Helping Functions"
   ]
  },
  {
   "cell_type": "code",
   "execution_count": 4,
   "metadata": {
    "colab": {},
    "colab_type": "code",
    "id": "ztstabDLnbLW"
   },
   "outputs": [],
   "source": [
    "def print_heatmap(data):\n",
    "    heatmap = sns.heatmap(data)\n",
    "    heatmap.set(xlabel='Pseudorapidity', ylabel='Azimuthal Angle')\n",
    "    print(heatmap)\n",
    "    #plt.imshow(data, cmap='jet', interpolation='nearest')\n",
    "    #plt.show()"
   ]
  },
  {
   "cell_type": "code",
   "execution_count": 6,
   "metadata": {
    "colab": {},
    "colab_type": "code",
    "id": "GmFWJpU9nbLb"
   },
   "outputs": [],
   "source": [
    "def get_predicted_values(output_values):\n",
    "    predicted_values = []\n",
    "    for probability in output_values:\n",
    "        if probability[0] > probability[1]:\n",
    "            predicted_values.append(0)\n",
    "        else:\n",
    "            predicted_values.append(1)\n",
    "    return predicted_values"
   ]
  },
  {
   "cell_type": "markdown",
   "metadata": {
    "colab_type": "text",
    "id": "DjKYMo_KnbLf"
   },
   "source": [
    "# Reading the data"
   ]
  },
  {
   "cell_type": "markdown",
   "metadata": {
    "colab_type": "text",
    "id": "M20RSFqSnbLg"
   },
   "source": [
    "First we read the Signal Data and produce a heatmap from the average of all lines. We do so, in order to get the feeling of what our data looks like."
   ]
  },
  {
   "cell_type": "code",
   "execution_count": 7,
   "metadata": {
    "colab": {
     "base_uri": "https://localhost:8080/",
     "height": 241
    },
    "colab_type": "code",
    "id": "Eg7n5D_Voykl",
    "outputId": "7460d627-74f2-4df7-9f5c-e5cce68e625d"
   },
   "outputs": [
    {
     "name": "stdout",
     "output_type": "stream",
     "text": [
      "--2020-02-20 15:31:35--  https://github.com/raphaelmcobe/jet-classification/raw/master/signal_PU0_13TeV_MJ-65-95_PTJ-250-300_ext.txt\n",
      "Resolvendo github.com (github.com)... 18.228.67.229\n",
      "Conectando-se a github.com (github.com)|18.228.67.229|:443... conectado.\n",
      "A requisição HTTP foi enviada, aguardando resposta... 302 Found\n",
      "Localização: https://raw.githubusercontent.com/raphaelmcobe/jet-classification/master/signal_PU0_13TeV_MJ-65-95_PTJ-250-300_ext.txt [redirecionando]\n",
      "--2020-02-20 15:31:36--  https://raw.githubusercontent.com/raphaelmcobe/jet-classification/master/signal_PU0_13TeV_MJ-65-95_PTJ-250-300_ext.txt\n",
      "Resolvendo raw.githubusercontent.com (raw.githubusercontent.com)... 151.101.252.133\n",
      "Conectando-se a raw.githubusercontent.com (raw.githubusercontent.com)|151.101.252.133|:443... conectado.\n",
      "A requisição HTTP foi enviada, aguardando resposta... 416 Range Not Satisfiable\n",
      "\n",
      "    O arquivo já foi completamente obtido; não há nada a ser feito.\n",
      "\n"
     ]
    }
   ],
   "source": [
    "! wget -c https://github.com/raphaelmcobe/jet-classification/raw/master/signal_PU0_13TeV_MJ-65-95_PTJ-250-300_ext.txt"
   ]
  },
  {
   "cell_type": "code",
   "execution_count": 8,
   "metadata": {
    "colab": {
     "base_uri": "https://localhost:8080/",
     "height": 85
    },
    "colab_type": "code",
    "id": "BQL7CWCttkBf",
    "outputId": "d8b1e27e-1999-4101-a6f4-e0ec1762d5cb"
   },
   "outputs": [
    {
     "name": "stdout",
     "output_type": "stream",
     "text": [
      "total 510M\r\n",
      "-rw-rw-r-- 1 hub hub  10M fev  6 15:29 '[Aapo_Hyvarinen,_Juha_Karhunen,_Erkki_Oja]_Indepen(z-lib.org).pdf'\r\n",
      "-rw-r--r-- 1 hub hub  88M fev 19 16:06  background_PU0_13TeV_MJ-65-95_PTJ-250-300_ext.txt\r\n",
      "-rw-rw-r-- 1 hub hub 4,6M fev  6 15:29 '[Christopher_M._Bishop]_Pattern_Recognition_and_Ma(z-lib.org).pdf'\r\n",
      "-rw-rw-r-- 1 hub hub  61M fev 13 14:37  google-chrome-stable_current_amd64.deb\r\n",
      "-rw-r--r-- 1 hub hub 137K fev 19 17:45 'Image_Jet_Tagging_Analysis_(PTJ_250_300)-Copy1.ipynb'\r\n",
      "-rw-rw-r-- 1 hub hub 160K fev 19 18:16 'Image_Jet_Tagging_Analysis_(PTJ_250_300).ipynb'\r\n",
      "-rw-rw-r-- 1 hub hub 1,8M fev 14 11:10 'MODELO_PLANO_AUTOMAÇÃO 16,12% EaD IN2018(1).pdf'\r\n",
      "-rw-rw-r-- 1 hub hub 341K fev 14 11:13 'MODELO_PLANO_AUTOMAÇÃO 16,12% EaD IN2018.odg'\r\n",
      "-rw-rw-r-- 1 hub hub 1,8M fev 14 11:07 'MODELO_PLANO_AUTOMAÇÃO 16,12% EaD IN2018.pdf'\r\n",
      "-rw-rw-r-- 1 hub hub  11M fev 20 10:57  OneDrive_1_20-02-2020.zip\r\n",
      "-rw-r--r-- 1 hub hub  88M fev 19 15:57  signal_PU0_13TeV_MJ-65-95_PTJ-250-300_ext.txt\r\n",
      "-rw-rw-r-- 1 hub hub 113M fev 20 10:40 'Todos os alunos SESI e SENAI - SGE(1).xlsx'\r\n",
      "-rw-rw-r-- 1 hub hub  64M fev 18 09:48  zoom-1_amd64.deb\r\n",
      "-rw-rw-r-- 1 hub hub  69M fev 18 09:47  zoom_amd64.deb\r\n"
     ]
    }
   ],
   "source": [
    "!ls -lh"
   ]
  },
  {
   "cell_type": "code",
   "execution_count": 9,
   "metadata": {
    "colab": {
     "base_uri": "https://localhost:8080/",
     "height": 204
    },
    "colab_type": "code",
    "id": "2V2ugOhqnbLh",
    "outputId": "ade37df5-7eb4-403e-9b91-17741b236cce"
   },
   "outputs": [
    {
     "name": "stdout",
     "output_type": "stream",
     "text": [
      "(11298, 626)\n",
      "1   NaN\n",
      "2   NaN\n",
      "3   NaN\n",
      "4   NaN\n",
      "5   NaN\n",
      "6   NaN\n",
      "7   NaN\n",
      "8   NaN\n",
      "9   NaN\n",
      "Name: 625, dtype: float64\n"
     ]
    }
   ],
   "source": [
    "signal_data = pd.read_table('signal_PU0_13TeV_MJ-65-95_PTJ-250-300_ext.txt', header=None)\n",
    "print(signal_data.shape)\n",
    "print(signal_data.iloc[1:10,625])"
   ]
  },
  {
   "cell_type": "markdown",
   "metadata": {
    "colab_type": "text",
    "id": "fyq173X2nbLl"
   },
   "source": [
    "As seen, the data read has a last column (no. 626) without data. This happens because the data read has trailing spaces. We need to remove such data."
   ]
  },
  {
   "cell_type": "code",
   "execution_count": 10,
   "metadata": {
    "colab": {
     "base_uri": "https://localhost:8080/",
     "height": 34
    },
    "colab_type": "code",
    "id": "KA0bSBMTnbLm",
    "outputId": "cdac8c94-928b-46b6-8db1-5b8eb24e65e1"
   },
   "outputs": [
    {
     "name": "stdout",
     "output_type": "stream",
     "text": [
      "(11298, 625)\n"
     ]
    }
   ],
   "source": [
    "signal_data.drop(625, axis=1, inplace=True)\n",
    "print(signal_data.shape)"
   ]
  },
  {
   "cell_type": "markdown",
   "metadata": {
    "colab_type": "text",
    "id": "VzvEOwHvnbLq"
   },
   "source": [
    "Then, we calculate the average of all observations."
   ]
  },
  {
   "cell_type": "code",
   "execution_count": 11,
   "metadata": {
    "colab": {
     "base_uri": "https://localhost:8080/",
     "height": 187
    },
    "colab_type": "code",
    "id": "0P1cYrQRnbLr",
    "outputId": "10b2b744-2d59-46b9-a474-731cc5ef8434",
    "scrolled": false
   },
   "outputs": [
    {
     "name": "stdout",
     "output_type": "stream",
     "text": [
      "1    0.000000e+00\n",
      "2    0.000000e+00\n",
      "3    0.000000e+00\n",
      "4    0.000000e+00\n",
      "5    2.397279e-08\n",
      "6    0.000000e+00\n",
      "7    6.124087e-08\n",
      "8    0.000000e+00\n",
      "9    3.770772e-06\n",
      "dtype: float64\n"
     ]
    }
   ],
   "source": [
    "mean_signal = signal_data.mean()\n",
    "print(mean_signal.iloc[1:10,])"
   ]
  },
  {
   "cell_type": "markdown",
   "metadata": {
    "colab_type": "text",
    "id": "XGBuA0WNnbLv"
   },
   "source": [
    "Now draw the Heatmap"
   ]
  },
  {
   "cell_type": "code",
   "execution_count": 12,
   "metadata": {
    "colab": {
     "base_uri": "https://localhost:8080/",
     "height": 319
    },
    "colab_type": "code",
    "id": "b6BRbkxQnbLw",
    "outputId": "f8b5d6ff-d064-4f5d-dc9b-b804dbfd8d6c"
   },
   "outputs": [
    {
     "name": "stdout",
     "output_type": "stream",
     "text": [
      "(625,)\n",
      "AxesSubplot(0.125,0.125;0.62x0.755)\n"
     ]
    },
    {
     "data": {
      "image/png": "[encoded data removed]",
      "text/plain": [
       "<Figure size 432x288 with 2 Axes>"
      ]
     },
     "metadata": {},
     "output_type": "display_data"
    }
   ],
   "source": [
    "mean_signal_matrix = mean_signal.values\n",
    "print(mean_signal_matrix.shape)\n",
    "mean_signal_matrix = mean_signal_matrix.reshape((25,25))\n",
    "\n",
    "print_heatmap(mean_signal_matrix)"
   ]
  },
  {
   "cell_type": "markdown",
   "metadata": {
    "colab_type": "text",
    "id": "aEOOUi9HnbLz"
   },
   "source": [
    "We then add a last column, with the value of `1`. This last column classify this data as signal data. After creating the full dataset we will rename this column to _class_."
   ]
  },
  {
   "cell_type": "code",
   "execution_count": 13,
   "metadata": {
    "colab": {},
    "colab_type": "code",
    "id": "DzLiP-NpnbL0"
   },
   "outputs": [],
   "source": [
    "signal_data[625] = 1"
   ]
  },
  {
   "cell_type": "code",
   "execution_count": 14,
   "metadata": {
    "colab": {
     "base_uri": "https://localhost:8080/",
     "height": 204
    },
    "colab_type": "code",
    "id": "xgX9Fx5knbL4",
    "outputId": "b1f72256-fd44-4a72-a091-30cf74b386e3"
   },
   "outputs": [
    {
     "data": {
      "text/plain": [
       "0    1\n",
       "1    1\n",
       "2    1\n",
       "3    1\n",
       "4    1\n",
       "5    1\n",
       "6    1\n",
       "7    1\n",
       "8    1\n",
       "9    1\n",
       "Name: 625, dtype: int64"
      ]
     },
     "execution_count": 14,
     "metadata": {},
     "output_type": "execute_result"
    }
   ],
   "source": [
    "signal_data.iloc[0:10,625]"
   ]
  },
  {
   "cell_type": "markdown",
   "metadata": {
    "colab_type": "text",
    "id": "m323sQU-nbL7"
   },
   "source": [
    "After preprocessing the _signal_ data, we will perform the same steps with the _background_ data."
   ]
  },
  {
   "cell_type": "code",
   "execution_count": 15,
   "metadata": {
    "colab": {
     "base_uri": "https://localhost:8080/",
     "height": 241
    },
    "colab_type": "code",
    "id": "qqqRBPzauDRT",
    "outputId": "d1e4c9a4-83eb-466e-c6ca-7886ecf57b97"
   },
   "outputs": [
    {
     "name": "stdout",
     "output_type": "stream",
     "text": [
      "--2020-02-20 15:32:01--  https://github.com/raphaelmcobe/jet-classification/raw/master/background_PU0_13TeV_MJ-65-95_PTJ-250-300_ext.txt\n",
      "Resolvendo github.com (github.com)... 18.228.67.229\n",
      "Conectando-se a github.com (github.com)|18.228.67.229|:443... conectado.\n",
      "A requisição HTTP foi enviada, aguardando resposta... 302 Found\n",
      "Localização: https://raw.githubusercontent.com/raphaelmcobe/jet-classification/master/background_PU0_13TeV_MJ-65-95_PTJ-250-300_ext.txt [redirecionando]\n",
      "--2020-02-20 15:32:02--  https://raw.githubusercontent.com/raphaelmcobe/jet-classification/master/background_PU0_13TeV_MJ-65-95_PTJ-250-300_ext.txt\n",
      "Resolvendo raw.githubusercontent.com (raw.githubusercontent.com)... 151.101.252.133\n",
      "Conectando-se a raw.githubusercontent.com (raw.githubusercontent.com)|151.101.252.133|:443... conectado.\n",
      "A requisição HTTP foi enviada, aguardando resposta... 416 Range Not Satisfiable\n",
      "\n",
      "    O arquivo já foi completamente obtido; não há nada a ser feito.\n",
      "\n"
     ]
    }
   ],
   "source": [
    "!wget -c https://github.com/raphaelmcobe/jet-classification/raw/master/background_PU0_13TeV_MJ-65-95_PTJ-250-300_ext.txt"
   ]
  },
  {
   "cell_type": "code",
   "execution_count": 16,
   "metadata": {
    "colab": {
     "base_uri": "https://localhost:8080/",
     "height": 34
    },
    "colab_type": "code",
    "id": "hhvFnAMOnbL8",
    "outputId": "8b352aa3-9679-4eed-aeea-ef24fc192927"
   },
   "outputs": [
    {
     "name": "stdout",
     "output_type": "stream",
     "text": [
      "(11298, 626)\n"
     ]
    }
   ],
   "source": [
    "backgroud_data = pd.read_table('background_PU0_13TeV_MJ-65-95_PTJ-250-300_ext.txt', header=None, dtype=np.float32)\n",
    "print(backgroud_data.shape)"
   ]
  },
  {
   "cell_type": "code",
   "execution_count": 17,
   "metadata": {
    "colab": {
     "base_uri": "https://localhost:8080/",
     "height": 34
    },
    "colab_type": "code",
    "id": "Ahq3YwGQnbL_",
    "outputId": "404eb34c-5f13-4ab6-a5c9-4c447631297f"
   },
   "outputs": [
    {
     "name": "stdout",
     "output_type": "stream",
     "text": [
      "(11298, 625)\n"
     ]
    }
   ],
   "source": [
    "backgroud_data.drop(625, axis=1, inplace=True)\n",
    "print(backgroud_data.shape)"
   ]
  },
  {
   "cell_type": "code",
   "execution_count": 18,
   "metadata": {
    "colab": {
     "base_uri": "https://localhost:8080/",
     "height": 187
    },
    "colab_type": "code",
    "id": "Y0ybVhPInbMD",
    "outputId": "8047c934-02b9-4ed2-9a43-3fe0d93a7641"
   },
   "outputs": [
    {
     "name": "stdout",
     "output_type": "stream",
     "text": [
      "1    0.000000e+00\n",
      "2    0.000000e+00\n",
      "3    8.339239e-08\n",
      "4    0.000000e+00\n",
      "5    1.226879e-06\n",
      "6    9.698673e-07\n",
      "7    3.696426e-06\n",
      "8    8.896710e-06\n",
      "9    5.325904e-06\n",
      "dtype: float32\n"
     ]
    }
   ],
   "source": [
    "mean_background = backgroud_data.mean()\n",
    "print(mean_background.iloc[1:10,])"
   ]
  },
  {
   "cell_type": "code",
   "execution_count": 19,
   "metadata": {
    "colab": {
     "base_uri": "https://localhost:8080/",
     "height": 319
    },
    "colab_type": "code",
    "id": "Wu7pr57unbMG",
    "outputId": "7495d681-702e-4850-b367-96ad404325c3"
   },
   "outputs": [
    {
     "name": "stdout",
     "output_type": "stream",
     "text": [
      "(625,)\n",
      "AxesSubplot(0.125,0.125;0.62x0.755)\n"
     ]
    },
    {
     "data": {
      "image/png": "[encoded data removed]",
      "text/plain": [
       "<Figure size 432x288 with 2 Axes>"
      ]
     },
     "metadata": {},
     "output_type": "display_data"
    }
   ],
   "source": [
    "mean_background_matrix = mean_background.values\n",
    "print(mean_background_matrix.shape)\n",
    "mean_background_matrix = mean_background_matrix.reshape((25,25))\n",
    "\n",
    "print_heatmap(mean_background_matrix)"
   ]
  },
  {
   "cell_type": "markdown",
   "metadata": {
    "colab_type": "text",
    "id": "ba5vyyHanbMJ"
   },
   "source": [
    "We modify this data, to point out that this is the background data, by setting the last column to `0`."
   ]
  },
  {
   "cell_type": "code",
   "execution_count": 20,
   "metadata": {
    "colab": {},
    "colab_type": "code",
    "id": "VMNphGslnbMK"
   },
   "outputs": [],
   "source": [
    "backgroud_data[625] = 0"
   ]
  },
  {
   "cell_type": "code",
   "execution_count": 21,
   "metadata": {
    "colab": {
     "base_uri": "https://localhost:8080/",
     "height": 204
    },
    "colab_type": "code",
    "id": "nLKSAouNnbMN",
    "outputId": "38c1aa6b-0514-4bf2-f23b-0a5916a213d4"
   },
   "outputs": [
    {
     "data": {
      "text/plain": [
       "0    0\n",
       "1    0\n",
       "2    0\n",
       "3    0\n",
       "4    0\n",
       "5    0\n",
       "6    0\n",
       "7    0\n",
       "8    0\n",
       "9    0\n",
       "Name: 625, dtype: int64"
      ]
     },
     "execution_count": 21,
     "metadata": {},
     "output_type": "execute_result"
    }
   ],
   "source": [
    "backgroud_data.iloc[0:10,625]"
   ]
  },
  {
   "cell_type": "markdown",
   "metadata": {
    "colab_type": "text",
    "id": "msTbbko2nbMU"
   },
   "source": [
    "Now we concatenate the data and shuffle it in order to randomize its columns."
   ]
  },
  {
   "cell_type": "code",
   "execution_count": 22,
   "metadata": {
    "colab": {},
    "colab_type": "code",
    "id": "s-XkRYybnbMV"
   },
   "outputs": [],
   "source": [
    "frames = [signal_data, backgroud_data]\n",
    "full_data = pd.concat(frames)"
   ]
  },
  {
   "cell_type": "code",
   "execution_count": 23,
   "metadata": {
    "colab": {},
    "colab_type": "code",
    "id": "uWm-N06WnbMY"
   },
   "outputs": [],
   "source": [
    "full_data = full_data.sample(frac=1).reset_index(drop=True)\n",
    "full_data.rename(columns={625:'class'}, inplace=True)"
   ]
  },
  {
   "cell_type": "markdown",
   "metadata": {
    "colab_type": "text",
    "id": "3Ge_MLD_nbMc"
   },
   "source": [
    "Now let's examine how our data looks like."
   ]
  },
  {
   "cell_type": "code",
   "execution_count": 24,
   "metadata": {
    "colab": {
     "base_uri": "https://localhost:8080/",
     "height": 419
    },
    "colab_type": "code",
    "id": "WSxW0Hr9nbMe",
    "outputId": "25623541-c0cb-407e-f633-52a222ffe058",
    "scrolled": true
   },
   "outputs": [
    {
     "data": {
      "text/html": [
       "<div>\n",
       "<style scoped>\n",
       "    .dataframe tbody tr th:only-of-type {\n",
       "        vertical-align: middle;\n",
       "    }\n",
       "\n",
       "    .dataframe tbody tr th {\n",
       "        vertical-align: top;\n",
       "    }\n",
       "\n",
       "    .dataframe thead th {\n",
       "        text-align: right;\n",
       "    }\n",
       "</style>\n",
       "<table border=\"1\" class=\"dataframe\">\n",
       "  <thead>\n",
       "    <tr style=\"text-align: right;\">\n",
       "      <th></th>\n",
       "      <th>0</th>\n",
       "      <th>1</th>\n",
       "      <th>2</th>\n",
       "      <th>3</th>\n",
       "      <th>4</th>\n",
       "      <th>5</th>\n",
       "      <th>6</th>\n",
       "      <th>...</th>\n",
       "      <th>619</th>\n",
       "      <th>620</th>\n",
       "      <th>621</th>\n",
       "      <th>622</th>\n",
       "      <th>623</th>\n",
       "      <th>624</th>\n",
       "      <th>class</th>\n",
       "    </tr>\n",
       "  </thead>\n",
       "  <tbody>\n",
       "    <tr>\n",
       "      <th>0</th>\n",
       "      <td>0.00</td>\n",
       "      <td>0.00</td>\n",
       "      <td>0.00</td>\n",
       "      <td>0.00</td>\n",
       "      <td>0.00</td>\n",
       "      <td>0.00</td>\n",
       "      <td>0.00</td>\n",
       "      <td>...</td>\n",
       "      <td>0.00</td>\n",
       "      <td>0.00</td>\n",
       "      <td>0.00</td>\n",
       "      <td>0.00</td>\n",
       "      <td>0.00</td>\n",
       "      <td>0.00</td>\n",
       "      <td>1</td>\n",
       "    </tr>\n",
       "    <tr>\n",
       "      <th>1</th>\n",
       "      <td>0.00</td>\n",
       "      <td>0.00</td>\n",
       "      <td>0.00</td>\n",
       "      <td>0.00</td>\n",
       "      <td>0.00</td>\n",
       "      <td>0.00</td>\n",
       "      <td>0.00</td>\n",
       "      <td>...</td>\n",
       "      <td>0.00</td>\n",
       "      <td>0.00</td>\n",
       "      <td>0.00</td>\n",
       "      <td>0.00</td>\n",
       "      <td>0.00</td>\n",
       "      <td>0.00</td>\n",
       "      <td>1</td>\n",
       "    </tr>\n",
       "    <tr>\n",
       "      <th>2</th>\n",
       "      <td>0.00</td>\n",
       "      <td>0.00</td>\n",
       "      <td>0.00</td>\n",
       "      <td>0.00</td>\n",
       "      <td>0.00</td>\n",
       "      <td>0.00</td>\n",
       "      <td>0.00</td>\n",
       "      <td>...</td>\n",
       "      <td>0.00</td>\n",
       "      <td>0.00</td>\n",
       "      <td>0.00</td>\n",
       "      <td>0.00</td>\n",
       "      <td>0.00</td>\n",
       "      <td>0.00</td>\n",
       "      <td>0</td>\n",
       "    </tr>\n",
       "    <tr>\n",
       "      <th>3</th>\n",
       "      <td>0.00</td>\n",
       "      <td>0.00</td>\n",
       "      <td>0.00</td>\n",
       "      <td>0.00</td>\n",
       "      <td>0.00</td>\n",
       "      <td>0.00</td>\n",
       "      <td>0.00</td>\n",
       "      <td>...</td>\n",
       "      <td>0.00</td>\n",
       "      <td>0.00</td>\n",
       "      <td>0.00</td>\n",
       "      <td>0.00</td>\n",
       "      <td>0.00</td>\n",
       "      <td>0.00</td>\n",
       "      <td>0</td>\n",
       "    </tr>\n",
       "    <tr>\n",
       "      <th>4</th>\n",
       "      <td>0.00</td>\n",
       "      <td>0.00</td>\n",
       "      <td>0.00</td>\n",
       "      <td>0.00</td>\n",
       "      <td>0.00</td>\n",
       "      <td>0.00</td>\n",
       "      <td>0.00</td>\n",
       "      <td>...</td>\n",
       "      <td>0.00</td>\n",
       "      <td>0.00</td>\n",
       "      <td>0.00</td>\n",
       "      <td>0.00</td>\n",
       "      <td>0.00</td>\n",
       "      <td>0.00</td>\n",
       "      <td>0</td>\n",
       "    </tr>\n",
       "    <tr>\n",
       "      <th>...</th>\n",
       "      <td>...</td>\n",
       "      <td>...</td>\n",
       "      <td>...</td>\n",
       "      <td>...</td>\n",
       "      <td>...</td>\n",
       "      <td>...</td>\n",
       "      <td>...</td>\n",
       "      <td>...</td>\n",
       "      <td>...</td>\n",
       "      <td>...</td>\n",
       "      <td>...</td>\n",
       "      <td>...</td>\n",
       "      <td>...</td>\n",
       "      <td>...</td>\n",
       "      <td>...</td>\n",
       "    </tr>\n",
       "    <tr>\n",
       "      <th>22591</th>\n",
       "      <td>0.00</td>\n",
       "      <td>0.00</td>\n",
       "      <td>0.00</td>\n",
       "      <td>0.00</td>\n",
       "      <td>0.00</td>\n",
       "      <td>0.00</td>\n",
       "      <td>0.00</td>\n",
       "      <td>...</td>\n",
       "      <td>0.00</td>\n",
       "      <td>0.00</td>\n",
       "      <td>0.00</td>\n",
       "      <td>0.00</td>\n",
       "      <td>0.00</td>\n",
       "      <td>0.00</td>\n",
       "      <td>0</td>\n",
       "    </tr>\n",
       "    <tr>\n",
       "      <th>22592</th>\n",
       "      <td>0.00</td>\n",
       "      <td>0.00</td>\n",
       "      <td>0.00</td>\n",
       "      <td>0.00</td>\n",
       "      <td>0.00</td>\n",
       "      <td>0.00</td>\n",
       "      <td>0.00</td>\n",
       "      <td>...</td>\n",
       "      <td>0.00</td>\n",
       "      <td>0.00</td>\n",
       "      <td>0.00</td>\n",
       "      <td>0.00</td>\n",
       "      <td>0.00</td>\n",
       "      <td>0.00</td>\n",
       "      <td>0</td>\n",
       "    </tr>\n",
       "    <tr>\n",
       "      <th>22593</th>\n",
       "      <td>0.00</td>\n",
       "      <td>0.00</td>\n",
       "      <td>0.00</td>\n",
       "      <td>0.00</td>\n",
       "      <td>0.00</td>\n",
       "      <td>0.00</td>\n",
       "      <td>0.00</td>\n",
       "      <td>...</td>\n",
       "      <td>0.00</td>\n",
       "      <td>0.00</td>\n",
       "      <td>0.00</td>\n",
       "      <td>0.00</td>\n",
       "      <td>0.00</td>\n",
       "      <td>0.00</td>\n",
       "      <td>0</td>\n",
       "    </tr>\n",
       "    <tr>\n",
       "      <th>22594</th>\n",
       "      <td>0.00</td>\n",
       "      <td>0.00</td>\n",
       "      <td>0.00</td>\n",
       "      <td>0.00</td>\n",
       "      <td>0.00</td>\n",
       "      <td>0.00</td>\n",
       "      <td>0.00</td>\n",
       "      <td>...</td>\n",
       "      <td>0.00</td>\n",
       "      <td>0.00</td>\n",
       "      <td>0.00</td>\n",
       "      <td>0.00</td>\n",
       "      <td>0.00</td>\n",
       "      <td>0.00</td>\n",
       "      <td>0</td>\n",
       "    </tr>\n",
       "    <tr>\n",
       "      <th>22595</th>\n",
       "      <td>0.00</td>\n",
       "      <td>0.00</td>\n",
       "      <td>0.00</td>\n",
       "      <td>0.00</td>\n",
       "      <td>0.00</td>\n",
       "      <td>0.00</td>\n",
       "      <td>0.00</td>\n",
       "      <td>...</td>\n",
       "      <td>0.00</td>\n",
       "      <td>0.00</td>\n",
       "      <td>0.00</td>\n",
       "      <td>0.00</td>\n",
       "      <td>0.00</td>\n",
       "      <td>0.00</td>\n",
       "      <td>0</td>\n",
       "    </tr>\n",
       "  </tbody>\n",
       "</table>\n",
       "<p>22596 rows × 626 columns</p>\n",
       "</div>"
      ],
      "text/plain": [
       "         0    1    2    3    4    5    6  ...  619  620  621  622  623  624  \\\n",
       "0     0.00 0.00 0.00 0.00 0.00 0.00 0.00  ... 0.00 0.00 0.00 0.00 0.00 0.00   \n",
       "1     0.00 0.00 0.00 0.00 0.00 0.00 0.00  ... 0.00 0.00 0.00 0.00 0.00 0.00   \n",
       "2     0.00 0.00 0.00 0.00 0.00 0.00 0.00  ... 0.00 0.00 0.00 0.00 0.00 0.00   \n",
       "3     0.00 0.00 0.00 0.00 0.00 0.00 0.00  ... 0.00 0.00 0.00 0.00 0.00 0.00   \n",
       "4     0.00 0.00 0.00 0.00 0.00 0.00 0.00  ... 0.00 0.00 0.00 0.00 0.00 0.00   \n",
       "...    ...  ...  ...  ...  ...  ...  ...  ...  ...  ...  ...  ...  ...  ...   \n",
       "22591 0.00 0.00 0.00 0.00 0.00 0.00 0.00  ... 0.00 0.00 0.00 0.00 0.00 0.00   \n",
       "22592 0.00 0.00 0.00 0.00 0.00 0.00 0.00  ... 0.00 0.00 0.00 0.00 0.00 0.00   \n",
       "22593 0.00 0.00 0.00 0.00 0.00 0.00 0.00  ... 0.00 0.00 0.00 0.00 0.00 0.00   \n",
       "22594 0.00 0.00 0.00 0.00 0.00 0.00 0.00  ... 0.00 0.00 0.00 0.00 0.00 0.00   \n",
       "22595 0.00 0.00 0.00 0.00 0.00 0.00 0.00  ... 0.00 0.00 0.00 0.00 0.00 0.00   \n",
       "\n",
       "       class  \n",
       "0          1  \n",
       "1          1  \n",
       "2          0  \n",
       "3          0  \n",
       "4          0  \n",
       "...      ...  \n",
       "22591      0  \n",
       "22592      0  \n",
       "22593      0  \n",
       "22594      0  \n",
       "22595      0  \n",
       "\n",
       "[22596 rows x 626 columns]"
      ]
     },
     "metadata": {},
     "output_type": "display_data"
    }
   ],
   "source": [
    "from IPython.core.display import display\n",
    "with pd.option_context('display.max_rows', 200, 'display.max_columns', 15, \n",
    "                       'display.float_format', '{:.2f}'.format):\n",
    "    display(full_data)"
   ]
  },
  {
   "cell_type": "markdown",
   "metadata": {
    "colab_type": "text",
    "id": "s8esvBX-nbMh"
   },
   "source": [
    "# Defining and Training the model"
   ]
  },
  {
   "cell_type": "markdown",
   "metadata": {
    "colab_type": "text",
    "id": "hNpOe50onbMi"
   },
   "source": [
    "Split the full dataset into _test_ and _train_ data in a 70-30% rate."
   ]
  },
  {
   "cell_type": "code",
   "execution_count": 25,
   "metadata": {
    "colab": {
     "base_uri": "https://localhost:8080/",
     "height": 51
    },
    "colab_type": "code",
    "id": "pPpuYleJnbMj",
    "outputId": "f9374b9a-e861-46d5-fc04-a4ebc6b7d30e"
   },
   "outputs": [
    {
     "name": "stdout",
     "output_type": "stream",
     "text": [
      "(15817, 626)\n",
      "(6779, 626)\n"
     ]
    }
   ],
   "source": [
    "train_data, test_data = train_test_split(full_data, test_size = 0.3)\n",
    "print(train_data.shape)\n",
    "\n",
    "print(test_data.shape)"
   ]
  },
  {
   "cell_type": "markdown",
   "metadata": {
    "colab_type": "text",
    "id": "bkBBwObWnbMl"
   },
   "source": [
    "The _Keras_ framework, in order to train its network must receive the dependent and independent variables in  separated tables."
   ]
  },
  {
   "cell_type": "code",
   "execution_count": 26,
   "metadata": {
    "colab": {
     "base_uri": "https://localhost:8080/",
     "height": 51
    },
    "colab_type": "code",
    "id": "HkCO2uPhnbMm",
    "outputId": "ddf27960-5aae-4b09-989b-2b1fd0d22778"
   },
   "outputs": [
    {
     "name": "stdout",
     "output_type": "stream",
     "text": [
      "(15817, 625)\n",
      "(15817, 1)\n"
     ]
    }
   ],
   "source": [
    "X_train = train_data.iloc[:, :-1]\n",
    "print(X_train.shape)\n",
    "Y_train = train_data.iloc[:,-1:]\n",
    "print(Y_train.shape)"
   ]
  },
  {
   "cell_type": "code",
   "execution_count": 27,
   "metadata": {
    "colab": {
     "base_uri": "https://localhost:8080/",
     "height": 51
    },
    "colab_type": "code",
    "id": "xiaLXKItnbMq",
    "outputId": "97b8e451-fe0e-4c52-ecfb-38811d41599c"
   },
   "outputs": [
    {
     "name": "stdout",
     "output_type": "stream",
     "text": [
      "(6779, 625)\n",
      "(6779, 1)\n"
     ]
    }
   ],
   "source": [
    "X_test = test_data.iloc[:, :-1]\n",
    "print(X_test.shape)\n",
    "Y_test = test_data.iloc[:,-1:]\n",
    "print(Y_test.shape)"
   ]
  },
  {
   "cell_type": "markdown",
   "metadata": {
    "colab_type": "text",
    "id": "N-iHnkB2nbMs"
   },
   "source": [
    "We must convert the dependent variable to be a probability distribution of the possible outcomes, thus, a value of output `1` must become the probabilities `(0, 1)`. Conversely, a `0` outcome value must become the pair `(1, 0)`."
   ]
  },
  {
   "cell_type": "code",
   "execution_count": 28,
   "metadata": {
    "colab": {},
    "colab_type": "code",
    "id": "MjeHiPhhnbMt"
   },
   "outputs": [],
   "source": [
    "Y_train = to_categorical(Y_train.values, num_classes=2)"
   ]
  },
  {
   "cell_type": "markdown",
   "metadata": {
    "colab_type": "text",
    "id": "0Tjr8XEjnbMw"
   },
   "source": [
    "## Neural Network Architecture Definition"
   ]
  },
  {
   "cell_type": "markdown",
   "metadata": {
    "colab_type": "text",
    "id": "APGfrj38nbMw"
   },
   "source": [
    "We defined a simple NN, with only two hidden layer."
   ]
  },
  {
   "cell_type": "code",
   "execution_count": 30,
   "metadata": {
    "colab": {},
    "colab_type": "code",
    "id": "esvYiwjonbMx"
   },
   "outputs": [],
   "source": [
    "dimof_input = X_train.shape[1]\n",
    "model = Sequential()\n",
    "model.add(Dense(units=400, activation='relu', input_dim=dimof_input))\n",
    "model.add(Dropout(0.1))\n",
    "model.add(Dense(units=210, activation='elu', input_dim=dimof_input))\n",
    "model.add(Dropout(0.1))\n",
    "model.add(Dense(units=105, activation='elu', input_dim=dimof_input))\n",
    "model.add(Dropout(0.1))\n",
    "model.add(Dense(units=50, activation='elu', input_dim=dimof_input))\n",
    "model.add(Dropout(0.1))\n",
    "model.add(Dense(units=25, activation='elu', input_dim=dimof_input))\n",
    "model.add(Dropout(0.1))\n",
    "model.add(Dense(units=12, activation='elu', input_dim=dimof_input))\n",
    "model.add(Dropout(0.1))\n",
    "model.add(Dense(units=6, activation='elu', input_dim=dimof_input))\n",
    "model.add(Dropout(0.1))\n",
    "model.add(Dense(units=2))\n",
    "model.compile(loss='mean_squared_logarithmic_error', optimizer='adam', \n",
    "              metrics=[\"accuracy\"])"
   ]
  },
  {
   "cell_type": "markdown",
   "metadata": {
    "colab_type": "text",
    "id": "nslkXkT3nbM0"
   },
   "source": [
    "After defining the NN architecture we train it using the `fit` method. We trained it for 50 epochs (backpropagation cycles). "
   ]
  },
  {
   "cell_type": "code",
   "execution_count": 31,
   "metadata": {
    "colab": {
     "base_uri": "https://localhost:8080/",
     "height": 34
    },
    "colab_type": "code",
    "id": "2HmtAhYAnbM0",
    "outputId": "5331e10a-c3e5-425a-a854-0884405c3435"
   },
   "outputs": [
    {
     "name": "stdout",
     "output_type": "stream",
     "text": [
      "Train on 15817 samples\n",
      "Epoch 1/350\n",
      "15817/15817 [==============================] - 3s 160us/sample - loss: 0.1095 - accuracy: 0.6750\n",
      "Epoch 2/350\n",
      "15817/15817 [==============================] - 0s 31us/sample - loss: 0.0934 - accuracy: 0.7336\n",
      "Epoch 3/350\n",
      "15817/15817 [==============================] - 0s 32us/sample - loss: 0.0878 - accuracy: 0.7506\n",
      "Epoch 4/350\n",
      "15817/15817 [==============================] - 1s 32us/sample - loss: 0.0822 - accuracy: 0.7689\n",
      "Epoch 5/350\n",
      "15817/15817 [==============================] - 1s 32us/sample - loss: 0.0793 - accuracy: 0.7782\n",
      "Epoch 6/350\n",
      "15817/15817 [==============================] - 0s 32us/sample - loss: 0.0751 - accuracy: 0.7899\n",
      "Epoch 7/350\n",
      "15817/15817 [==============================] - 1s 32us/sample - loss: 0.0710 - accuracy: 0.8039\n",
      "Epoch 8/350\n",
      "15817/15817 [==============================] - 1s 32us/sample - loss: 0.0687 - accuracy: 0.8125\n",
      "Epoch 9/350\n",
      "15817/15817 [==============================] - 0s 31us/sample - loss: 0.0667 - accuracy: 0.8178\n",
      "Epoch 10/350\n",
      "15817/15817 [==============================] - 1s 32us/sample - loss: 0.0634 - accuracy: 0.8278\n",
      "Epoch 11/350\n",
      "15817/15817 [==============================] - 1s 33us/sample - loss: 0.0615 - accuracy: 0.8354\n",
      "Epoch 12/350\n",
      "15817/15817 [==============================] - 1s 33us/sample - loss: 0.0592 - accuracy: 0.8424\n",
      "Epoch 13/350\n",
      "15817/15817 [==============================] - 1s 32us/sample - loss: 0.0574 - accuracy: 0.8500\n",
      "Epoch 14/350\n",
      "15817/15817 [==============================] - 1s 32us/sample - loss: 0.0554 - accuracy: 0.8537\n",
      "Epoch 15/350\n",
      "15817/15817 [==============================] - 0s 31us/sample - loss: 0.0535 - accuracy: 0.8588\n",
      "Epoch 16/350\n",
      "15817/15817 [==============================] - 1s 32us/sample - loss: 0.0512 - accuracy: 0.8673\n",
      "Epoch 17/350\n",
      "15817/15817 [==============================] - 1s 32us/sample - loss: 0.0501 - accuracy: 0.8708\n",
      "Epoch 18/350\n",
      "15817/15817 [==============================] - 1s 32us/sample - loss: 0.0493 - accuracy: 0.8711\n",
      "Epoch 19/350\n",
      "15817/15817 [==============================] - 1s 32us/sample - loss: 0.0476 - accuracy: 0.8780\n",
      "Epoch 20/350\n",
      "15817/15817 [==============================] - 1s 32us/sample - loss: 0.0459 - accuracy: 0.8818\n",
      "Epoch 21/350\n",
      "15817/15817 [==============================] - 1s 32us/sample - loss: 0.0444 - accuracy: 0.8870\n",
      "Epoch 22/350\n",
      "15817/15817 [==============================] - 1s 32us/sample - loss: 0.0427 - accuracy: 0.8933\n",
      "Epoch 23/350\n",
      "15817/15817 [==============================] - 1s 36us/sample - loss: 0.0436 - accuracy: 0.8875\n",
      "Epoch 24/350\n",
      "15817/15817 [==============================] - 0s 31us/sample - loss: 0.0408 - accuracy: 0.8980\n",
      "Epoch 25/350\n",
      "15817/15817 [==============================] - 0s 31us/sample - loss: 0.0402 - accuracy: 0.8997\n",
      "Epoch 26/350\n",
      "15817/15817 [==============================] - 1s 32us/sample - loss: 0.0405 - accuracy: 0.8980\n",
      "Epoch 27/350\n",
      "15817/15817 [==============================] - 0s 31us/sample - loss: 0.0399 - accuracy: 0.9018\n",
      "Epoch 28/350\n",
      "15817/15817 [==============================] - 0s 31us/sample - loss: 0.0382 - accuracy: 0.9061\n",
      "Epoch 29/350\n",
      "15817/15817 [==============================] - 0s 31us/sample - loss: 0.0368 - accuracy: 0.9095\n",
      "Epoch 30/350\n",
      "15817/15817 [==============================] - 0s 31us/sample - loss: 0.0371 - accuracy: 0.9082\n",
      "Epoch 31/350\n",
      "15817/15817 [==============================] - 1s 33us/sample - loss: 0.0348 - accuracy: 0.9160\n",
      "Epoch 32/350\n",
      "15817/15817 [==============================] - 1s 34us/sample - loss: 0.0371 - accuracy: 0.9063\n",
      "Epoch 33/350\n",
      "15817/15817 [==============================] - 1s 35us/sample - loss: 0.0344 - accuracy: 0.9152\n",
      "Epoch 34/350\n",
      "15817/15817 [==============================] - 1s 34us/sample - loss: 0.0339 - accuracy: 0.9181\n",
      "Epoch 35/350\n",
      "15817/15817 [==============================] - 1s 35us/sample - loss: 0.0333 - accuracy: 0.9185\n",
      "Epoch 36/350\n",
      "15817/15817 [==============================] - 1s 35us/sample - loss: 0.0327 - accuracy: 0.9196\n",
      "Epoch 37/350\n",
      "15817/15817 [==============================] - 1s 35us/sample - loss: 0.0324 - accuracy: 0.9207\n",
      "Epoch 38/350\n",
      "15817/15817 [==============================] - 0s 31us/sample - loss: 0.0317 - accuracy: 0.9229\n",
      "Epoch 39/350\n",
      "15817/15817 [==============================] - 1s 34us/sample - loss: 0.0313 - accuracy: 0.9241\n",
      "Epoch 40/350\n",
      "15817/15817 [==============================] - 0s 31us/sample - loss: 0.0303 - accuracy: 0.9260\n",
      "Epoch 41/350\n",
      "15817/15817 [==============================] - 1s 37us/sample - loss: 0.0292 - accuracy: 0.9302\n",
      "Epoch 42/350\n",
      "15817/15817 [==============================] - 1s 39us/sample - loss: 0.0308 - accuracy: 0.9248\n",
      "Epoch 43/350\n",
      "15817/15817 [==============================] - 1s 36us/sample - loss: 0.0295 - accuracy: 0.9273\n",
      "Epoch 44/350\n",
      "15817/15817 [==============================] - 1s 32us/sample - loss: 0.0286 - accuracy: 0.9306\n",
      "Epoch 45/350\n",
      "15817/15817 [==============================] - 1s 32us/sample - loss: 0.0294 - accuracy: 0.9277\n",
      "Epoch 46/350\n",
      "15817/15817 [==============================] - 1s 32us/sample - loss: 0.0282 - accuracy: 0.9316\n",
      "Epoch 47/350\n",
      "15817/15817 [==============================] - 1s 32us/sample - loss: 0.0287 - accuracy: 0.9306\n",
      "Epoch 48/350\n",
      "15817/15817 [==============================] - 1s 32us/sample - loss: 0.0275 - accuracy: 0.9335\n",
      "Epoch 49/350\n",
      "15817/15817 [==============================] - 0s 32us/sample - loss: 0.0292 - accuracy: 0.9279\n",
      "Epoch 50/350\n",
      "15817/15817 [==============================] - 0s 32us/sample - loss: 0.0274 - accuracy: 0.9332\n",
      "Epoch 51/350\n",
      "15817/15817 [==============================] - 1s 32us/sample - loss: 0.0261 - accuracy: 0.9365\n",
      "Epoch 52/350\n",
      "15817/15817 [==============================] - 1s 32us/sample - loss: 0.0262 - accuracy: 0.9373\n",
      "Epoch 53/350\n",
      "15817/15817 [==============================] - 1s 32us/sample - loss: 0.0263 - accuracy: 0.9362\n",
      "Epoch 54/350\n",
      "15817/15817 [==============================] - 1s 32us/sample - loss: 0.0255 - accuracy: 0.9396\n",
      "Epoch 55/350\n",
      "15817/15817 [==============================] - 0s 31us/sample - loss: 0.0256 - accuracy: 0.9391\n",
      "Epoch 56/350\n",
      "15817/15817 [==============================] - 0s 31us/sample - loss: 0.0252 - accuracy: 0.9392\n",
      "Epoch 57/350\n",
      "15817/15817 [==============================] - 0s 31us/sample - loss: 0.0258 - accuracy: 0.9381\n",
      "Epoch 58/350\n",
      "15817/15817 [==============================] - 0s 32us/sample - loss: 0.0239 - accuracy: 0.9425\n",
      "Epoch 59/350\n",
      "15817/15817 [==============================] - 0s 31us/sample - loss: 0.0241 - accuracy: 0.9431\n",
      "Epoch 60/350\n",
      "15817/15817 [==============================] - 0s 31us/sample - loss: 0.0258 - accuracy: 0.9372\n",
      "Epoch 61/350\n",
      "15817/15817 [==============================] - 0s 31us/sample - loss: 0.0246 - accuracy: 0.9406\n",
      "Epoch 62/350\n",
      "15817/15817 [==============================] - 0s 31us/sample - loss: 0.0239 - accuracy: 0.9433\n",
      "Epoch 63/350\n",
      "15817/15817 [==============================] - 0s 31us/sample - loss: 0.0240 - accuracy: 0.9425\n",
      "Epoch 64/350\n",
      "15817/15817 [==============================] - 0s 31us/sample - loss: 0.0236 - accuracy: 0.9441\n",
      "Epoch 65/350\n",
      "15817/15817 [==============================] - 0s 31us/sample - loss: 0.0228 - accuracy: 0.9458\n",
      "Epoch 66/350\n",
      "15817/15817 [==============================] - 0s 31us/sample - loss: 0.0225 - accuracy: 0.9482\n",
      "Epoch 67/350\n",
      "15817/15817 [==============================] - 0s 31us/sample - loss: 0.0245 - accuracy: 0.9413\n",
      "Epoch 68/350\n",
      "15817/15817 [==============================] - 1s 32us/sample - loss: 0.0224 - accuracy: 0.9472\n",
      "Epoch 69/350\n",
      "15817/15817 [==============================] - 0s 31us/sample - loss: 0.0228 - accuracy: 0.9468\n",
      "Epoch 70/350\n",
      "15817/15817 [==============================] - 0s 31us/sample - loss: 0.0234 - accuracy: 0.9461\n",
      "Epoch 71/350\n",
      "15817/15817 [==============================] - 1s 33us/sample - loss: 0.0230 - accuracy: 0.9467\n",
      "Epoch 72/350\n",
      "15817/15817 [==============================] - 1s 32us/sample - loss: 0.0235 - accuracy: 0.9448\n",
      "Epoch 73/350\n",
      "15817/15817 [==============================] - 1s 32us/sample - loss: 0.0220 - accuracy: 0.9482\n",
      "Epoch 74/350\n",
      "15817/15817 [==============================] - 1s 34us/sample - loss: 0.0234 - accuracy: 0.9429\n",
      "Epoch 75/350\n",
      "15817/15817 [==============================] - 1s 33us/sample - loss: 0.0227 - accuracy: 0.9469\n",
      "Epoch 76/350\n"
     ]
    },
    {
     "name": "stdout",
     "output_type": "stream",
     "text": [
      "15817/15817 [==============================] - 1s 32us/sample - loss: 0.0215 - accuracy: 0.9501\n",
      "Epoch 77/350\n",
      "15817/15817 [==============================] - 0s 31us/sample - loss: 0.0206 - accuracy: 0.9514\n",
      "Epoch 78/350\n",
      "15817/15817 [==============================] - 1s 32us/sample - loss: 0.0211 - accuracy: 0.9507\n",
      "Epoch 79/350\n",
      "15817/15817 [==============================] - 1s 37us/sample - loss: 0.0215 - accuracy: 0.9493\n",
      "Epoch 80/350\n",
      "15817/15817 [==============================] - 1s 32us/sample - loss: 0.0219 - accuracy: 0.9479\n",
      "Epoch 81/350\n",
      "15817/15817 [==============================] - 1s 32us/sample - loss: 0.0213 - accuracy: 0.9507\n",
      "Epoch 82/350\n",
      "15817/15817 [==============================] - 1s 32us/sample - loss: 0.0213 - accuracy: 0.9504\n",
      "Epoch 83/350\n",
      "15817/15817 [==============================] - 1s 34us/sample - loss: 0.0208 - accuracy: 0.9511\n",
      "Epoch 84/350\n",
      "15817/15817 [==============================] - 1s 33us/sample - loss: 0.0211 - accuracy: 0.9501\n",
      "Epoch 85/350\n",
      "15817/15817 [==============================] - 1s 32us/sample - loss: 0.0213 - accuracy: 0.9507\n",
      "Epoch 86/350\n",
      "15817/15817 [==============================] - 1s 32us/sample - loss: 0.0213 - accuracy: 0.9498\n",
      "Epoch 87/350\n",
      "15817/15817 [==============================] - 1s 34us/sample - loss: 0.0210 - accuracy: 0.9496\n",
      "Epoch 88/350\n",
      "15817/15817 [==============================] - 1s 36us/sample - loss: 0.0193 - accuracy: 0.9552\n",
      "Epoch 89/350\n",
      "15817/15817 [==============================] - 1s 33us/sample - loss: 0.0209 - accuracy: 0.9506\n",
      "Epoch 90/350\n",
      "15817/15817 [==============================] - 1s 32us/sample - loss: 0.0206 - accuracy: 0.9520\n",
      "Epoch 91/350\n",
      "15817/15817 [==============================] - 1s 32us/sample - loss: 0.0191 - accuracy: 0.9565\n",
      "Epoch 92/350\n",
      "15817/15817 [==============================] - 1s 32us/sample - loss: 0.0197 - accuracy: 0.9543\n",
      "Epoch 93/350\n",
      "15817/15817 [==============================] - 1s 32us/sample - loss: 0.0195 - accuracy: 0.9544\n",
      "Epoch 94/350\n",
      "15817/15817 [==============================] - 1s 32us/sample - loss: 0.0180 - accuracy: 0.9597\n",
      "Epoch 95/350\n",
      "15817/15817 [==============================] - 0s 31us/sample - loss: 0.0194 - accuracy: 0.9547\n",
      "Epoch 96/350\n",
      "15817/15817 [==============================] - 1s 32us/sample - loss: 0.0182 - accuracy: 0.9578\n",
      "Epoch 97/350\n",
      "15817/15817 [==============================] - 0s 31us/sample - loss: 0.0190 - accuracy: 0.9554\n",
      "Epoch 98/350\n",
      "15817/15817 [==============================] - 0s 32us/sample - loss: 0.0192 - accuracy: 0.9562\n",
      "Epoch 99/350\n",
      "15817/15817 [==============================] - 0s 32us/sample - loss: 0.0190 - accuracy: 0.9566\n",
      "Epoch 100/350\n",
      "15817/15817 [==============================] - 0s 31us/sample - loss: 0.0184 - accuracy: 0.9565\n",
      "Epoch 101/350\n",
      "15817/15817 [==============================] - 1s 32us/sample - loss: 0.0187 - accuracy: 0.9569\n",
      "Epoch 102/350\n",
      "15817/15817 [==============================] - 0s 32us/sample - loss: 0.0190 - accuracy: 0.9549\n",
      "Epoch 103/350\n",
      "15817/15817 [==============================] - 0s 31us/sample - loss: 0.0178 - accuracy: 0.9594\n",
      "Epoch 104/350\n",
      "15817/15817 [==============================] - 1s 32us/sample - loss: 0.0171 - accuracy: 0.9590\n",
      "Epoch 105/350\n",
      "15817/15817 [==============================] - 0s 31us/sample - loss: 0.0173 - accuracy: 0.9613\n",
      "Epoch 106/350\n",
      "15817/15817 [==============================] - 0s 31us/sample - loss: 0.0167 - accuracy: 0.9625\n",
      "Epoch 107/350\n",
      "15817/15817 [==============================] - 0s 31us/sample - loss: 0.0173 - accuracy: 0.9596\n",
      "Epoch 108/350\n",
      "15817/15817 [==============================] - 0s 32us/sample - loss: 0.0180 - accuracy: 0.9577\n",
      "Epoch 109/350\n",
      "15817/15817 [==============================] - 1s 32us/sample - loss: 0.0166 - accuracy: 0.9616\n",
      "Epoch 110/350\n",
      "15817/15817 [==============================] - 0s 31us/sample - loss: 0.0164 - accuracy: 0.9628\n",
      "Epoch 111/350\n",
      "15817/15817 [==============================] - 0s 31us/sample - loss: 0.0169 - accuracy: 0.9611\n",
      "Epoch 112/350\n",
      "15817/15817 [==============================] - 1s 34us/sample - loss: 0.0170 - accuracy: 0.9606\n",
      "Epoch 113/350\n",
      "15817/15817 [==============================] - 1s 34us/sample - loss: 0.0167 - accuracy: 0.9621\n",
      "Epoch 114/350\n",
      "15817/15817 [==============================] - 1s 32us/sample - loss: 0.0180 - accuracy: 0.9590\n",
      "Epoch 115/350\n",
      "15817/15817 [==============================] - 1s 33us/sample - loss: 0.0170 - accuracy: 0.9607\n",
      "Epoch 116/350\n",
      "15817/15817 [==============================] - 0s 32us/sample - loss: 0.0162 - accuracy: 0.9631\n",
      "Epoch 117/350\n",
      "15817/15817 [==============================] - 1s 33us/sample - loss: 0.0160 - accuracy: 0.9628\n",
      "Epoch 118/350\n",
      "15817/15817 [==============================] - 1s 34us/sample - loss: 0.0155 - accuracy: 0.9652\n",
      "Epoch 119/350\n",
      "15817/15817 [==============================] - 0s 31us/sample - loss: 0.0168 - accuracy: 0.9620\n",
      "Epoch 120/350\n",
      "15817/15817 [==============================] - 1s 34us/sample - loss: 0.0158 - accuracy: 0.9638\n",
      "Epoch 121/350\n",
      "15817/15817 [==============================] - 1s 33us/sample - loss: 0.0167 - accuracy: 0.9612\n",
      "Epoch 122/350\n",
      "15817/15817 [==============================] - 1s 32us/sample - loss: 0.0155 - accuracy: 0.9646\n",
      "Epoch 123/350\n",
      "15817/15817 [==============================] - 1s 34us/sample - loss: 0.0161 - accuracy: 0.9635\n",
      "Epoch 124/350\n",
      "15817/15817 [==============================] - 1s 33us/sample - loss: 0.0153 - accuracy: 0.9659\n",
      "Epoch 125/350\n",
      "15817/15817 [==============================] - 0s 32us/sample - loss: 0.0160 - accuracy: 0.9633\n",
      "Epoch 126/350\n",
      "15817/15817 [==============================] - 0s 31us/sample - loss: 0.0152 - accuracy: 0.9649\n",
      "Epoch 127/350\n",
      "15817/15817 [==============================] - 0s 31us/sample - loss: 0.0158 - accuracy: 0.9631\n",
      "Epoch 128/350\n",
      "15817/15817 [==============================] - 0s 31us/sample - loss: 0.0150 - accuracy: 0.9665\n",
      "Epoch 129/350\n",
      "15817/15817 [==============================] - 0s 31us/sample - loss: 0.0163 - accuracy: 0.9628\n",
      "Epoch 130/350\n",
      "15817/15817 [==============================] - 0s 32us/sample - loss: 0.0149 - accuracy: 0.9663\n",
      "Epoch 131/350\n",
      "15817/15817 [==============================] - 0s 31us/sample - loss: 0.0154 - accuracy: 0.9657\n",
      "Epoch 132/350\n",
      "15817/15817 [==============================] - 0s 32us/sample - loss: 0.0152 - accuracy: 0.9645\n",
      "Epoch 133/350\n",
      "15817/15817 [==============================] - 0s 31us/sample - loss: 0.0150 - accuracy: 0.9663\n",
      "Epoch 134/350\n",
      "15817/15817 [==============================] - 0s 31us/sample - loss: 0.0148 - accuracy: 0.9675\n",
      "Epoch 135/350\n",
      "15817/15817 [==============================] - 0s 31us/sample - loss: 0.0150 - accuracy: 0.9658\n",
      "Epoch 136/350\n",
      "15817/15817 [==============================] - 0s 31us/sample - loss: 0.0157 - accuracy: 0.9642\n",
      "Epoch 137/350\n",
      "15817/15817 [==============================] - 0s 31us/sample - loss: 0.0148 - accuracy: 0.9663\n",
      "Epoch 138/350\n",
      "15817/15817 [==============================] - 1s 32us/sample - loss: 0.0146 - accuracy: 0.9676\n",
      "Epoch 139/350\n",
      "15817/15817 [==============================] - 1s 32us/sample - loss: 0.0141 - accuracy: 0.9691\n",
      "Epoch 140/350\n",
      "15817/15817 [==============================] - 0s 31us/sample - loss: 0.0145 - accuracy: 0.9662\n",
      "Epoch 141/350\n",
      "15817/15817 [==============================] - 1s 32us/sample - loss: 0.0145 - accuracy: 0.9669\n",
      "Epoch 142/350\n",
      "15817/15817 [==============================] - 1s 34us/sample - loss: 0.0155 - accuracy: 0.9640\n",
      "Epoch 143/350\n",
      "15817/15817 [==============================] - 1s 32us/sample - loss: 0.0133 - accuracy: 0.9702\n",
      "Epoch 144/350\n",
      "15817/15817 [==============================] - 0s 32us/sample - loss: 0.0155 - accuracy: 0.9640\n",
      "Epoch 145/350\n",
      "15817/15817 [==============================] - 1s 32us/sample - loss: 0.0137 - accuracy: 0.9681\n",
      "Epoch 146/350\n",
      "15817/15817 [==============================] - 1s 32us/sample - loss: 0.0137 - accuracy: 0.9691\n",
      "Epoch 147/350\n",
      "15817/15817 [==============================] - 1s 32us/sample - loss: 0.0142 - accuracy: 0.9681\n",
      "Epoch 148/350\n",
      "15817/15817 [==============================] - 1s 32us/sample - loss: 0.0137 - accuracy: 0.9690\n",
      "Epoch 149/350\n",
      "15817/15817 [==============================] - 1s 34us/sample - loss: 0.0145 - accuracy: 0.9672\n",
      "Epoch 150/350\n"
     ]
    },
    {
     "name": "stdout",
     "output_type": "stream",
     "text": [
      "15817/15817 [==============================] - 1s 33us/sample - loss: 0.0136 - accuracy: 0.9695\n",
      "Epoch 151/350\n",
      "15817/15817 [==============================] - 1s 32us/sample - loss: 0.0136 - accuracy: 0.9693\n",
      "Epoch 152/350\n",
      "15817/15817 [==============================] - 0s 31us/sample - loss: 0.0159 - accuracy: 0.9640\n",
      "Epoch 153/350\n",
      "15817/15817 [==============================] - 1s 32us/sample - loss: 0.0140 - accuracy: 0.9681\n",
      "Epoch 154/350\n",
      "15817/15817 [==============================] - 1s 33us/sample - loss: 0.0137 - accuracy: 0.9696\n",
      "Epoch 155/350\n",
      "15817/15817 [==============================] - 1s 32us/sample - loss: 0.0128 - accuracy: 0.9716\n",
      "Epoch 156/350\n",
      "15817/15817 [==============================] - 1s 32us/sample - loss: 0.0130 - accuracy: 0.9715\n",
      "Epoch 157/350\n",
      "15817/15817 [==============================] - 0s 31us/sample - loss: 0.0138 - accuracy: 0.9690\n",
      "Epoch 158/350\n",
      "15817/15817 [==============================] - 1s 33us/sample - loss: 0.0135 - accuracy: 0.9696\n",
      "Epoch 159/350\n",
      "15817/15817 [==============================] - 1s 32us/sample - loss: 0.0127 - accuracy: 0.9704\n",
      "Epoch 160/350\n",
      "15817/15817 [==============================] - 0s 31us/sample - loss: 0.0133 - accuracy: 0.9697\n",
      "Epoch 161/350\n",
      "15817/15817 [==============================] - 0s 31us/sample - loss: 0.0132 - accuracy: 0.9697\n",
      "Epoch 162/350\n",
      "15817/15817 [==============================] - 0s 31us/sample - loss: 0.0130 - accuracy: 0.9713\n",
      "Epoch 163/350\n",
      "15817/15817 [==============================] - 1s 32us/sample - loss: 0.0138 - accuracy: 0.9689\n",
      "Epoch 164/350\n",
      "15817/15817 [==============================] - 1s 32us/sample - loss: 0.0138 - accuracy: 0.9694\n",
      "Epoch 165/350\n",
      "15817/15817 [==============================] - 1s 32us/sample - loss: 0.0134 - accuracy: 0.9700\n",
      "Epoch 166/350\n",
      "15817/15817 [==============================] - 0s 31us/sample - loss: 0.0122 - accuracy: 0.9727\n",
      "Epoch 167/350\n",
      "15817/15817 [==============================] - 1s 35us/sample - loss: 0.0130 - accuracy: 0.9703\n",
      "Epoch 168/350\n",
      "15817/15817 [==============================] - 1s 33us/sample - loss: 0.0133 - accuracy: 0.9699\n",
      "Epoch 169/350\n",
      "15817/15817 [==============================] - 1s 34us/sample - loss: 0.0126 - accuracy: 0.9719\n",
      "Epoch 170/350\n",
      "15817/15817 [==============================] - 1s 33us/sample - loss: 0.0126 - accuracy: 0.9721\n",
      "Epoch 171/350\n",
      "15817/15817 [==============================] - 1s 33us/sample - loss: 0.0125 - accuracy: 0.9721\n",
      "Epoch 172/350\n",
      "15817/15817 [==============================] - 1s 32us/sample - loss: 0.0125 - accuracy: 0.9726\n",
      "Epoch 173/350\n",
      "15817/15817 [==============================] - 0s 31us/sample - loss: 0.0122 - accuracy: 0.9726\n",
      "Epoch 174/350\n",
      "15817/15817 [==============================] - 0s 32us/sample - loss: 0.0123 - accuracy: 0.9725\n",
      "Epoch 175/350\n",
      "15817/15817 [==============================] - 0s 31us/sample - loss: 0.0127 - accuracy: 0.9714\n",
      "Epoch 176/350\n",
      "15817/15817 [==============================] - 1s 32us/sample - loss: 0.0125 - accuracy: 0.9727\n",
      "Epoch 177/350\n",
      "15817/15817 [==============================] - 0s 32us/sample - loss: 0.0122 - accuracy: 0.9728\n",
      "Epoch 178/350\n",
      "15817/15817 [==============================] - 0s 32us/sample - loss: 0.0123 - accuracy: 0.9717\n",
      "Epoch 179/350\n",
      "15817/15817 [==============================] - 1s 35us/sample - loss: 0.0126 - accuracy: 0.9723\n",
      "Epoch 180/350\n",
      "15817/15817 [==============================] - 1s 32us/sample - loss: 0.0118 - accuracy: 0.9735\n",
      "Epoch 181/350\n",
      "15817/15817 [==============================] - 1s 32us/sample - loss: 0.0127 - accuracy: 0.9716\n",
      "Epoch 182/350\n",
      "15817/15817 [==============================] - 1s 32us/sample - loss: 0.0129 - accuracy: 0.9712\n",
      "Epoch 183/350\n",
      "15817/15817 [==============================] - 0s 31us/sample - loss: 0.0118 - accuracy: 0.9738\n",
      "Epoch 184/350\n",
      "15817/15817 [==============================] - 1s 33us/sample - loss: 0.0119 - accuracy: 0.9733\n",
      "Epoch 185/350\n",
      "15817/15817 [==============================] - 1s 32us/sample - loss: 0.0119 - accuracy: 0.9728\n",
      "Epoch 186/350\n",
      "15817/15817 [==============================] - 1s 32us/sample - loss: 0.0115 - accuracy: 0.9748\n",
      "Epoch 187/350\n",
      "15817/15817 [==============================] - 0s 31us/sample - loss: 0.0118 - accuracy: 0.9741\n",
      "Epoch 188/350\n",
      "15817/15817 [==============================] - 1s 37us/sample - loss: 0.0114 - accuracy: 0.9754\n",
      "Epoch 189/350\n",
      "15817/15817 [==============================] - 1s 36us/sample - loss: 0.0116 - accuracy: 0.9745\n",
      "Epoch 190/350\n",
      "15817/15817 [==============================] - 1s 38us/sample - loss: 0.0130 - accuracy: 0.9711\n",
      "Epoch 191/350\n",
      "15817/15817 [==============================] - 1s 35us/sample - loss: 0.0120 - accuracy: 0.9728\n",
      "Epoch 192/350\n",
      "15817/15817 [==============================] - 0s 31us/sample - loss: 0.0114 - accuracy: 0.9747\n",
      "Epoch 193/350\n",
      "15817/15817 [==============================] - 0s 31us/sample - loss: 0.0123 - accuracy: 0.9720\n",
      "Epoch 194/350\n",
      "15817/15817 [==============================] - 1s 32us/sample - loss: 0.0119 - accuracy: 0.9735\n",
      "Epoch 195/350\n",
      "15817/15817 [==============================] - 0s 32us/sample - loss: 0.0117 - accuracy: 0.9748\n",
      "Epoch 196/350\n",
      "15817/15817 [==============================] - 0s 31us/sample - loss: 0.0125 - accuracy: 0.9731\n",
      "Epoch 197/350\n",
      "15817/15817 [==============================] - 0s 31us/sample - loss: 0.0106 - accuracy: 0.9777\n",
      "Epoch 198/350\n",
      "15817/15817 [==============================] - 0s 31us/sample - loss: 0.0117 - accuracy: 0.9745\n",
      "Epoch 199/350\n",
      "15817/15817 [==============================] - 0s 31us/sample - loss: 0.0112 - accuracy: 0.9753\n",
      "Epoch 200/350\n",
      "15817/15817 [==============================] - 0s 31us/sample - loss: 0.0114 - accuracy: 0.9746\n",
      "Epoch 201/350\n",
      "15817/15817 [==============================] - 1s 32us/sample - loss: 0.0113 - accuracy: 0.9750\n",
      "Epoch 202/350\n",
      "15817/15817 [==============================] - 1s 32us/sample - loss: 0.0119 - accuracy: 0.9728\n",
      "Epoch 203/350\n",
      "15817/15817 [==============================] - 1s 32us/sample - loss: 0.0110 - accuracy: 0.9754\n",
      "Epoch 204/350\n",
      "15817/15817 [==============================] - 1s 32us/sample - loss: 0.0110 - accuracy: 0.9756\n",
      "Epoch 205/350\n",
      "15817/15817 [==============================] - 1s 32us/sample - loss: 0.0109 - accuracy: 0.9761\n",
      "Epoch 206/350\n",
      "15817/15817 [==============================] - 1s 37us/sample - loss: 0.0107 - accuracy: 0.9777\n",
      "Epoch 207/350\n",
      "15817/15817 [==============================] - 1s 37us/sample - loss: 0.0104 - accuracy: 0.9772\n",
      "Epoch 208/350\n",
      "15817/15817 [==============================] - 1s 32us/sample - loss: 0.0108 - accuracy: 0.9764\n",
      "Epoch 209/350\n",
      "15817/15817 [==============================] - 1s 33us/sample - loss: 0.0112 - accuracy: 0.9751\n",
      "Epoch 210/350\n",
      "15817/15817 [==============================] - 1s 33us/sample - loss: 0.0108 - accuracy: 0.9769\n",
      "Epoch 211/350\n",
      "15817/15817 [==============================] - 1s 33us/sample - loss: 0.0102 - accuracy: 0.9777\n",
      "Epoch 212/350\n",
      "15817/15817 [==============================] - 1s 37us/sample - loss: 0.0103 - accuracy: 0.9778\n",
      "Epoch 213/350\n",
      "15817/15817 [==============================] - 1s 34us/sample - loss: 0.0109 - accuracy: 0.9759\n",
      "Epoch 214/350\n",
      "15817/15817 [==============================] - 1s 33us/sample - loss: 0.0109 - accuracy: 0.9765\n",
      "Epoch 215/350\n",
      "15817/15817 [==============================] - 1s 33us/sample - loss: 0.0112 - accuracy: 0.9746\n",
      "Epoch 216/350\n",
      "15817/15817 [==============================] - 1s 36us/sample - loss: 0.0112 - accuracy: 0.9748\n",
      "Epoch 217/350\n",
      "15817/15817 [==============================] - 1s 35us/sample - loss: 0.0099 - accuracy: 0.9783\n",
      "Epoch 218/350\n",
      "15817/15817 [==============================] - 1s 33us/sample - loss: 0.0109 - accuracy: 0.9764\n",
      "Epoch 219/350\n",
      "15817/15817 [==============================] - 1s 34us/sample - loss: 0.0113 - accuracy: 0.9752\n",
      "Epoch 220/350\n",
      "15817/15817 [==============================] - 1s 33us/sample - loss: 0.0101 - accuracy: 0.9781\n",
      "Epoch 221/350\n",
      "15817/15817 [==============================] - 1s 33us/sample - loss: 0.0106 - accuracy: 0.9768\n",
      "Epoch 222/350\n",
      "15817/15817 [==============================] - 1s 34us/sample - loss: 0.0117 - accuracy: 0.9746\n",
      "Epoch 223/350\n",
      "15817/15817 [==============================] - 1s 35us/sample - loss: 0.0099 - accuracy: 0.9788\n",
      "Epoch 224/350\n"
     ]
    },
    {
     "name": "stdout",
     "output_type": "stream",
     "text": [
      "15817/15817 [==============================] - 1s 35us/sample - loss: 0.0105 - accuracy: 0.9771\n",
      "Epoch 225/350\n",
      "15817/15817 [==============================] - 1s 35us/sample - loss: 0.0103 - accuracy: 0.9776\n",
      "Epoch 226/350\n",
      "15817/15817 [==============================] - 1s 33us/sample - loss: 0.0095 - accuracy: 0.9798\n",
      "Epoch 227/350\n",
      "15817/15817 [==============================] - 1s 34us/sample - loss: 0.0103 - accuracy: 0.9769\n",
      "Epoch 228/350\n",
      "15817/15817 [==============================] - 0s 31us/sample - loss: 0.0104 - accuracy: 0.9775\n",
      "Epoch 229/350\n",
      "15817/15817 [==============================] - 0s 32us/sample - loss: 0.0102 - accuracy: 0.9776\n",
      "Epoch 230/350\n",
      "15817/15817 [==============================] - 0s 31us/sample - loss: 0.0100 - accuracy: 0.9781\n",
      "Epoch 231/350\n",
      "15817/15817 [==============================] - 0s 32us/sample - loss: 0.0099 - accuracy: 0.9792\n",
      "Epoch 232/350\n",
      "15817/15817 [==============================] - 0s 32us/sample - loss: 0.0099 - accuracy: 0.9786\n",
      "Epoch 233/350\n",
      "15817/15817 [==============================] - 0s 31us/sample - loss: 0.0102 - accuracy: 0.9777\n",
      "Epoch 234/350\n",
      "15817/15817 [==============================] - 1s 32us/sample - loss: 0.0103 - accuracy: 0.9774\n",
      "Epoch 235/350\n",
      "15817/15817 [==============================] - 1s 34us/sample - loss: 0.0099 - accuracy: 0.9784\n",
      "Epoch 236/350\n",
      "15817/15817 [==============================] - 1s 32us/sample - loss: 0.0102 - accuracy: 0.9784\n",
      "Epoch 237/350\n",
      "15817/15817 [==============================] - 0s 31us/sample - loss: 0.0107 - accuracy: 0.9769\n",
      "Epoch 238/350\n",
      "15817/15817 [==============================] - 0s 31us/sample - loss: 0.0106 - accuracy: 0.9774\n",
      "Epoch 239/350\n",
      "15817/15817 [==============================] - 0s 31us/sample - loss: 0.0103 - accuracy: 0.9781\n",
      "Epoch 240/350\n",
      "15817/15817 [==============================] - 1s 32us/sample - loss: 0.0100 - accuracy: 0.9779\n",
      "Epoch 241/350\n",
      "15817/15817 [==============================] - 0s 31us/sample - loss: 0.0105 - accuracy: 0.9769\n",
      "Epoch 242/350\n",
      "15817/15817 [==============================] - 0s 31us/sample - loss: 0.0093 - accuracy: 0.9804\n",
      "Epoch 243/350\n",
      "15817/15817 [==============================] - 0s 31us/sample - loss: 0.0095 - accuracy: 0.9796\n",
      "Epoch 244/350\n",
      "15817/15817 [==============================] - 0s 31us/sample - loss: 0.0105 - accuracy: 0.9770\n",
      "Epoch 245/350\n",
      "15817/15817 [==============================] - 0s 31us/sample - loss: 0.0107 - accuracy: 0.9767\n",
      "Epoch 246/350\n",
      "15817/15817 [==============================] - 1s 32us/sample - loss: 0.0099 - accuracy: 0.9791\n",
      "Epoch 247/350\n",
      "15817/15817 [==============================] - 0s 32us/sample - loss: 0.0109 - accuracy: 0.9762\n",
      "Epoch 248/350\n",
      "15817/15817 [==============================] - 1s 32us/sample - loss: 0.0091 - accuracy: 0.9805\n",
      "Epoch 249/350\n",
      "15817/15817 [==============================] - 1s 32us/sample - loss: 0.0092 - accuracy: 0.9805\n",
      "Epoch 250/350\n",
      "15817/15817 [==============================] - 0s 32us/sample - loss: 0.0096 - accuracy: 0.9789\n",
      "Epoch 251/350\n",
      "15817/15817 [==============================] - 1s 32us/sample - loss: 0.0097 - accuracy: 0.9791\n",
      "Epoch 252/350\n",
      "15817/15817 [==============================] - 0s 31us/sample - loss: 0.0095 - accuracy: 0.9799\n",
      "Epoch 253/350\n",
      "15817/15817 [==============================] - 1s 32us/sample - loss: 0.0098 - accuracy: 0.9790\n",
      "Epoch 254/350\n",
      "15817/15817 [==============================] - 1s 32us/sample - loss: 0.0093 - accuracy: 0.9804\n",
      "Epoch 255/350\n",
      "15817/15817 [==============================] - 1s 32us/sample - loss: 0.0094 - accuracy: 0.9803\n",
      "Epoch 256/350\n",
      "15817/15817 [==============================] - 1s 32us/sample - loss: 0.0089 - accuracy: 0.9803\n",
      "Epoch 257/350\n",
      "15817/15817 [==============================] - 1s 32us/sample - loss: 0.0101 - accuracy: 0.9780\n",
      "Epoch 258/350\n",
      "15817/15817 [==============================] - 1s 33us/sample - loss: 0.0089 - accuracy: 0.9813\n",
      "Epoch 259/350\n",
      "15817/15817 [==============================] - 1s 32us/sample - loss: 0.0091 - accuracy: 0.9804\n",
      "Epoch 260/350\n",
      "15817/15817 [==============================] - 1s 32us/sample - loss: 0.0088 - accuracy: 0.9818\n",
      "Epoch 261/350\n",
      "15817/15817 [==============================] - 1s 32us/sample - loss: 0.0087 - accuracy: 0.9819\n",
      "Epoch 262/350\n",
      "15817/15817 [==============================] - 1s 33us/sample - loss: 0.0093 - accuracy: 0.9798\n",
      "Epoch 263/350\n",
      "15817/15817 [==============================] - 1s 32us/sample - loss: 0.0085 - accuracy: 0.9827\n",
      "Epoch 264/350\n",
      "15817/15817 [==============================] - 0s 31us/sample - loss: 0.0103 - accuracy: 0.9780\n",
      "Epoch 265/350\n",
      "15817/15817 [==============================] - 1s 32us/sample - loss: 0.0099 - accuracy: 0.9786\n",
      "Epoch 266/350\n",
      "15817/15817 [==============================] - 1s 32us/sample - loss: 0.0088 - accuracy: 0.9811\n",
      "Epoch 267/350\n",
      "15817/15817 [==============================] - 1s 32us/sample - loss: 0.0097 - accuracy: 0.9790\n",
      "Epoch 268/350\n",
      "15817/15817 [==============================] - 1s 32us/sample - loss: 0.0091 - accuracy: 0.9808\n",
      "Epoch 269/350\n",
      "15817/15817 [==============================] - 1s 32us/sample - loss: 0.0092 - accuracy: 0.9800\n",
      "Epoch 270/350\n",
      "15817/15817 [==============================] - 1s 32us/sample - loss: 0.0091 - accuracy: 0.9803\n",
      "Epoch 271/350\n",
      "15817/15817 [==============================] - 1s 32us/sample - loss: 0.0095 - accuracy: 0.9793\n",
      "Epoch 272/350\n",
      "15817/15817 [==============================] - 1s 32us/sample - loss: 0.0093 - accuracy: 0.9797\n",
      "Epoch 273/350\n",
      "15817/15817 [==============================] - 0s 31us/sample - loss: 0.0089 - accuracy: 0.9809\n",
      "Epoch 274/350\n",
      "15817/15817 [==============================] - 1s 32us/sample - loss: 0.0092 - accuracy: 0.9803\n",
      "Epoch 275/350\n",
      "15817/15817 [==============================] - 1s 33us/sample - loss: 0.0096 - accuracy: 0.9797\n",
      "Epoch 276/350\n",
      "15817/15817 [==============================] - 1s 33us/sample - loss: 0.0098 - accuracy: 0.9793\n",
      "Epoch 277/350\n",
      "15817/15817 [==============================] - 1s 33us/sample - loss: 0.0099 - accuracy: 0.9781\n",
      "Epoch 278/350\n",
      "15817/15817 [==============================] - 1s 34us/sample - loss: 0.0091 - accuracy: 0.9805\n",
      "Epoch 279/350\n",
      "15817/15817 [==============================] - 1s 32us/sample - loss: 0.0094 - accuracy: 0.9798\n",
      "Epoch 280/350\n",
      "15817/15817 [==============================] - 0s 31us/sample - loss: 0.0094 - accuracy: 0.9801\n",
      "Epoch 281/350\n",
      "15817/15817 [==============================] - 1s 32us/sample - loss: 0.0087 - accuracy: 0.9821\n",
      "Epoch 282/350\n",
      "15817/15817 [==============================] - 1s 35us/sample - loss: 0.0094 - accuracy: 0.9796\n",
      "Epoch 283/350\n",
      "15817/15817 [==============================] - 1s 35us/sample - loss: 0.0092 - accuracy: 0.9803\n",
      "Epoch 284/350\n",
      "15817/15817 [==============================] - 1s 33us/sample - loss: 0.0090 - accuracy: 0.9803\n",
      "Epoch 285/350\n",
      "15817/15817 [==============================] - 1s 33us/sample - loss: 0.0085 - accuracy: 0.9820\n",
      "Epoch 286/350\n",
      "15817/15817 [==============================] - 1s 33us/sample - loss: 0.0089 - accuracy: 0.9817\n",
      "Epoch 287/350\n",
      "15817/15817 [==============================] - 1s 32us/sample - loss: 0.0089 - accuracy: 0.9807\n",
      "Epoch 288/350\n",
      "15817/15817 [==============================] - 0s 31us/sample - loss: 0.0088 - accuracy: 0.9819\n",
      "Epoch 289/350\n",
      "15817/15817 [==============================] - 0s 31us/sample - loss: 0.0091 - accuracy: 0.9804\n",
      "Epoch 290/350\n",
      "15817/15817 [==============================] - 1s 32us/sample - loss: 0.0094 - accuracy: 0.9806\n",
      "Epoch 291/350\n",
      "15817/15817 [==============================] - 1s 32us/sample - loss: 0.0089 - accuracy: 0.9810\n",
      "Epoch 292/350\n",
      "15817/15817 [==============================] - 1s 32us/sample - loss: 0.0087 - accuracy: 0.9815\n",
      "Epoch 293/350\n",
      "15817/15817 [==============================] - 1s 32us/sample - loss: 0.0086 - accuracy: 0.9820\n",
      "Epoch 294/350\n",
      "15817/15817 [==============================] - 1s 33us/sample - loss: 0.0086 - accuracy: 0.9818\n",
      "Epoch 295/350\n",
      "15817/15817 [==============================] - 1s 33us/sample - loss: 0.0091 - accuracy: 0.9803\n",
      "Epoch 296/350\n",
      "15817/15817 [==============================] - 1s 32us/sample - loss: 0.0094 - accuracy: 0.9791\n",
      "Epoch 297/350\n",
      "15817/15817 [==============================] - 1s 32us/sample - loss: 0.0080 - accuracy: 0.9842\n",
      "Epoch 298/350\n"
     ]
    },
    {
     "name": "stdout",
     "output_type": "stream",
     "text": [
      "15817/15817 [==============================] - 1s 32us/sample - loss: 0.0103 - accuracy: 0.9771\n",
      "Epoch 299/350\n",
      "15817/15817 [==============================] - 0s 31us/sample - loss: 0.0092 - accuracy: 0.9800\n",
      "Epoch 300/350\n",
      "15817/15817 [==============================] - 0s 32us/sample - loss: 0.0091 - accuracy: 0.9803\n",
      "Epoch 301/350\n",
      "15817/15817 [==============================] - 1s 32us/sample - loss: 0.0090 - accuracy: 0.9809\n",
      "Epoch 302/350\n",
      "15817/15817 [==============================] - 0s 32us/sample - loss: 0.0086 - accuracy: 0.9822\n",
      "Epoch 303/350\n",
      "15817/15817 [==============================] - 1s 32us/sample - loss: 0.0089 - accuracy: 0.9809\n",
      "Epoch 304/350\n",
      "15817/15817 [==============================] - 1s 32us/sample - loss: 0.0085 - accuracy: 0.9823\n",
      "Epoch 305/350\n",
      "15817/15817 [==============================] - 1s 35us/sample - loss: 0.0083 - accuracy: 0.9828\n",
      "Epoch 306/350\n",
      "15817/15817 [==============================] - 1s 35us/sample - loss: 0.0093 - accuracy: 0.9802\n",
      "Epoch 307/350\n",
      "15817/15817 [==============================] - 1s 34us/sample - loss: 0.0081 - accuracy: 0.9829\n",
      "Epoch 308/350\n",
      "15817/15817 [==============================] - 1s 35us/sample - loss: 0.0077 - accuracy: 0.9836\n",
      "Epoch 309/350\n",
      "15817/15817 [==============================] - 1s 34us/sample - loss: 0.0083 - accuracy: 0.9825\n",
      "Epoch 310/350\n",
      "15817/15817 [==============================] - 1s 33us/sample - loss: 0.0090 - accuracy: 0.9812\n",
      "Epoch 311/350\n",
      "15817/15817 [==============================] - 1s 34us/sample - loss: 0.0092 - accuracy: 0.9808\n",
      "Epoch 312/350\n",
      "15817/15817 [==============================] - 1s 34us/sample - loss: 0.0095 - accuracy: 0.9791\n",
      "Epoch 313/350\n",
      "15817/15817 [==============================] - 1s 33us/sample - loss: 0.0086 - accuracy: 0.9825\n",
      "Epoch 314/350\n",
      "15817/15817 [==============================] - 1s 34us/sample - loss: 0.0090 - accuracy: 0.9810\n",
      "Epoch 315/350\n",
      "15817/15817 [==============================] - 1s 34us/sample - loss: 0.0085 - accuracy: 0.9823\n",
      "Epoch 316/350\n",
      "15817/15817 [==============================] - 1s 32us/sample - loss: 0.0086 - accuracy: 0.9820\n",
      "Epoch 317/350\n",
      "15817/15817 [==============================] - 1s 34us/sample - loss: 0.0080 - accuracy: 0.9836\n",
      "Epoch 318/350\n",
      "15817/15817 [==============================] - 1s 33us/sample - loss: 0.0083 - accuracy: 0.9825\n",
      "Epoch 319/350\n",
      "15817/15817 [==============================] - 1s 32us/sample - loss: 0.0089 - accuracy: 0.9807\n",
      "Epoch 320/350\n",
      "15817/15817 [==============================] - 1s 34us/sample - loss: 0.0086 - accuracy: 0.9820\n",
      "Epoch 321/350\n",
      "15817/15817 [==============================] - 1s 34us/sample - loss: 0.0078 - accuracy: 0.9840\n",
      "Epoch 322/350\n",
      "15817/15817 [==============================] - 1s 34us/sample - loss: 0.0084 - accuracy: 0.9827\n",
      "Epoch 323/350\n",
      "15817/15817 [==============================] - 1s 34us/sample - loss: 0.0081 - accuracy: 0.9837\n",
      "Epoch 324/350\n",
      "15817/15817 [==============================] - 1s 34us/sample - loss: 0.0081 - accuracy: 0.9832\n",
      "Epoch 325/350\n",
      "15817/15817 [==============================] - 1s 34us/sample - loss: 0.0081 - accuracy: 0.9829\n",
      "Epoch 326/350\n",
      "15817/15817 [==============================] - 1s 34us/sample - loss: 0.0086 - accuracy: 0.9822\n",
      "Epoch 327/350\n",
      "15817/15817 [==============================] - 1s 36us/sample - loss: 0.0079 - accuracy: 0.9834\n",
      "Epoch 328/350\n",
      "15817/15817 [==============================] - 1s 34us/sample - loss: 0.0080 - accuracy: 0.9834\n",
      "Epoch 329/350\n",
      "15817/15817 [==============================] - 1s 35us/sample - loss: 0.0088 - accuracy: 0.9801\n",
      "Epoch 330/350\n",
      "15817/15817 [==============================] - 1s 36us/sample - loss: 0.0080 - accuracy: 0.9829\n",
      "Epoch 331/350\n",
      "15817/15817 [==============================] - 1s 36us/sample - loss: 0.0082 - accuracy: 0.9834\n",
      "Epoch 332/350\n",
      "15817/15817 [==============================] - 1s 35us/sample - loss: 0.0077 - accuracy: 0.9838\n",
      "Epoch 333/350\n",
      "15817/15817 [==============================] - 1s 34us/sample - loss: 0.0082 - accuracy: 0.9827\n",
      "Epoch 334/350\n",
      "15817/15817 [==============================] - 1s 32us/sample - loss: 0.0089 - accuracy: 0.9811\n",
      "Epoch 335/350\n",
      "15817/15817 [==============================] - 0s 31us/sample - loss: 0.0081 - accuracy: 0.9836\n",
      "Epoch 336/350\n",
      "15817/15817 [==============================] - 0s 31us/sample - loss: 0.0082 - accuracy: 0.9831\n",
      "Epoch 337/350\n",
      "15817/15817 [==============================] - 0s 31us/sample - loss: 0.0088 - accuracy: 0.9812\n",
      "Epoch 338/350\n",
      "15817/15817 [==============================] - 0s 31us/sample - loss: 0.0078 - accuracy: 0.9846\n",
      "Epoch 339/350\n",
      "15817/15817 [==============================] - 0s 31us/sample - loss: 0.0083 - accuracy: 0.9826\n",
      "Epoch 340/350\n",
      "15817/15817 [==============================] - 0s 31us/sample - loss: 0.0090 - accuracy: 0.9813\n",
      "Epoch 341/350\n",
      "15817/15817 [==============================] - 0s 31us/sample - loss: 0.0089 - accuracy: 0.9810\n",
      "Epoch 342/350\n",
      "15817/15817 [==============================] - 0s 31us/sample - loss: 0.0079 - accuracy: 0.9836\n",
      "Epoch 343/350\n",
      "15817/15817 [==============================] - 0s 31us/sample - loss: 0.0073 - accuracy: 0.9848\n",
      "Epoch 344/350\n",
      "15817/15817 [==============================] - 1s 32us/sample - loss: 0.0080 - accuracy: 0.9834\n",
      "Epoch 345/350\n",
      "15817/15817 [==============================] - 1s 33us/sample - loss: 0.0076 - accuracy: 0.9843\n",
      "Epoch 346/350\n",
      "15817/15817 [==============================] - 1s 33us/sample - loss: 0.0084 - accuracy: 0.9824\n",
      "Epoch 347/350\n",
      "15817/15817 [==============================] - 1s 33us/sample - loss: 0.0077 - accuracy: 0.9844\n",
      "Epoch 348/350\n",
      "15817/15817 [==============================] - 1s 32us/sample - loss: 0.0084 - accuracy: 0.9813\n",
      "Epoch 349/350\n",
      "15817/15817 [==============================] - 1s 32us/sample - loss: 0.0079 - accuracy: 0.9836\n",
      "Epoch 350/350\n",
      "15817/15817 [==============================] - 1s 32us/sample - loss: 0.0080 - accuracy: 0.9837\n"
     ]
    },
    {
     "data": {
      "text/plain": [
       "<tensorflow.python.keras.callbacks.History at 0x7efcc3b68ad0>"
      ]
     },
     "execution_count": 31,
     "metadata": {},
     "output_type": "execute_result"
    }
   ],
   "source": [
    "model.fit(X_train.values, Y_train, batch_size=128, epochs=350, verbose=1)"
   ]
  },
  {
   "cell_type": "markdown",
   "metadata": {
    "colab_type": "text",
    "id": "v-ro8rCFnbM4"
   },
   "source": [
    "After training the model we need to evaluate it."
   ]
  },
  {
   "cell_type": "code",
   "execution_count": 32,
   "metadata": {
    "colab": {},
    "colab_type": "code",
    "id": "Dvv63ALpnbM5"
   },
   "outputs": [],
   "source": [
    "Y_test = to_categorical(Y_test.values, num_classes=2)"
   ]
  },
  {
   "cell_type": "code",
   "execution_count": 34,
   "metadata": {
    "colab": {
     "base_uri": "https://localhost:8080/",
     "height": 51
    },
    "colab_type": "code",
    "id": "fIZ53SWGnbM7",
    "outputId": "d9b18f4e-380a-4f23-a430-b0734220f9fd"
   },
   "outputs": [
    {
     "name": "stdout",
     "output_type": "stream",
     "text": [
      "['loss', 'accuracy']\n",
      "[0.12134047379152035, 0.72355807]\n"
     ]
    }
   ],
   "source": [
    "score = model.evaluate(X_test.values, Y_test, verbose=0)\n",
    "print(model.metrics_names)\n",
    "print(score)"
   ]
  },
  {
   "cell_type": "markdown",
   "metadata": {
    "colab_type": "text",
    "id": "cd3XlIacnbM-"
   },
   "source": [
    "Now let's take a look at the missclassified observations."
   ]
  },
  {
   "cell_type": "code",
   "execution_count": 35,
   "metadata": {
    "colab": {},
    "colab_type": "code",
    "id": "38yOmrIunbM_"
   },
   "outputs": [],
   "source": [
    "Y_test_predicted = model.predict(X_test.values, verbose=0)"
   ]
  },
  {
   "cell_type": "code",
   "execution_count": 36,
   "metadata": {
    "colab": {
     "base_uri": "https://localhost:8080/",
     "height": 136
    },
    "colab_type": "code",
    "id": "pyZPLUptnbNB",
    "outputId": "baa59420-44ff-46ec-bb37-2b94633acea1"
   },
   "outputs": [
    {
     "data": {
      "text/plain": [
       "array([[-0.16617519,  0.97077745],\n",
       "       [ 0.3973203 ,  0.5004829 ],\n",
       "       [ 0.9160099 , -0.10879564],\n",
       "       ...,\n",
       "       [ 0.992068  , -0.19912088],\n",
       "       [ 0.99658465, -0.2049672 ],\n",
       "       [-0.18729049,  0.98346776]], dtype=float32)"
      ]
     },
     "execution_count": 36,
     "metadata": {},
     "output_type": "execute_result"
    }
   ],
   "source": [
    "Y_test_predicted"
   ]
  },
  {
   "cell_type": "markdown",
   "metadata": {
    "colab_type": "text",
    "id": "neg9m3kfnbNE"
   },
   "source": [
    "Now we calculate the false negatives and also the false positives by comparing the true value with the predicted one."
   ]
  },
  {
   "cell_type": "code",
   "execution_count": 37,
   "metadata": {
    "colab": {
     "base_uri": "https://localhost:8080/",
     "height": 85
    },
    "colab_type": "code",
    "id": "4RU2WEpGnbNE",
    "outputId": "388984b9-aa0e-4118-bbcb-64fdaaf51751"
   },
   "outputs": [
    {
     "name": "stdout",
     "output_type": "stream",
     "text": [
      "[1, 0, 1, 1, 1, 0, 0, 0, 1]\n",
      "[0, 1, 1, 1, 1, 0, 0, 0, 1]\n",
      "False Positive Rate: 0.15\n",
      "False Negative Rate: 0.13\n"
     ]
    }
   ],
   "source": [
    "Y_test_predicted_values = get_predicted_values(Y_test_predicted)\n",
    "Y_test_values = get_predicted_values(Y_test)\n",
    "print(Y_test_predicted_values[1:10])\n",
    "print(Y_test_values[1:10])\n",
    "\n",
    "false_positives = []\n",
    "false_negatives = []\n",
    "for i in range(len(Y_test_values)):\n",
    "    if Y_test_values[i] == 0 and Y_test_predicted_values[i] == 1:\n",
    "        false_positives.append(i)\n",
    "    elif Y_test_values[i] == 1 and Y_test_predicted_values[i] == 0:\n",
    "        false_negatives.append(i)\n",
    "        \n",
    "print(\"False Positive Rate: {:.2f}\".format(len(false_positives)/len(Y_test_values)))\n",
    "print(\"False Negative Rate: {:.2f}\".format(len(false_negatives)/len(Y_test_values)))"
   ]
  },
  {
   "cell_type": "markdown",
   "metadata": {
    "colab_type": "text",
    "id": "VWWDZP1NnbNH"
   },
   "source": [
    "And try to visualize the heatmaps for false positives and negatives. Firstly the false negatives, where the network was supposed to answer _Signal_, but instead, it answered _Background_."
   ]
  },
  {
   "cell_type": "code",
   "execution_count": 38,
   "metadata": {
    "colab": {
     "base_uri": "https://localhost:8080/",
     "height": 353
    },
    "colab_type": "code",
    "id": "CGDjCVk3nbNI",
    "outputId": "74667460-8a60-4c61-c3c3-ab0b641a8e7d"
   },
   "outputs": [
    {
     "name": "stdout",
     "output_type": "stream",
     "text": [
      "[10, 11, 28, 35, 37, 44, 46, 53, 59]\n",
      "(880, 625)\n",
      "(625,)\n",
      "AxesSubplot(0.125,0.125;0.62x0.755)\n"
     ]
    },
    {
     "data": {
      "image/png": "[encoded data removed]",
      "text/plain": [
       "<Figure size 432x288 with 2 Axes>"
      ]
     },
     "metadata": {},
     "output_type": "display_data"
    }
   ],
   "source": [
    "print(false_negatives[1:10])\n",
    "false_negatives_values = X_test.iloc[false_negatives,]\n",
    "print(false_negatives_values.shape)\n",
    "\n",
    "mean_false_negatives = false_negatives_values.mean().values\n",
    "print(mean_false_negatives.shape)\n",
    "mean_false_negatives = mean_false_negatives.reshape((25,25))\n",
    "\n",
    "print_heatmap(mean_false_negatives)"
   ]
  },
  {
   "cell_type": "markdown",
   "metadata": {
    "colab_type": "text",
    "id": "QGi8K_t5nbNK"
   },
   "source": [
    "Then we examine the cases in which the network should have responded _Background_, but it answered _Signal_."
   ]
  },
  {
   "cell_type": "code",
   "execution_count": 39,
   "metadata": {
    "colab": {
     "base_uri": "https://localhost:8080/",
     "height": 353
    },
    "colab_type": "code",
    "id": "1T79aGd7nbNL",
    "outputId": "82beb1da-8ab8-4867-f976-d8b668344ac2"
   },
   "outputs": [
    {
     "name": "stdout",
     "output_type": "stream",
     "text": [
      "[12, 18, 32, 34, 38, 47, 54, 63, 65]\n",
      "(994, 625)\n",
      "(625,)\n",
      "AxesSubplot(0.125,0.125;0.62x0.755)\n"
     ]
    },
    {
     "data": {
      "image/png": "[encoded data removed]",
      "text/plain": [
       "<Figure size 432x288 with 2 Axes>"
      ]
     },
     "metadata": {},
     "output_type": "display_data"
    }
   ],
   "source": [
    "print(false_positives[1:10])\n",
    "false_positives_values = X_test.iloc[false_positives,]\n",
    "print(false_positives_values.shape)\n",
    "\n",
    "mean_false_positives = false_positives_values.mean().values\n",
    "print(mean_false_positives.shape)\n",
    "mean_false_positives = mean_false_positives.reshape((25,25))\n",
    "\n",
    "print_heatmap(mean_false_positives)"
   ]
  },
  {
   "cell_type": "code",
   "execution_count": null,
   "metadata": {},
   "outputs": [],
   "source": []
  },
  {
   "cell_type": "code",
   "execution_count": null,
   "metadata": {},
   "outputs": [],
   "source": []
  }
 ],
 "metadata": {
  "colab": {
   "collapsed_sections": [],
   "name": "Image Jet Tagging Analysis (PTJ 250-300).ipynb",
   "provenance": []
  },
  "kernelspec": {
   "display_name": "Python 3",
   "language": "python",
   "name": "python3"
  },
  "language_info": {
   "codemirror_mode": {
    "name": "ipython",
    "version": 3
   },
   "file_extension": ".py",
   "mimetype": "text/x-python",
   "name": "python",
   "nbconvert_exporter": "python",
   "pygments_lexer": "ipython3",
   "version": "3.7.6"
  }
 },
 "nbformat": 4,
 "nbformat_minor": 1
}
