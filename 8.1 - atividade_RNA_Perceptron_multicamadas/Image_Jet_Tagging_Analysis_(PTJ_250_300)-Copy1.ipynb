{
 "cells": [
  {
   "cell_type": "code",
   "execution_count": 1,
   "metadata": {
    "colab": {
     "base_uri": "https://localhost:8080/",
     "height": 615
    },
    "colab_type": "code",
    "id": "cABJZKBQnxhI",
    "outputId": "ab4eda96-ac64-422c-a7a6-597cee010151"
   },
   "outputs": [
    {
     "name": "stdout",
     "output_type": "stream",
     "text": [
      "Requirement already satisfied: tensorflow==2 in /home/hub/anaconda3/envs/fiep/lib/python3.7/site-packages (2.0.0)\n",
      "Requirement already satisfied: wrapt>=1.11.1 in /home/hub/anaconda3/envs/fiep/lib/python3.7/site-packages (from tensorflow==2) (1.11.2)\n",
      "Requirement already satisfied: termcolor>=1.1.0 in /home/hub/anaconda3/envs/fiep/lib/python3.7/site-packages (from tensorflow==2) (1.1.0)\n",
      "Requirement already satisfied: grpcio>=1.8.6 in /home/hub/anaconda3/envs/fiep/lib/python3.7/site-packages (from tensorflow==2) (1.27.2)\n",
      "Requirement already satisfied: protobuf>=3.6.1 in /home/hub/anaconda3/envs/fiep/lib/python3.7/site-packages (from tensorflow==2) (3.11.3)\n",
      "Requirement already satisfied: wheel>=0.26 in /home/hub/anaconda3/envs/fiep/lib/python3.7/site-packages (from tensorflow==2) (0.33.6)\n",
      "Requirement already satisfied: absl-py>=0.7.0 in /home/hub/anaconda3/envs/fiep/lib/python3.7/site-packages (from tensorflow==2) (0.9.0)\n",
      "Requirement already satisfied: gast==0.2.2 in /home/hub/anaconda3/envs/fiep/lib/python3.7/site-packages (from tensorflow==2) (0.2.2)\n",
      "Requirement already satisfied: opt-einsum>=2.3.2 in /home/hub/anaconda3/envs/fiep/lib/python3.7/site-packages (from tensorflow==2) (3.1.0)\n",
      "Requirement already satisfied: tensorboard<2.1.0,>=2.0.0 in /home/hub/anaconda3/envs/fiep/lib/python3.7/site-packages (from tensorflow==2) (2.0.2)\n",
      "Requirement already satisfied: six>=1.10.0 in /home/hub/anaconda3/envs/fiep/lib/python3.7/site-packages (from tensorflow==2) (1.13.0)\n",
      "Requirement already satisfied: tensorflow-estimator<2.1.0,>=2.0.0 in /home/hub/anaconda3/envs/fiep/lib/python3.7/site-packages (from tensorflow==2) (2.0.1)\n",
      "Requirement already satisfied: keras-applications>=1.0.8 in /home/hub/anaconda3/envs/fiep/lib/python3.7/site-packages (from tensorflow==2) (1.0.8)\n",
      "Requirement already satisfied: google-pasta>=0.1.6 in /home/hub/anaconda3/envs/fiep/lib/python3.7/site-packages (from tensorflow==2) (0.1.8)\n",
      "Requirement already satisfied: keras-preprocessing>=1.0.5 in /home/hub/anaconda3/envs/fiep/lib/python3.7/site-packages (from tensorflow==2) (1.1.0)\n",
      "Requirement already satisfied: numpy<2.0,>=1.16.0 in /home/hub/anaconda3/envs/fiep/lib/python3.7/site-packages (from tensorflow==2) (1.18.1)\n",
      "Requirement already satisfied: astor>=0.6.0 in /home/hub/anaconda3/envs/fiep/lib/python3.7/site-packages (from tensorflow==2) (0.8.1)\n",
      "Requirement already satisfied: setuptools in /home/hub/anaconda3/envs/fiep/lib/python3.7/site-packages (from protobuf>=3.6.1->tensorflow==2) (44.0.0.post20200106)\n",
      "Requirement already satisfied: markdown>=2.6.8 in /home/hub/anaconda3/envs/fiep/lib/python3.7/site-packages (from tensorboard<2.1.0,>=2.0.0->tensorflow==2) (3.2.1)\n",
      "Requirement already satisfied: google-auth-oauthlib<0.5,>=0.4.1 in /home/hub/anaconda3/envs/fiep/lib/python3.7/site-packages (from tensorboard<2.1.0,>=2.0.0->tensorflow==2) (0.4.1)\n",
      "Requirement already satisfied: google-auth<2,>=1.6.3 in /home/hub/anaconda3/envs/fiep/lib/python3.7/site-packages (from tensorboard<2.1.0,>=2.0.0->tensorflow==2) (1.11.2)\n",
      "Requirement already satisfied: requests<3,>=2.21.0 in /home/hub/anaconda3/envs/fiep/lib/python3.7/site-packages (from tensorboard<2.1.0,>=2.0.0->tensorflow==2) (2.22.0)\n",
      "Requirement already satisfied: werkzeug>=0.11.15 in /home/hub/anaconda3/envs/fiep/lib/python3.7/site-packages (from tensorboard<2.1.0,>=2.0.0->tensorflow==2) (0.16.0)\n",
      "Requirement already satisfied: h5py in /home/hub/anaconda3/envs/fiep/lib/python3.7/site-packages (from keras-applications>=1.0.8->tensorflow==2) (2.9.0)\n",
      "Requirement already satisfied: requests-oauthlib>=0.7.0 in /home/hub/anaconda3/envs/fiep/lib/python3.7/site-packages (from google-auth-oauthlib<0.5,>=0.4.1->tensorboard<2.1.0,>=2.0.0->tensorflow==2) (1.3.0)\n",
      "Requirement already satisfied: cachetools<5.0,>=2.0.0 in /home/hub/anaconda3/envs/fiep/lib/python3.7/site-packages (from google-auth<2,>=1.6.3->tensorboard<2.1.0,>=2.0.0->tensorflow==2) (4.0.0)\n",
      "Requirement already satisfied: rsa<4.1,>=3.1.4 in /home/hub/anaconda3/envs/fiep/lib/python3.7/site-packages (from google-auth<2,>=1.6.3->tensorboard<2.1.0,>=2.0.0->tensorflow==2) (4.0)\n",
      "Requirement already satisfied: pyasn1-modules>=0.2.1 in /home/hub/anaconda3/envs/fiep/lib/python3.7/site-packages (from google-auth<2,>=1.6.3->tensorboard<2.1.0,>=2.0.0->tensorflow==2) (0.2.8)\n",
      "Requirement already satisfied: chardet<3.1.0,>=3.0.2 in /home/hub/anaconda3/envs/fiep/lib/python3.7/site-packages (from requests<3,>=2.21.0->tensorboard<2.1.0,>=2.0.0->tensorflow==2) (3.0.4)\n",
      "Requirement already satisfied: urllib3!=1.25.0,!=1.25.1,<1.26,>=1.21.1 in /home/hub/anaconda3/envs/fiep/lib/python3.7/site-packages (from requests<3,>=2.21.0->tensorboard<2.1.0,>=2.0.0->tensorflow==2) (1.25.7)\n",
      "Requirement already satisfied: idna<2.9,>=2.5 in /home/hub/anaconda3/envs/fiep/lib/python3.7/site-packages (from requests<3,>=2.21.0->tensorboard<2.1.0,>=2.0.0->tensorflow==2) (2.8)\n",
      "Requirement already satisfied: certifi>=2017.4.17 in /home/hub/anaconda3/envs/fiep/lib/python3.7/site-packages (from requests<3,>=2.21.0->tensorboard<2.1.0,>=2.0.0->tensorflow==2) (2019.11.28)\n",
      "Requirement already satisfied: oauthlib>=3.0.0 in /home/hub/anaconda3/envs/fiep/lib/python3.7/site-packages (from requests-oauthlib>=0.7.0->google-auth-oauthlib<0.5,>=0.4.1->tensorboard<2.1.0,>=2.0.0->tensorflow==2) (3.1.0)\n",
      "Requirement already satisfied: pyasn1>=0.1.3 in /home/hub/anaconda3/envs/fiep/lib/python3.7/site-packages (from rsa<4.1,>=3.1.4->google-auth<2,>=1.6.3->tensorboard<2.1.0,>=2.0.0->tensorflow==2) (0.4.8)\n"
     ]
    }
   ],
   "source": [
    "!pip install tensorflow==2"
   ]
  },
  {
   "cell_type": "code",
   "execution_count": 2,
   "metadata": {
    "colab": {},
    "colab_type": "code",
    "id": "GWCYTG9XnbK_"
   },
   "outputs": [],
   "source": [
    "import tensorflow as tf\n",
    "import pandas as pd\n",
    "import numpy as np\n",
    "from sklearn.model_selection import train_test_split\n",
    "from tensorflow.keras.utils import to_categorical # For y values\n",
    "from tensorflow.keras.models import Sequential\n",
    "from tensorflow.keras import metrics\n",
    "from tensorflow.keras.layers import Dense, Dropout\n",
    "from tensorflow.keras import backend as K\n",
    "\n",
    "import matplotlib.pyplot as plt\n",
    "\n",
    "import seaborn as sns; sns.set()\n"
   ]
  },
  {
   "cell_type": "code",
   "execution_count": 3,
   "metadata": {
    "colab": {},
    "colab_type": "code",
    "id": "nCVURZJ9nbLM"
   },
   "outputs": [],
   "source": [
    "np.random.seed(123)  # for reproducibility"
   ]
  },
  {
   "cell_type": "markdown",
   "metadata": {
    "colab_type": "text",
    "id": "wInQv3TNnbLT"
   },
   "source": [
    "## Some Helping Functions"
   ]
  },
  {
   "cell_type": "code",
   "execution_count": 4,
   "metadata": {
    "colab": {},
    "colab_type": "code",
    "id": "ztstabDLnbLW"
   },
   "outputs": [],
   "source": [
    "def print_heatmap(data):\n",
    "    heatmap = sns.heatmap(data)\n",
    "    heatmap.set(xlabel='Pseudorapidity', ylabel='Azimuthal Angle')\n",
    "    print(heatmap)\n",
    "    #plt.imshow(data, cmap='jet', interpolation='nearest')\n",
    "    #plt.show()"
   ]
  },
  {
   "cell_type": "code",
   "execution_count": 5,
   "metadata": {
    "colab": {},
    "colab_type": "code",
    "id": "GmFWJpU9nbLb"
   },
   "outputs": [],
   "source": [
    "def get_predicted_values(output_values):\n",
    "    predicted_values = []\n",
    "    for probability in output_values:\n",
    "        if probability[0] > probability[1]:\n",
    "            predicted_values.append(0)\n",
    "        else:\n",
    "            predicted_values.append(1)\n",
    "    return predicted_values"
   ]
  },
  {
   "cell_type": "markdown",
   "metadata": {
    "colab_type": "text",
    "id": "DjKYMo_KnbLf"
   },
   "source": [
    "# Reading the data"
   ]
  },
  {
   "cell_type": "markdown",
   "metadata": {
    "colab_type": "text",
    "id": "M20RSFqSnbLg"
   },
   "source": [
    "First we read the Signal Data and produce a heatmap from the average of all lines. We do so, in order to get the feeling of what our data looks like."
   ]
  },
  {
   "cell_type": "code",
   "execution_count": 6,
   "metadata": {
    "colab": {
     "base_uri": "https://localhost:8080/",
     "height": 241
    },
    "colab_type": "code",
    "id": "Eg7n5D_Voykl",
    "outputId": "7460d627-74f2-4df7-9f5c-e5cce68e625d"
   },
   "outputs": [
    {
     "name": "stdout",
     "output_type": "stream",
     "text": [
      "--2020-02-19 16:28:26--  https://github.com/raphaelmcobe/jet-classification/raw/master/signal_PU0_13TeV_MJ-65-95_PTJ-250-300_ext.txt\n",
      "Resolvendo github.com (github.com)... 18.231.5.6\n",
      "Conectando-se a github.com (github.com)|18.231.5.6|:443... conectado.\n",
      "A requisição HTTP foi enviada, aguardando resposta... 302 Found\n",
      "Localização: https://raw.githubusercontent.com/raphaelmcobe/jet-classification/master/signal_PU0_13TeV_MJ-65-95_PTJ-250-300_ext.txt [redirecionando]\n",
      "--2020-02-19 16:28:26--  https://raw.githubusercontent.com/raphaelmcobe/jet-classification/master/signal_PU0_13TeV_MJ-65-95_PTJ-250-300_ext.txt\n",
      "Resolvendo raw.githubusercontent.com (raw.githubusercontent.com)... 151.101.252.133\n",
      "Conectando-se a raw.githubusercontent.com (raw.githubusercontent.com)|151.101.252.133|:443... conectado.\n",
      "A requisição HTTP foi enviada, aguardando resposta... 416 Range Not Satisfiable\n",
      "\n",
      "    O arquivo já foi completamente obtido; não há nada a ser feito.\n",
      "\n"
     ]
    }
   ],
   "source": [
    "! wget -c https://github.com/raphaelmcobe/jet-classification/raw/master/signal_PU0_13TeV_MJ-65-95_PTJ-250-300_ext.txt"
   ]
  },
  {
   "cell_type": "code",
   "execution_count": 7,
   "metadata": {
    "colab": {
     "base_uri": "https://localhost:8080/",
     "height": 85
    },
    "colab_type": "code",
    "id": "BQL7CWCttkBf",
    "outputId": "d8b1e27e-1999-4101-a6f4-e0ec1762d5cb"
   },
   "outputs": [
    {
     "name": "stdout",
     "output_type": "stream",
     "text": [
      "total 536M\r\n",
      "-rw-rw-r-- 1 hub hub  10M fev  6 15:29 '[Aapo_Hyvarinen,_Juha_Karhunen,_Erkki_Oja]_Indepen(z-lib.org).pdf'\r\n",
      "-rw-r--r-- 1 hub hub  88M fev 19 16:06  background_PU0_13TeV_MJ-65-95_PTJ-250-300_ext.txt\r\n",
      "-rw-rw-r-- 1 hub hub 4,6M fev  6 15:29 '[Christopher_M._Bishop]_Pattern_Recognition_and_Ma(z-lib.org).pdf'\r\n",
      "-rw-rw-r-- 1 hub hub  61M fev 13 14:37  google-chrome-stable_current_amd64.deb\r\n",
      "-rw-rw-r-- 1 hub hub 112K fev 19 16:11 'Image_Jet_Tagging_Analysis_(PTJ_250_300).ipynb'\r\n",
      "-rw-rw-r-- 1 hub hub 1,8M fev 14 11:10 'MODELO_PLANO_AUTOMAÇÃO 16,12% EaD IN2018(1).pdf'\r\n",
      "-rw-rw-r-- 1 hub hub 341K fev 14 11:13 'MODELO_PLANO_AUTOMAÇÃO 16,12% EaD IN2018.odg'\r\n",
      "-rw-rw-r-- 1 hub hub 1,8M fev 14 11:07 'MODELO_PLANO_AUTOMAÇÃO 16,12% EaD IN2018.pdf'\r\n",
      "-rw-rw-r-- 1 hub hub  38M fev 14 17:27  OneDrive_1_14-02-2020.zip\r\n",
      "-rw-r--r-- 1 hub hub  88M fev 19 15:57  signal_PU0_13TeV_MJ-65-95_PTJ-250-300_ext.txt\r\n",
      "-rw-rw-r-- 1 hub hub 113M fev 13 16:11 'Todos os alunos SESI e SENAI - SGE.xlsx'\r\n",
      "-rw-rw-r-- 1 hub hub  64M fev 18 09:48  zoom-1_amd64.deb\r\n",
      "-rw-rw-r-- 1 hub hub  69M fev 18 09:47  zoom_amd64.deb\r\n"
     ]
    }
   ],
   "source": [
    "!ls -lh"
   ]
  },
  {
   "cell_type": "code",
   "execution_count": 8,
   "metadata": {
    "colab": {
     "base_uri": "https://localhost:8080/",
     "height": 204
    },
    "colab_type": "code",
    "id": "2V2ugOhqnbLh",
    "outputId": "ade37df5-7eb4-403e-9b91-17741b236cce"
   },
   "outputs": [
    {
     "name": "stdout",
     "output_type": "stream",
     "text": [
      "(11298, 626)\n",
      "1   NaN\n",
      "2   NaN\n",
      "3   NaN\n",
      "4   NaN\n",
      "5   NaN\n",
      "6   NaN\n",
      "7   NaN\n",
      "8   NaN\n",
      "9   NaN\n",
      "Name: 625, dtype: float64\n"
     ]
    }
   ],
   "source": [
    "signal_data = pd.read_table('signal_PU0_13TeV_MJ-65-95_PTJ-250-300_ext.txt', header=None)\n",
    "print(signal_data.shape)\n",
    "print(signal_data.iloc[1:10,625])"
   ]
  },
  {
   "cell_type": "markdown",
   "metadata": {
    "colab_type": "text",
    "id": "fyq173X2nbLl"
   },
   "source": [
    "As seen, the data read has a last column (no. 626) without data. This happens because the data read has trailing spaces. We need to remove such data."
   ]
  },
  {
   "cell_type": "code",
   "execution_count": 9,
   "metadata": {
    "colab": {
     "base_uri": "https://localhost:8080/",
     "height": 34
    },
    "colab_type": "code",
    "id": "KA0bSBMTnbLm",
    "outputId": "cdac8c94-928b-46b6-8db1-5b8eb24e65e1"
   },
   "outputs": [
    {
     "name": "stdout",
     "output_type": "stream",
     "text": [
      "(11298, 625)\n"
     ]
    }
   ],
   "source": [
    "signal_data.drop(625, axis=1, inplace=True)\n",
    "print(signal_data.shape)"
   ]
  },
  {
   "cell_type": "markdown",
   "metadata": {
    "colab_type": "text",
    "id": "VzvEOwHvnbLq"
   },
   "source": [
    "Then, we calculate the average of all observations."
   ]
  },
  {
   "cell_type": "code",
   "execution_count": 10,
   "metadata": {
    "colab": {
     "base_uri": "https://localhost:8080/",
     "height": 187
    },
    "colab_type": "code",
    "id": "0P1cYrQRnbLr",
    "outputId": "10b2b744-2d59-46b9-a474-731cc5ef8434",
    "scrolled": false
   },
   "outputs": [
    {
     "name": "stdout",
     "output_type": "stream",
     "text": [
      "1    0.000000e+00\n",
      "2    0.000000e+00\n",
      "3    0.000000e+00\n",
      "4    0.000000e+00\n",
      "5    2.397279e-08\n",
      "6    0.000000e+00\n",
      "7    6.124087e-08\n",
      "8    0.000000e+00\n",
      "9    3.770772e-06\n",
      "dtype: float64\n"
     ]
    }
   ],
   "source": [
    "mean_signal = signal_data.mean()\n",
    "print(mean_signal.iloc[1:10,])"
   ]
  },
  {
   "cell_type": "markdown",
   "metadata": {
    "colab_type": "text",
    "id": "XGBuA0WNnbLv"
   },
   "source": [
    "Now draw the Heatmap"
   ]
  },
  {
   "cell_type": "code",
   "execution_count": 11,
   "metadata": {
    "colab": {
     "base_uri": "https://localhost:8080/",
     "height": 319
    },
    "colab_type": "code",
    "id": "b6BRbkxQnbLw",
    "outputId": "f8b5d6ff-d064-4f5d-dc9b-b804dbfd8d6c"
   },
   "outputs": [
    {
     "name": "stdout",
     "output_type": "stream",
     "text": [
      "(625,)\n",
      "AxesSubplot(0.125,0.125;0.62x0.755)\n"
     ]
    },
    {
     "data": {
      "image/png": "[encoded data removed]",
      "text/plain": [
       "<Figure size 432x288 with 2 Axes>"
      ]
     },
     "metadata": {},
     "output_type": "display_data"
    }
   ],
   "source": [
    "mean_signal_matrix = mean_signal.values\n",
    "print(mean_signal_matrix.shape)\n",
    "mean_signal_matrix = mean_signal_matrix.reshape((25,25))\n",
    "\n",
    "print_heatmap(mean_signal_matrix)"
   ]
  },
  {
   "cell_type": "markdown",
   "metadata": {
    "colab_type": "text",
    "id": "aEOOUi9HnbLz"
   },
   "source": [
    "We then add a last column, with the value of `1`. This last column classify this data as signal data. After creating the full dataset we will rename this column to _class_."
   ]
  },
  {
   "cell_type": "code",
   "execution_count": 12,
   "metadata": {
    "colab": {},
    "colab_type": "code",
    "id": "DzLiP-NpnbL0"
   },
   "outputs": [],
   "source": [
    "signal_data[625] = 1"
   ]
  },
  {
   "cell_type": "code",
   "execution_count": 13,
   "metadata": {
    "colab": {
     "base_uri": "https://localhost:8080/",
     "height": 204
    },
    "colab_type": "code",
    "id": "xgX9Fx5knbL4",
    "outputId": "b1f72256-fd44-4a72-a091-30cf74b386e3"
   },
   "outputs": [
    {
     "data": {
      "text/plain": [
       "0    1\n",
       "1    1\n",
       "2    1\n",
       "3    1\n",
       "4    1\n",
       "5    1\n",
       "6    1\n",
       "7    1\n",
       "8    1\n",
       "9    1\n",
       "Name: 625, dtype: int64"
      ]
     },
     "execution_count": 13,
     "metadata": {},
     "output_type": "execute_result"
    }
   ],
   "source": [
    "signal_data.iloc[0:10,625]"
   ]
  },
  {
   "cell_type": "markdown",
   "metadata": {
    "colab_type": "text",
    "id": "m323sQU-nbL7"
   },
   "source": [
    "After preprocessing the _signal_ data, we will perform the same steps with the _background_ data."
   ]
  },
  {
   "cell_type": "code",
   "execution_count": 14,
   "metadata": {
    "colab": {
     "base_uri": "https://localhost:8080/",
     "height": 241
    },
    "colab_type": "code",
    "id": "qqqRBPzauDRT",
    "outputId": "d1e4c9a4-83eb-466e-c6ca-7886ecf57b97"
   },
   "outputs": [
    {
     "name": "stdout",
     "output_type": "stream",
     "text": [
      "--2020-02-19 16:28:29--  https://github.com/raphaelmcobe/jet-classification/raw/master/background_PU0_13TeV_MJ-65-95_PTJ-250-300_ext.txt\n",
      "Resolvendo github.com (github.com)... 18.231.5.6\n",
      "Conectando-se a github.com (github.com)|18.231.5.6|:443... conectado.\n",
      "A requisição HTTP foi enviada, aguardando resposta... 302 Found\n",
      "Localização: https://raw.githubusercontent.com/raphaelmcobe/jet-classification/master/background_PU0_13TeV_MJ-65-95_PTJ-250-300_ext.txt [redirecionando]\n",
      "--2020-02-19 16:28:29--  https://raw.githubusercontent.com/raphaelmcobe/jet-classification/master/background_PU0_13TeV_MJ-65-95_PTJ-250-300_ext.txt\n",
      "Resolvendo raw.githubusercontent.com (raw.githubusercontent.com)... 151.101.252.133\n",
      "Conectando-se a raw.githubusercontent.com (raw.githubusercontent.com)|151.101.252.133|:443... conectado.\n",
      "A requisição HTTP foi enviada, aguardando resposta... 416 Range Not Satisfiable\n",
      "\n",
      "    O arquivo já foi completamente obtido; não há nada a ser feito.\n",
      "\n"
     ]
    }
   ],
   "source": [
    "!wget -c https://github.com/raphaelmcobe/jet-classification/raw/master/background_PU0_13TeV_MJ-65-95_PTJ-250-300_ext.txt"
   ]
  },
  {
   "cell_type": "code",
   "execution_count": 15,
   "metadata": {
    "colab": {
     "base_uri": "https://localhost:8080/",
     "height": 34
    },
    "colab_type": "code",
    "id": "hhvFnAMOnbL8",
    "outputId": "8b352aa3-9679-4eed-aeea-ef24fc192927"
   },
   "outputs": [
    {
     "name": "stdout",
     "output_type": "stream",
     "text": [
      "(11298, 626)\n"
     ]
    }
   ],
   "source": [
    "backgroud_data = pd.read_table('background_PU0_13TeV_MJ-65-95_PTJ-250-300_ext.txt', header=None, dtype=np.float32)\n",
    "print(backgroud_data.shape)"
   ]
  },
  {
   "cell_type": "code",
   "execution_count": 16,
   "metadata": {
    "colab": {
     "base_uri": "https://localhost:8080/",
     "height": 34
    },
    "colab_type": "code",
    "id": "Ahq3YwGQnbL_",
    "outputId": "404eb34c-5f13-4ab6-a5c9-4c447631297f"
   },
   "outputs": [
    {
     "name": "stdout",
     "output_type": "stream",
     "text": [
      "(11298, 625)\n"
     ]
    }
   ],
   "source": [
    "backgroud_data.drop(625, axis=1, inplace=True)\n",
    "print(backgroud_data.shape)"
   ]
  },
  {
   "cell_type": "code",
   "execution_count": 17,
   "metadata": {
    "colab": {
     "base_uri": "https://localhost:8080/",
     "height": 187
    },
    "colab_type": "code",
    "id": "Y0ybVhPInbMD",
    "outputId": "8047c934-02b9-4ed2-9a43-3fe0d93a7641"
   },
   "outputs": [
    {
     "name": "stdout",
     "output_type": "stream",
     "text": [
      "1    0.000000e+00\n",
      "2    0.000000e+00\n",
      "3    8.339239e-08\n",
      "4    0.000000e+00\n",
      "5    1.226879e-06\n",
      "6    9.698673e-07\n",
      "7    3.696426e-06\n",
      "8    8.896710e-06\n",
      "9    5.325904e-06\n",
      "dtype: float32\n"
     ]
    }
   ],
   "source": [
    "mean_background = backgroud_data.mean()\n",
    "print(mean_background.iloc[1:10,])"
   ]
  },
  {
   "cell_type": "code",
   "execution_count": 18,
   "metadata": {
    "colab": {
     "base_uri": "https://localhost:8080/",
     "height": 319
    },
    "colab_type": "code",
    "id": "Wu7pr57unbMG",
    "outputId": "7495d681-702e-4850-b367-96ad404325c3"
   },
   "outputs": [
    {
     "name": "stdout",
     "output_type": "stream",
     "text": [
      "(625,)\n",
      "AxesSubplot(0.125,0.125;0.62x0.755)\n"
     ]
    },
    {
     "data": {
      "image/png": "[encoded data removed]",
      "text/plain": [
       "<Figure size 432x288 with 2 Axes>"
      ]
     },
     "metadata": {},
     "output_type": "display_data"
    }
   ],
   "source": [
    "mean_background_matrix = mean_background.values\n",
    "print(mean_background_matrix.shape)\n",
    "mean_background_matrix = mean_background_matrix.reshape((25,25))\n",
    "\n",
    "print_heatmap(mean_background_matrix)"
   ]
  },
  {
   "cell_type": "markdown",
   "metadata": {
    "colab_type": "text",
    "id": "ba5vyyHanbMJ"
   },
   "source": [
    "We modify this data, to point out that this is the background data, by setting the last column to `0`."
   ]
  },
  {
   "cell_type": "code",
   "execution_count": 19,
   "metadata": {
    "colab": {},
    "colab_type": "code",
    "id": "VMNphGslnbMK"
   },
   "outputs": [],
   "source": [
    "backgroud_data[625] = 0"
   ]
  },
  {
   "cell_type": "code",
   "execution_count": 20,
   "metadata": {
    "colab": {
     "base_uri": "https://localhost:8080/",
     "height": 204
    },
    "colab_type": "code",
    "id": "nLKSAouNnbMN",
    "outputId": "38c1aa6b-0514-4bf2-f23b-0a5916a213d4"
   },
   "outputs": [
    {
     "data": {
      "text/plain": [
       "0    0\n",
       "1    0\n",
       "2    0\n",
       "3    0\n",
       "4    0\n",
       "5    0\n",
       "6    0\n",
       "7    0\n",
       "8    0\n",
       "9    0\n",
       "Name: 625, dtype: int64"
      ]
     },
     "execution_count": 20,
     "metadata": {},
     "output_type": "execute_result"
    }
   ],
   "source": [
    "backgroud_data.iloc[0:10,625]"
   ]
  },
  {
   "cell_type": "markdown",
   "metadata": {
    "colab_type": "text",
    "id": "msTbbko2nbMU"
   },
   "source": [
    "Now we concatenate the data and shuffle it in order to randomize its columns."
   ]
  },
  {
   "cell_type": "code",
   "execution_count": 21,
   "metadata": {
    "colab": {},
    "colab_type": "code",
    "id": "s-XkRYybnbMV"
   },
   "outputs": [],
   "source": [
    "frames = [signal_data, backgroud_data]\n",
    "full_data = pd.concat(frames)"
   ]
  },
  {
   "cell_type": "code",
   "execution_count": 22,
   "metadata": {
    "colab": {},
    "colab_type": "code",
    "id": "uWm-N06WnbMY"
   },
   "outputs": [],
   "source": [
    "full_data = full_data.sample(frac=1).reset_index(drop=True)\n",
    "full_data.rename(columns={625:'class'}, inplace=True)"
   ]
  },
  {
   "cell_type": "markdown",
   "metadata": {
    "colab_type": "text",
    "id": "3Ge_MLD_nbMc"
   },
   "source": [
    "Now let's examine how our data looks like."
   ]
  },
  {
   "cell_type": "code",
   "execution_count": 23,
   "metadata": {
    "colab": {
     "base_uri": "https://localhost:8080/",
     "height": 419
    },
    "colab_type": "code",
    "id": "WSxW0Hr9nbMe",
    "outputId": "25623541-c0cb-407e-f633-52a222ffe058",
    "scrolled": true
   },
   "outputs": [
    {
     "data": {
      "text/html": [
       "<div>\n",
       "<style scoped>\n",
       "    .dataframe tbody tr th:only-of-type {\n",
       "        vertical-align: middle;\n",
       "    }\n",
       "\n",
       "    .dataframe tbody tr th {\n",
       "        vertical-align: top;\n",
       "    }\n",
       "\n",
       "    .dataframe thead th {\n",
       "        text-align: right;\n",
       "    }\n",
       "</style>\n",
       "<table border=\"1\" class=\"dataframe\">\n",
       "  <thead>\n",
       "    <tr style=\"text-align: right;\">\n",
       "      <th></th>\n",
       "      <th>0</th>\n",
       "      <th>1</th>\n",
       "      <th>2</th>\n",
       "      <th>3</th>\n",
       "      <th>4</th>\n",
       "      <th>5</th>\n",
       "      <th>6</th>\n",
       "      <th>...</th>\n",
       "      <th>619</th>\n",
       "      <th>620</th>\n",
       "      <th>621</th>\n",
       "      <th>622</th>\n",
       "      <th>623</th>\n",
       "      <th>624</th>\n",
       "      <th>class</th>\n",
       "    </tr>\n",
       "  </thead>\n",
       "  <tbody>\n",
       "    <tr>\n",
       "      <th>0</th>\n",
       "      <td>0.00</td>\n",
       "      <td>0.00</td>\n",
       "      <td>0.00</td>\n",
       "      <td>0.00</td>\n",
       "      <td>0.00</td>\n",
       "      <td>0.00</td>\n",
       "      <td>0.00</td>\n",
       "      <td>...</td>\n",
       "      <td>0.00</td>\n",
       "      <td>0.00</td>\n",
       "      <td>0.00</td>\n",
       "      <td>0.00</td>\n",
       "      <td>0.00</td>\n",
       "      <td>0.00</td>\n",
       "      <td>1</td>\n",
       "    </tr>\n",
       "    <tr>\n",
       "      <th>1</th>\n",
       "      <td>0.00</td>\n",
       "      <td>0.00</td>\n",
       "      <td>0.00</td>\n",
       "      <td>0.00</td>\n",
       "      <td>0.00</td>\n",
       "      <td>0.00</td>\n",
       "      <td>0.00</td>\n",
       "      <td>...</td>\n",
       "      <td>0.00</td>\n",
       "      <td>0.00</td>\n",
       "      <td>0.00</td>\n",
       "      <td>0.00</td>\n",
       "      <td>0.00</td>\n",
       "      <td>0.00</td>\n",
       "      <td>1</td>\n",
       "    </tr>\n",
       "    <tr>\n",
       "      <th>2</th>\n",
       "      <td>0.00</td>\n",
       "      <td>0.00</td>\n",
       "      <td>0.00</td>\n",
       "      <td>0.00</td>\n",
       "      <td>0.00</td>\n",
       "      <td>0.00</td>\n",
       "      <td>0.00</td>\n",
       "      <td>...</td>\n",
       "      <td>0.00</td>\n",
       "      <td>0.00</td>\n",
       "      <td>0.00</td>\n",
       "      <td>0.00</td>\n",
       "      <td>0.00</td>\n",
       "      <td>0.00</td>\n",
       "      <td>0</td>\n",
       "    </tr>\n",
       "    <tr>\n",
       "      <th>3</th>\n",
       "      <td>0.00</td>\n",
       "      <td>0.00</td>\n",
       "      <td>0.00</td>\n",
       "      <td>0.00</td>\n",
       "      <td>0.00</td>\n",
       "      <td>0.00</td>\n",
       "      <td>0.00</td>\n",
       "      <td>...</td>\n",
       "      <td>0.00</td>\n",
       "      <td>0.00</td>\n",
       "      <td>0.00</td>\n",
       "      <td>0.00</td>\n",
       "      <td>0.00</td>\n",
       "      <td>0.00</td>\n",
       "      <td>0</td>\n",
       "    </tr>\n",
       "    <tr>\n",
       "      <th>4</th>\n",
       "      <td>0.00</td>\n",
       "      <td>0.00</td>\n",
       "      <td>0.00</td>\n",
       "      <td>0.00</td>\n",
       "      <td>0.00</td>\n",
       "      <td>0.00</td>\n",
       "      <td>0.00</td>\n",
       "      <td>...</td>\n",
       "      <td>0.00</td>\n",
       "      <td>0.00</td>\n",
       "      <td>0.00</td>\n",
       "      <td>0.00</td>\n",
       "      <td>0.00</td>\n",
       "      <td>0.00</td>\n",
       "      <td>0</td>\n",
       "    </tr>\n",
       "    <tr>\n",
       "      <th>...</th>\n",
       "      <td>...</td>\n",
       "      <td>...</td>\n",
       "      <td>...</td>\n",
       "      <td>...</td>\n",
       "      <td>...</td>\n",
       "      <td>...</td>\n",
       "      <td>...</td>\n",
       "      <td>...</td>\n",
       "      <td>...</td>\n",
       "      <td>...</td>\n",
       "      <td>...</td>\n",
       "      <td>...</td>\n",
       "      <td>...</td>\n",
       "      <td>...</td>\n",
       "      <td>...</td>\n",
       "    </tr>\n",
       "    <tr>\n",
       "      <th>22591</th>\n",
       "      <td>0.00</td>\n",
       "      <td>0.00</td>\n",
       "      <td>0.00</td>\n",
       "      <td>0.00</td>\n",
       "      <td>0.00</td>\n",
       "      <td>0.00</td>\n",
       "      <td>0.00</td>\n",
       "      <td>...</td>\n",
       "      <td>0.00</td>\n",
       "      <td>0.00</td>\n",
       "      <td>0.00</td>\n",
       "      <td>0.00</td>\n",
       "      <td>0.00</td>\n",
       "      <td>0.00</td>\n",
       "      <td>0</td>\n",
       "    </tr>\n",
       "    <tr>\n",
       "      <th>22592</th>\n",
       "      <td>0.00</td>\n",
       "      <td>0.00</td>\n",
       "      <td>0.00</td>\n",
       "      <td>0.00</td>\n",
       "      <td>0.00</td>\n",
       "      <td>0.00</td>\n",
       "      <td>0.00</td>\n",
       "      <td>...</td>\n",
       "      <td>0.00</td>\n",
       "      <td>0.00</td>\n",
       "      <td>0.00</td>\n",
       "      <td>0.00</td>\n",
       "      <td>0.00</td>\n",
       "      <td>0.00</td>\n",
       "      <td>0</td>\n",
       "    </tr>\n",
       "    <tr>\n",
       "      <th>22593</th>\n",
       "      <td>0.00</td>\n",
       "      <td>0.00</td>\n",
       "      <td>0.00</td>\n",
       "      <td>0.00</td>\n",
       "      <td>0.00</td>\n",
       "      <td>0.00</td>\n",
       "      <td>0.00</td>\n",
       "      <td>...</td>\n",
       "      <td>0.00</td>\n",
       "      <td>0.00</td>\n",
       "      <td>0.00</td>\n",
       "      <td>0.00</td>\n",
       "      <td>0.00</td>\n",
       "      <td>0.00</td>\n",
       "      <td>0</td>\n",
       "    </tr>\n",
       "    <tr>\n",
       "      <th>22594</th>\n",
       "      <td>0.00</td>\n",
       "      <td>0.00</td>\n",
       "      <td>0.00</td>\n",
       "      <td>0.00</td>\n",
       "      <td>0.00</td>\n",
       "      <td>0.00</td>\n",
       "      <td>0.00</td>\n",
       "      <td>...</td>\n",
       "      <td>0.00</td>\n",
       "      <td>0.00</td>\n",
       "      <td>0.00</td>\n",
       "      <td>0.00</td>\n",
       "      <td>0.00</td>\n",
       "      <td>0.00</td>\n",
       "      <td>0</td>\n",
       "    </tr>\n",
       "    <tr>\n",
       "      <th>22595</th>\n",
       "      <td>0.00</td>\n",
       "      <td>0.00</td>\n",
       "      <td>0.00</td>\n",
       "      <td>0.00</td>\n",
       "      <td>0.00</td>\n",
       "      <td>0.00</td>\n",
       "      <td>0.00</td>\n",
       "      <td>...</td>\n",
       "      <td>0.00</td>\n",
       "      <td>0.00</td>\n",
       "      <td>0.00</td>\n",
       "      <td>0.00</td>\n",
       "      <td>0.00</td>\n",
       "      <td>0.00</td>\n",
       "      <td>0</td>\n",
       "    </tr>\n",
       "  </tbody>\n",
       "</table>\n",
       "<p>22596 rows × 626 columns</p>\n",
       "</div>"
      ],
      "text/plain": [
       "         0    1    2    3    4    5    6  ...  619  620  621  622  623  624  \\\n",
       "0     0.00 0.00 0.00 0.00 0.00 0.00 0.00  ... 0.00 0.00 0.00 0.00 0.00 0.00   \n",
       "1     0.00 0.00 0.00 0.00 0.00 0.00 0.00  ... 0.00 0.00 0.00 0.00 0.00 0.00   \n",
       "2     0.00 0.00 0.00 0.00 0.00 0.00 0.00  ... 0.00 0.00 0.00 0.00 0.00 0.00   \n",
       "3     0.00 0.00 0.00 0.00 0.00 0.00 0.00  ... 0.00 0.00 0.00 0.00 0.00 0.00   \n",
       "4     0.00 0.00 0.00 0.00 0.00 0.00 0.00  ... 0.00 0.00 0.00 0.00 0.00 0.00   \n",
       "...    ...  ...  ...  ...  ...  ...  ...  ...  ...  ...  ...  ...  ...  ...   \n",
       "22591 0.00 0.00 0.00 0.00 0.00 0.00 0.00  ... 0.00 0.00 0.00 0.00 0.00 0.00   \n",
       "22592 0.00 0.00 0.00 0.00 0.00 0.00 0.00  ... 0.00 0.00 0.00 0.00 0.00 0.00   \n",
       "22593 0.00 0.00 0.00 0.00 0.00 0.00 0.00  ... 0.00 0.00 0.00 0.00 0.00 0.00   \n",
       "22594 0.00 0.00 0.00 0.00 0.00 0.00 0.00  ... 0.00 0.00 0.00 0.00 0.00 0.00   \n",
       "22595 0.00 0.00 0.00 0.00 0.00 0.00 0.00  ... 0.00 0.00 0.00 0.00 0.00 0.00   \n",
       "\n",
       "       class  \n",
       "0          1  \n",
       "1          1  \n",
       "2          0  \n",
       "3          0  \n",
       "4          0  \n",
       "...      ...  \n",
       "22591      0  \n",
       "22592      0  \n",
       "22593      0  \n",
       "22594      0  \n",
       "22595      0  \n",
       "\n",
       "[22596 rows x 626 columns]"
      ]
     },
     "metadata": {},
     "output_type": "display_data"
    }
   ],
   "source": [
    "from IPython.core.display import display\n",
    "with pd.option_context('display.max_rows', 200, 'display.max_columns', 15, \n",
    "                       'display.float_format', '{:.2f}'.format):\n",
    "    display(full_data)"
   ]
  },
  {
   "cell_type": "markdown",
   "metadata": {
    "colab_type": "text",
    "id": "s8esvBX-nbMh"
   },
   "source": [
    "# Defining and Training the model"
   ]
  },
  {
   "cell_type": "markdown",
   "metadata": {
    "colab_type": "text",
    "id": "hNpOe50onbMi"
   },
   "source": [
    "Split the full dataset into _test_ and _train_ data in a 70-30% rate."
   ]
  },
  {
   "cell_type": "code",
   "execution_count": 298,
   "metadata": {
    "colab": {
     "base_uri": "https://localhost:8080/",
     "height": 51
    },
    "colab_type": "code",
    "id": "pPpuYleJnbMj",
    "outputId": "f9374b9a-e861-46d5-fc04-a4ebc6b7d30e"
   },
   "outputs": [
    {
     "name": "stdout",
     "output_type": "stream",
     "text": [
      "(15817, 626)\n",
      "(6779, 626)\n"
     ]
    }
   ],
   "source": [
    "train_data, test_data = train_test_split(full_data, test_size = 0.3)\n",
    "print(train_data.shape)\n",
    "\n",
    "print(test_data.shape)"
   ]
  },
  {
   "cell_type": "markdown",
   "metadata": {
    "colab_type": "text",
    "id": "bkBBwObWnbMl"
   },
   "source": [
    "The _Keras_ framework, in order to train its network must receive the dependent and independent variables in  separated tables."
   ]
  },
  {
   "cell_type": "code",
   "execution_count": 299,
   "metadata": {
    "colab": {
     "base_uri": "https://localhost:8080/",
     "height": 51
    },
    "colab_type": "code",
    "id": "HkCO2uPhnbMm",
    "outputId": "ddf27960-5aae-4b09-989b-2b1fd0d22778"
   },
   "outputs": [
    {
     "name": "stdout",
     "output_type": "stream",
     "text": [
      "(15817, 625)\n",
      "(15817, 1)\n"
     ]
    }
   ],
   "source": [
    "X_train = train_data.iloc[:, :-1]\n",
    "print(X_train.shape)\n",
    "Y_train = train_data.iloc[:,-1:]\n",
    "print(Y_train.shape)"
   ]
  },
  {
   "cell_type": "code",
   "execution_count": 300,
   "metadata": {
    "colab": {
     "base_uri": "https://localhost:8080/",
     "height": 51
    },
    "colab_type": "code",
    "id": "xiaLXKItnbMq",
    "outputId": "97b8e451-fe0e-4c52-ecfb-38811d41599c"
   },
   "outputs": [
    {
     "name": "stdout",
     "output_type": "stream",
     "text": [
      "(6779, 625)\n",
      "(6779, 1)\n"
     ]
    }
   ],
   "source": [
    "X_test = test_data.iloc[:, :-1]\n",
    "print(X_test.shape)\n",
    "Y_test = test_data.iloc[:,-1:]\n",
    "print(Y_test.shape)"
   ]
  },
  {
   "cell_type": "markdown",
   "metadata": {
    "colab_type": "text",
    "id": "N-iHnkB2nbMs"
   },
   "source": [
    "We must convert the dependent variable to be a probability distribution of the possible outcomes, thus, a value of output `1` must become the probabilities `(0, 1)`. Conversely, a `0` outcome value must become the pair `(1, 0)`."
   ]
  },
  {
   "cell_type": "code",
   "execution_count": 301,
   "metadata": {
    "colab": {},
    "colab_type": "code",
    "id": "MjeHiPhhnbMt"
   },
   "outputs": [],
   "source": [
    "Y_train = to_categorical(Y_train.values, num_classes=2)"
   ]
  },
  {
   "cell_type": "markdown",
   "metadata": {
    "colab_type": "text",
    "id": "0Tjr8XEjnbMw"
   },
   "source": [
    "## Neural Network Architecture Definition"
   ]
  },
  {
   "cell_type": "markdown",
   "metadata": {
    "colab_type": "text",
    "id": "APGfrj38nbMw"
   },
   "source": [
    "We defined a simple NN, with only two hidden layer."
   ]
  },
  {
   "cell_type": "code",
   "execution_count": 302,
   "metadata": {
    "colab": {},
    "colab_type": "code",
    "id": "esvYiwjonbMx"
   },
   "outputs": [],
   "source": [
    "dimof_input = X_train.shape[1]\n",
    "model = Sequential()\n",
    "model.add(Dense(units=8, activation='relu', input_dim=dimof_input))\n",
    "model.add(Dropout(0.1))\n",
    "model.add(Dense(units=5, activation='elu', input_dim=dimof_input))\n",
    "model.add(Dense(units=2))\n",
    "model.compile(loss='mean_squared_logarithmic_error', optimizer='adam', \n",
    "              metrics=[\"accuracy\"])"
   ]
  },
  {
   "cell_type": "markdown",
   "metadata": {
    "colab_type": "text",
    "id": "nslkXkT3nbM0"
   },
   "source": [
    "After defining the NN architecture we train it using the `fit` method. We trained it for 50 epochs (backpropagation cycles). "
   ]
  },
  {
   "cell_type": "code",
   "execution_count": 303,
   "metadata": {
    "colab": {
     "base_uri": "https://localhost:8080/",
     "height": 34
    },
    "colab_type": "code",
    "id": "2HmtAhYAnbM0",
    "outputId": "5331e10a-c3e5-425a-a854-0884405c3435"
   },
   "outputs": [
    {
     "name": "stdout",
     "output_type": "stream",
     "text": [
      "Train on 15817 samples\n",
      "Epoch 1/180\n",
      "15817/15817 [==============================] - 1s 33us/sample - loss: 0.1430 - accuracy: 0.5615\n",
      "Epoch 2/180\n",
      "15817/15817 [==============================] - 0s 16us/sample - loss: 0.1053 - accuracy: 0.6743\n",
      "Epoch 3/180\n",
      "15817/15817 [==============================] - 0s 16us/sample - loss: 0.0986 - accuracy: 0.6945\n",
      "Epoch 4/180\n",
      "15817/15817 [==============================] - 0s 16us/sample - loss: 0.0953 - accuracy: 0.7067\n",
      "Epoch 5/180\n",
      "15817/15817 [==============================] - 0s 16us/sample - loss: 0.0931 - accuracy: 0.7121\n",
      "Epoch 6/180\n",
      "15817/15817 [==============================] - 0s 16us/sample - loss: 0.0910 - accuracy: 0.7188\n",
      "Epoch 7/180\n",
      "15817/15817 [==============================] - 0s 16us/sample - loss: 0.0889 - accuracy: 0.7280\n",
      "Epoch 8/180\n",
      "15817/15817 [==============================] - 0s 16us/sample - loss: 0.0878 - accuracy: 0.7330\n",
      "Epoch 9/180\n",
      "15817/15817 [==============================] - 0s 16us/sample - loss: 0.0867 - accuracy: 0.7351\n",
      "Epoch 10/180\n",
      "15817/15817 [==============================] - 0s 16us/sample - loss: 0.0851 - accuracy: 0.7415\n",
      "Epoch 11/180\n",
      "15817/15817 [==============================] - 0s 16us/sample - loss: 0.0847 - accuracy: 0.7420\n",
      "Epoch 12/180\n",
      "15817/15817 [==============================] - 0s 18us/sample - loss: 0.0839 - accuracy: 0.7486\n",
      "Epoch 13/180\n",
      "15817/15817 [==============================] - 0s 16us/sample - loss: 0.0835 - accuracy: 0.7474\n",
      "Epoch 14/180\n",
      "15817/15817 [==============================] - 0s 16us/sample - loss: 0.0830 - accuracy: 0.7524\n",
      "Epoch 15/180\n",
      "15817/15817 [==============================] - 0s 19us/sample - loss: 0.0824 - accuracy: 0.7537\n",
      "Epoch 16/180\n",
      "15817/15817 [==============================] - 0s 17us/sample - loss: 0.0820 - accuracy: 0.7527\n",
      "Epoch 17/180\n",
      "15817/15817 [==============================] - 0s 17us/sample - loss: 0.0814 - accuracy: 0.7564\n",
      "Epoch 18/180\n",
      "15817/15817 [==============================] - 0s 16us/sample - loss: 0.0809 - accuracy: 0.7584\n",
      "Epoch 19/180\n",
      "15817/15817 [==============================] - 0s 16us/sample - loss: 0.0809 - accuracy: 0.7568\n",
      "Epoch 20/180\n",
      "15817/15817 [==============================] - 0s 17us/sample - loss: 0.0800 - accuracy: 0.7627\n",
      "Epoch 21/180\n",
      "15817/15817 [==============================] - 0s 17us/sample - loss: 0.0800 - accuracy: 0.7618\n",
      "Epoch 22/180\n",
      "15817/15817 [==============================] - 0s 17us/sample - loss: 0.0796 - accuracy: 0.7651\n",
      "Epoch 23/180\n",
      "15817/15817 [==============================] - 0s 17us/sample - loss: 0.0794 - accuracy: 0.7637\n",
      "Epoch 24/180\n",
      "15817/15817 [==============================] - 0s 16us/sample - loss: 0.0788 - accuracy: 0.7642\n",
      "Epoch 25/180\n",
      "15817/15817 [==============================] - 0s 16us/sample - loss: 0.0786 - accuracy: 0.7665\n",
      "Epoch 26/180\n",
      "15817/15817 [==============================] - 0s 16us/sample - loss: 0.0788 - accuracy: 0.7649\n",
      "Epoch 27/180\n",
      "15817/15817 [==============================] - 0s 18us/sample - loss: 0.0777 - accuracy: 0.7690\n",
      "Epoch 28/180\n",
      "15817/15817 [==============================] - 0s 16us/sample - loss: 0.0777 - accuracy: 0.7686\n",
      "Epoch 29/180\n",
      "15817/15817 [==============================] - 0s 16us/sample - loss: 0.0777 - accuracy: 0.7709\n",
      "Epoch 30/180\n",
      "15817/15817 [==============================] - 0s 16us/sample - loss: 0.0777 - accuracy: 0.7678\n",
      "Epoch 31/180\n",
      "15817/15817 [==============================] - 0s 17us/sample - loss: 0.0773 - accuracy: 0.7719\n",
      "Epoch 32/180\n",
      "15817/15817 [==============================] - 0s 16us/sample - loss: 0.0766 - accuracy: 0.7740\n",
      "Epoch 33/180\n",
      "15817/15817 [==============================] - 0s 16us/sample - loss: 0.0767 - accuracy: 0.7725\n",
      "Epoch 34/180\n",
      "15817/15817 [==============================] - 0s 17us/sample - loss: 0.0766 - accuracy: 0.7744\n",
      "Epoch 35/180\n",
      "15817/15817 [==============================] - 0s 17us/sample - loss: 0.0762 - accuracy: 0.7738\n",
      "Epoch 36/180\n",
      "15817/15817 [==============================] - 0s 16us/sample - loss: 0.0757 - accuracy: 0.7735\n",
      "Epoch 37/180\n",
      "15817/15817 [==============================] - 0s 16us/sample - loss: 0.0759 - accuracy: 0.7746\n",
      "Epoch 38/180\n",
      "15817/15817 [==============================] - 0s 16us/sample - loss: 0.0761 - accuracy: 0.7740\n",
      "Epoch 39/180\n",
      "15817/15817 [==============================] - 0s 16us/sample - loss: 0.0751 - accuracy: 0.7771\n",
      "Epoch 40/180\n",
      "15817/15817 [==============================] - 0s 16us/sample - loss: 0.0752 - accuracy: 0.7769\n",
      "Epoch 41/180\n",
      "15817/15817 [==============================] - 0s 17us/sample - loss: 0.0749 - accuracy: 0.7798\n",
      "Epoch 42/180\n",
      "15817/15817 [==============================] - 0s 16us/sample - loss: 0.0751 - accuracy: 0.7774\n",
      "Epoch 43/180\n",
      "15817/15817 [==============================] - 0s 16us/sample - loss: 0.0746 - accuracy: 0.7799\n",
      "Epoch 44/180\n",
      "15817/15817 [==============================] - 0s 17us/sample - loss: 0.0745 - accuracy: 0.7791\n",
      "Epoch 45/180\n",
      "15817/15817 [==============================] - 0s 17us/sample - loss: 0.0743 - accuracy: 0.7787\n",
      "Epoch 46/180\n",
      "15817/15817 [==============================] - 0s 18us/sample - loss: 0.0741 - accuracy: 0.7808\n",
      "Epoch 47/180\n",
      "15817/15817 [==============================] - 0s 16us/sample - loss: 0.0742 - accuracy: 0.7799\n",
      "Epoch 48/180\n",
      "15817/15817 [==============================] - 0s 16us/sample - loss: 0.0739 - accuracy: 0.7839\n",
      "Epoch 49/180\n",
      "15817/15817 [==============================] - 0s 18us/sample - loss: 0.0739 - accuracy: 0.7815\n",
      "Epoch 50/180\n",
      "15817/15817 [==============================] - 0s 17us/sample - loss: 0.0742 - accuracy: 0.7811\n",
      "Epoch 51/180\n",
      "15817/15817 [==============================] - 0s 17us/sample - loss: 0.0735 - accuracy: 0.7847\n",
      "Epoch 52/180\n",
      "15817/15817 [==============================] - 0s 17us/sample - loss: 0.0737 - accuracy: 0.7828\n",
      "Epoch 53/180\n",
      "15817/15817 [==============================] - 0s 16us/sample - loss: 0.0732 - accuracy: 0.7837\n",
      "Epoch 54/180\n",
      "15817/15817 [==============================] - 0s 16us/sample - loss: 0.0739 - accuracy: 0.7831\n",
      "Epoch 55/180\n",
      "15817/15817 [==============================] - 0s 16us/sample - loss: 0.0738 - accuracy: 0.7825\n",
      "Epoch 56/180\n",
      "15817/15817 [==============================] - 0s 16us/sample - loss: 0.0730 - accuracy: 0.7833\n",
      "Epoch 57/180\n",
      "15817/15817 [==============================] - 0s 16us/sample - loss: 0.0733 - accuracy: 0.7853\n",
      "Epoch 58/180\n",
      "15817/15817 [==============================] - 0s 16us/sample - loss: 0.0732 - accuracy: 0.7837\n",
      "Epoch 59/180\n",
      "15817/15817 [==============================] - 0s 16us/sample - loss: 0.0727 - accuracy: 0.7869\n",
      "Epoch 60/180\n",
      "15817/15817 [==============================] - 0s 17us/sample - loss: 0.0729 - accuracy: 0.7853\n",
      "Epoch 61/180\n",
      "15817/15817 [==============================] - 0s 16us/sample - loss: 0.0724 - accuracy: 0.7886\n",
      "Epoch 62/180\n",
      "15817/15817 [==============================] - 0s 16us/sample - loss: 0.0723 - accuracy: 0.7901\n",
      "Epoch 63/180\n",
      "15817/15817 [==============================] - 0s 16us/sample - loss: 0.0729 - accuracy: 0.7866\n",
      "Epoch 64/180\n",
      "15817/15817 [==============================] - 0s 16us/sample - loss: 0.0723 - accuracy: 0.7864\n",
      "Epoch 65/180\n",
      "15817/15817 [==============================] - 0s 16us/sample - loss: 0.0726 - accuracy: 0.7860\n",
      "Epoch 66/180\n",
      "15817/15817 [==============================] - 0s 16us/sample - loss: 0.0719 - accuracy: 0.7892\n",
      "Epoch 67/180\n",
      "15817/15817 [==============================] - 0s 16us/sample - loss: 0.0721 - accuracy: 0.7884\n",
      "Epoch 68/180\n",
      "15817/15817 [==============================] - 0s 17us/sample - loss: 0.0724 - accuracy: 0.7875\n",
      "Epoch 69/180\n",
      "15817/15817 [==============================] - 0s 17us/sample - loss: 0.0722 - accuracy: 0.7876\n",
      "Epoch 70/180\n",
      "15817/15817 [==============================] - 0s 17us/sample - loss: 0.0719 - accuracy: 0.7899\n",
      "Epoch 71/180\n",
      "15817/15817 [==============================] - 0s 17us/sample - loss: 0.0720 - accuracy: 0.7880\n",
      "Epoch 72/180\n",
      "15817/15817 [==============================] - 0s 17us/sample - loss: 0.0720 - accuracy: 0.7885\n",
      "Epoch 73/180\n",
      "15817/15817 [==============================] - 0s 17us/sample - loss: 0.0715 - accuracy: 0.7924\n",
      "Epoch 74/180\n",
      "15817/15817 [==============================] - 0s 17us/sample - loss: 0.0715 - accuracy: 0.7909\n",
      "Epoch 75/180\n",
      "15817/15817 [==============================] - 0s 17us/sample - loss: 0.0718 - accuracy: 0.7890\n",
      "Epoch 76/180\n"
     ]
    },
    {
     "name": "stdout",
     "output_type": "stream",
     "text": [
      "15817/15817 [==============================] - 0s 16us/sample - loss: 0.0720 - accuracy: 0.7905\n",
      "Epoch 77/180\n",
      "15817/15817 [==============================] - 0s 17us/sample - loss: 0.0718 - accuracy: 0.7886\n",
      "Epoch 78/180\n",
      "15817/15817 [==============================] - 0s 16us/sample - loss: 0.0710 - accuracy: 0.7914\n",
      "Epoch 79/180\n",
      "15817/15817 [==============================] - 0s 17us/sample - loss: 0.0713 - accuracy: 0.7937\n",
      "Epoch 80/180\n",
      "15817/15817 [==============================] - 0s 17us/sample - loss: 0.0714 - accuracy: 0.7929\n",
      "Epoch 81/180\n",
      "15817/15817 [==============================] - 0s 17us/sample - loss: 0.0715 - accuracy: 0.7898\n",
      "Epoch 82/180\n",
      "15817/15817 [==============================] - 0s 16us/sample - loss: 0.0709 - accuracy: 0.7931\n",
      "Epoch 83/180\n",
      "15817/15817 [==============================] - 0s 16us/sample - loss: 0.0708 - accuracy: 0.7939\n",
      "Epoch 84/180\n",
      "15817/15817 [==============================] - 0s 17us/sample - loss: 0.0714 - accuracy: 0.7924\n",
      "Epoch 85/180\n",
      "15817/15817 [==============================] - 0s 16us/sample - loss: 0.0716 - accuracy: 0.7907\n",
      "Epoch 86/180\n",
      "15817/15817 [==============================] - 0s 16us/sample - loss: 0.0709 - accuracy: 0.7900\n",
      "Epoch 87/180\n",
      "15817/15817 [==============================] - 0s 17us/sample - loss: 0.0706 - accuracy: 0.7933\n",
      "Epoch 88/180\n",
      "15817/15817 [==============================] - 0s 17us/sample - loss: 0.0711 - accuracy: 0.7953\n",
      "Epoch 89/180\n",
      "15817/15817 [==============================] - 0s 16us/sample - loss: 0.0711 - accuracy: 0.7919\n",
      "Epoch 90/180\n",
      "15817/15817 [==============================] - 0s 17us/sample - loss: 0.0711 - accuracy: 0.7932\n",
      "Epoch 91/180\n",
      "15817/15817 [==============================] - 0s 17us/sample - loss: 0.0703 - accuracy: 0.7964\n",
      "Epoch 92/180\n",
      "15817/15817 [==============================] - 0s 16us/sample - loss: 0.0709 - accuracy: 0.7898\n",
      "Epoch 93/180\n",
      "15817/15817 [==============================] - 0s 17us/sample - loss: 0.0708 - accuracy: 0.7944\n",
      "Epoch 94/180\n",
      "15817/15817 [==============================] - 0s 18us/sample - loss: 0.0709 - accuracy: 0.7938\n",
      "Epoch 95/180\n",
      "15817/15817 [==============================] - 0s 16us/sample - loss: 0.0706 - accuracy: 0.7945\n",
      "Epoch 96/180\n",
      "15817/15817 [==============================] - 0s 17us/sample - loss: 0.0704 - accuracy: 0.7940\n",
      "Epoch 97/180\n",
      "15817/15817 [==============================] - 0s 17us/sample - loss: 0.0702 - accuracy: 0.7943\n",
      "Epoch 98/180\n",
      "15817/15817 [==============================] - 0s 16us/sample - loss: 0.0702 - accuracy: 0.7970\n",
      "Epoch 99/180\n",
      "15817/15817 [==============================] - 0s 18us/sample - loss: 0.0702 - accuracy: 0.7957\n",
      "Epoch 100/180\n",
      "15817/15817 [==============================] - 0s 17us/sample - loss: 0.0704 - accuracy: 0.7929\n",
      "Epoch 101/180\n",
      "15817/15817 [==============================] - 0s 17us/sample - loss: 0.0703 - accuracy: 0.7989\n",
      "Epoch 102/180\n",
      "15817/15817 [==============================] - 0s 17us/sample - loss: 0.0703 - accuracy: 0.7967\n",
      "Epoch 103/180\n",
      "15817/15817 [==============================] - 0s 16us/sample - loss: 0.0704 - accuracy: 0.7962\n",
      "Epoch 104/180\n",
      "15817/15817 [==============================] - 0s 16us/sample - loss: 0.0701 - accuracy: 0.7946\n",
      "Epoch 105/180\n",
      "15817/15817 [==============================] - 0s 17us/sample - loss: 0.0703 - accuracy: 0.7962\n",
      "Epoch 106/180\n",
      "15817/15817 [==============================] - 0s 16us/sample - loss: 0.0697 - accuracy: 0.7993\n",
      "Epoch 107/180\n",
      "15817/15817 [==============================] - 0s 16us/sample - loss: 0.0699 - accuracy: 0.7957\n",
      "Epoch 108/180\n",
      "15817/15817 [==============================] - 0s 17us/sample - loss: 0.0703 - accuracy: 0.7924\n",
      "Epoch 109/180\n",
      "15817/15817 [==============================] - 0s 17us/sample - loss: 0.0702 - accuracy: 0.7944\n",
      "Epoch 110/180\n",
      "15817/15817 [==============================] - 0s 16us/sample - loss: 0.0700 - accuracy: 0.7940\n",
      "Epoch 111/180\n",
      "15817/15817 [==============================] - 0s 17us/sample - loss: 0.0698 - accuracy: 0.7978\n",
      "Epoch 112/180\n",
      "15817/15817 [==============================] - 0s 17us/sample - loss: 0.0700 - accuracy: 0.7967\n",
      "Epoch 113/180\n",
      "15817/15817 [==============================] - 0s 17us/sample - loss: 0.0697 - accuracy: 0.7970\n",
      "Epoch 114/180\n",
      "15817/15817 [==============================] - 0s 17us/sample - loss: 0.0699 - accuracy: 0.7959\n",
      "Epoch 115/180\n",
      "15817/15817 [==============================] - 0s 17us/sample - loss: 0.0694 - accuracy: 0.7979\n",
      "Epoch 116/180\n",
      "15817/15817 [==============================] - 0s 16us/sample - loss: 0.0697 - accuracy: 0.7973\n",
      "Epoch 117/180\n",
      "15817/15817 [==============================] - 0s 16us/sample - loss: 0.0699 - accuracy: 0.7955\n",
      "Epoch 118/180\n",
      "15817/15817 [==============================] - 0s 17us/sample - loss: 0.0698 - accuracy: 0.7978\n",
      "Epoch 119/180\n",
      "15817/15817 [==============================] - 0s 16us/sample - loss: 0.0694 - accuracy: 0.7993\n",
      "Epoch 120/180\n",
      "15817/15817 [==============================] - 0s 16us/sample - loss: 0.0697 - accuracy: 0.7971\n",
      "Epoch 121/180\n",
      "15817/15817 [==============================] - 0s 17us/sample - loss: 0.0697 - accuracy: 0.7953\n",
      "Epoch 122/180\n",
      "15817/15817 [==============================] - 0s 17us/sample - loss: 0.0694 - accuracy: 0.8014\n",
      "Epoch 123/180\n",
      "15817/15817 [==============================] - 0s 16us/sample - loss: 0.0697 - accuracy: 0.7991\n",
      "Epoch 124/180\n",
      "15817/15817 [==============================] - 0s 17us/sample - loss: 0.0697 - accuracy: 0.7964\n",
      "Epoch 125/180\n",
      "15817/15817 [==============================] - 0s 17us/sample - loss: 0.0693 - accuracy: 0.7974\n",
      "Epoch 126/180\n",
      "15817/15817 [==============================] - 0s 16us/sample - loss: 0.0693 - accuracy: 0.7993\n",
      "Epoch 127/180\n",
      "15817/15817 [==============================] - 0s 16us/sample - loss: 0.0695 - accuracy: 0.7979\n",
      "Epoch 128/180\n",
      "15817/15817 [==============================] - 0s 18us/sample - loss: 0.0696 - accuracy: 0.7997\n",
      "Epoch 129/180\n",
      "15817/15817 [==============================] - 0s 17us/sample - loss: 0.0692 - accuracy: 0.7988\n",
      "Epoch 130/180\n",
      "15817/15817 [==============================] - 0s 17us/sample - loss: 0.0695 - accuracy: 0.7960\n",
      "Epoch 131/180\n",
      "15817/15817 [==============================] - 0s 17us/sample - loss: 0.0689 - accuracy: 0.8018\n",
      "Epoch 132/180\n",
      "15817/15817 [==============================] - 0s 17us/sample - loss: 0.0689 - accuracy: 0.7996\n",
      "Epoch 133/180\n",
      "15817/15817 [==============================] - 0s 17us/sample - loss: 0.0693 - accuracy: 0.7998\n",
      "Epoch 134/180\n",
      "15817/15817 [==============================] - 0s 17us/sample - loss: 0.0689 - accuracy: 0.7998\n",
      "Epoch 135/180\n",
      "15817/15817 [==============================] - 0s 18us/sample - loss: 0.0693 - accuracy: 0.7986\n",
      "Epoch 136/180\n",
      "15817/15817 [==============================] - 0s 17us/sample - loss: 0.0690 - accuracy: 0.7995\n",
      "Epoch 137/180\n",
      "15817/15817 [==============================] - 0s 17us/sample - loss: 0.0695 - accuracy: 0.7974\n",
      "Epoch 138/180\n",
      "15817/15817 [==============================] - 0s 16us/sample - loss: 0.0692 - accuracy: 0.7964\n",
      "Epoch 139/180\n",
      "15817/15817 [==============================] - 0s 16us/sample - loss: 0.0693 - accuracy: 0.7993\n",
      "Epoch 140/180\n",
      "15817/15817 [==============================] - 0s 16us/sample - loss: 0.0693 - accuracy: 0.7990\n",
      "Epoch 141/180\n",
      "15817/15817 [==============================] - 0s 17us/sample - loss: 0.0687 - accuracy: 0.8010\n",
      "Epoch 142/180\n",
      "15817/15817 [==============================] - 0s 17us/sample - loss: 0.0692 - accuracy: 0.7971\n",
      "Epoch 143/180\n",
      "15817/15817 [==============================] - 0s 16us/sample - loss: 0.0689 - accuracy: 0.8031\n",
      "Epoch 144/180\n",
      "15817/15817 [==============================] - 0s 16us/sample - loss: 0.0690 - accuracy: 0.7986\n",
      "Epoch 145/180\n",
      "15817/15817 [==============================] - 0s 16us/sample - loss: 0.0688 - accuracy: 0.8005\n",
      "Epoch 146/180\n",
      "15817/15817 [==============================] - 0s 17us/sample - loss: 0.0687 - accuracy: 0.8003\n",
      "Epoch 147/180\n",
      "15817/15817 [==============================] - 0s 18us/sample - loss: 0.0687 - accuracy: 0.8028\n",
      "Epoch 148/180\n",
      "15817/15817 [==============================] - 0s 17us/sample - loss: 0.0690 - accuracy: 0.7986\n",
      "Epoch 149/180\n",
      "15817/15817 [==============================] - 0s 16us/sample - loss: 0.0689 - accuracy: 0.7996\n",
      "Epoch 150/180\n"
     ]
    },
    {
     "name": "stdout",
     "output_type": "stream",
     "text": [
      "15817/15817 [==============================] - 0s 17us/sample - loss: 0.0684 - accuracy: 0.8029\n",
      "Epoch 151/180\n",
      "15817/15817 [==============================] - 0s 17us/sample - loss: 0.0687 - accuracy: 0.8029\n",
      "Epoch 152/180\n",
      "15817/15817 [==============================] - 0s 17us/sample - loss: 0.0683 - accuracy: 0.8032\n",
      "Epoch 153/180\n",
      "15817/15817 [==============================] - 0s 16us/sample - loss: 0.0688 - accuracy: 0.8021\n",
      "Epoch 154/180\n",
      "15817/15817 [==============================] - 0s 16us/sample - loss: 0.0687 - accuracy: 0.7999\n",
      "Epoch 155/180\n",
      "15817/15817 [==============================] - 0s 18us/sample - loss: 0.0691 - accuracy: 0.8017\n",
      "Epoch 156/180\n",
      "15817/15817 [==============================] - 0s 17us/sample - loss: 0.0687 - accuracy: 0.7987\n",
      "Epoch 157/180\n",
      "15817/15817 [==============================] - 0s 17us/sample - loss: 0.0687 - accuracy: 0.7998\n",
      "Epoch 158/180\n",
      "15817/15817 [==============================] - 0s 16us/sample - loss: 0.0690 - accuracy: 0.8008\n",
      "Epoch 159/180\n",
      "15817/15817 [==============================] - 0s 16us/sample - loss: 0.0683 - accuracy: 0.8034\n",
      "Epoch 160/180\n",
      "15817/15817 [==============================] - 0s 17us/sample - loss: 0.0686 - accuracy: 0.8000\n",
      "Epoch 161/180\n",
      "15817/15817 [==============================] - 0s 17us/sample - loss: 0.0687 - accuracy: 0.8006\n",
      "Epoch 162/180\n",
      "15817/15817 [==============================] - 0s 16us/sample - loss: 0.0689 - accuracy: 0.8038\n",
      "Epoch 163/180\n",
      "15817/15817 [==============================] - 0s 16us/sample - loss: 0.0686 - accuracy: 0.8031\n",
      "Epoch 164/180\n",
      "15817/15817 [==============================] - 0s 18us/sample - loss: 0.0686 - accuracy: 0.8030\n",
      "Epoch 165/180\n",
      "15817/15817 [==============================] - 0s 16us/sample - loss: 0.0683 - accuracy: 0.8028\n",
      "Epoch 166/180\n",
      "15817/15817 [==============================] - 0s 17us/sample - loss: 0.0683 - accuracy: 0.8017\n",
      "Epoch 167/180\n",
      "15817/15817 [==============================] - 0s 17us/sample - loss: 0.0685 - accuracy: 0.8031\n",
      "Epoch 168/180\n",
      "15817/15817 [==============================] - 0s 16us/sample - loss: 0.0685 - accuracy: 0.8015\n",
      "Epoch 169/180\n",
      "15817/15817 [==============================] - 0s 16us/sample - loss: 0.0682 - accuracy: 0.8031\n",
      "Epoch 170/180\n",
      "15817/15817 [==============================] - 0s 17us/sample - loss: 0.0686 - accuracy: 0.7996\n",
      "Epoch 171/180\n",
      "15817/15817 [==============================] - 0s 16us/sample - loss: 0.0683 - accuracy: 0.8022\n",
      "Epoch 172/180\n",
      "15817/15817 [==============================] - 0s 16us/sample - loss: 0.0682 - accuracy: 0.8020\n",
      "Epoch 173/180\n",
      "15817/15817 [==============================] - 0s 16us/sample - loss: 0.0679 - accuracy: 0.8039\n",
      "Epoch 174/180\n",
      "15817/15817 [==============================] - 0s 18us/sample - loss: 0.0682 - accuracy: 0.8024\n",
      "Epoch 175/180\n",
      "15817/15817 [==============================] - 0s 16us/sample - loss: 0.0681 - accuracy: 0.8031\n",
      "Epoch 176/180\n",
      "15817/15817 [==============================] - 0s 16us/sample - loss: 0.0686 - accuracy: 0.7998\n",
      "Epoch 177/180\n",
      "15817/15817 [==============================] - 0s 16us/sample - loss: 0.0685 - accuracy: 0.8020\n",
      "Epoch 178/180\n",
      "15817/15817 [==============================] - 0s 16us/sample - loss: 0.0684 - accuracy: 0.8041\n",
      "Epoch 179/180\n",
      "15817/15817 [==============================] - 0s 18us/sample - loss: 0.0679 - accuracy: 0.8026\n",
      "Epoch 180/180\n",
      "15817/15817 [==============================] - 0s 24us/sample - loss: 0.0686 - accuracy: 0.8042\n"
     ]
    },
    {
     "data": {
      "text/plain": [
       "<tensorflow.python.keras.callbacks.History at 0x7f798e78a9d0>"
      ]
     },
     "execution_count": 303,
     "metadata": {},
     "output_type": "execute_result"
    }
   ],
   "source": [
    "model.fit(X_train.values, Y_train, batch_size=128, epochs=180, verbose=1)"
   ]
  },
  {
   "cell_type": "markdown",
   "metadata": {
    "colab_type": "text",
    "id": "v-ro8rCFnbM4"
   },
   "source": [
    "After training the model we need to evaluate it."
   ]
  },
  {
   "cell_type": "code",
   "execution_count": 244,
   "metadata": {
    "colab": {},
    "colab_type": "code",
    "id": "Dvv63ALpnbM5"
   },
   "outputs": [],
   "source": [
    "Y_test = to_categorical(Y_test.values, num_classes=2)"
   ]
  },
  {
   "cell_type": "code",
   "execution_count": 245,
   "metadata": {
    "colab": {
     "base_uri": "https://localhost:8080/",
     "height": 51
    },
    "colab_type": "code",
    "id": "fIZ53SWGnbM7",
    "outputId": "d9b18f4e-380a-4f23-a430-b0734220f9fd"
   },
   "outputs": [
    {
     "name": "stdout",
     "output_type": "stream",
     "text": [
      "['loss', 'accuracy']\n",
      "[0.0819498682500409, 0.75350344]\n"
     ]
    }
   ],
   "source": [
    "score = model.evaluate(X_test.values, Y_test, verbose=0)\n",
    "print(model.metrics_names)\n",
    "print(score)"
   ]
  },
  {
   "cell_type": "markdown",
   "metadata": {
    "colab_type": "text",
    "id": "cd3XlIacnbM-"
   },
   "source": [
    "Now let's take a look at the missclassified observations."
   ]
  },
  {
   "cell_type": "code",
   "execution_count": 246,
   "metadata": {
    "colab": {},
    "colab_type": "code",
    "id": "38yOmrIunbM_"
   },
   "outputs": [],
   "source": [
    "Y_test_predicted = model.predict(X_test.values, verbose=0)"
   ]
  },
  {
   "cell_type": "code",
   "execution_count": 247,
   "metadata": {
    "colab": {
     "base_uri": "https://localhost:8080/",
     "height": 136
    },
    "colab_type": "code",
    "id": "pyZPLUptnbNB",
    "outputId": "baa59420-44ff-46ec-bb37-2b94633acea1"
   },
   "outputs": [
    {
     "data": {
      "text/plain": [
       "array([[ 0.66793203,  0.22345819],\n",
       "       [ 0.8157691 ,  0.04680941],\n",
       "       [ 0.94253874, -0.10236895],\n",
       "       ...,\n",
       "       [-0.09121418,  0.98655665],\n",
       "       [ 0.5268257 ,  0.36084896],\n",
       "       [ 0.580341  ,  0.23697324]], dtype=float32)"
      ]
     },
     "execution_count": 247,
     "metadata": {},
     "output_type": "execute_result"
    }
   ],
   "source": [
    "Y_test_predicted"
   ]
  },
  {
   "cell_type": "markdown",
   "metadata": {
    "colab_type": "text",
    "id": "neg9m3kfnbNE"
   },
   "source": [
    "Now we calculate the false negatives and also the false positives by comparing the true value with the predicted one."
   ]
  },
  {
   "cell_type": "code",
   "execution_count": 248,
   "metadata": {
    "colab": {
     "base_uri": "https://localhost:8080/",
     "height": 85
    },
    "colab_type": "code",
    "id": "4RU2WEpGnbNE",
    "outputId": "388984b9-aa0e-4118-bbcb-64fdaaf51751"
   },
   "outputs": [
    {
     "name": "stdout",
     "output_type": "stream",
     "text": [
      "[0, 0, 0, 1, 0, 1, 1, 0, 0]\n",
      "[0, 0, 0, 1, 1, 0, 1, 0, 1]\n",
      "False Positive Rate: 0.12\n",
      "False Negative Rate: 0.13\n"
     ]
    }
   ],
   "source": [
    "Y_test_predicted_values = get_predicted_values(Y_test_predicted)\n",
    "Y_test_values = get_predicted_values(Y_test)\n",
    "print(Y_test_predicted_values[1:10])\n",
    "print(Y_test_values[1:10])\n",
    "\n",
    "false_positives = []\n",
    "false_negatives = []\n",
    "for i in range(len(Y_test_values)):\n",
    "    if Y_test_values[i] == 0 and Y_test_predicted_values[i] == 1:\n",
    "        false_positives.append(i)\n",
    "    elif Y_test_values[i] == 1 and Y_test_predicted_values[i] == 0:\n",
    "        false_negatives.append(i)\n",
    "        \n",
    "print(\"False Positive Rate: {:.2f}\".format(len(false_positives)/len(Y_test_values)))\n",
    "print(\"False Negative Rate: {:.2f}\".format(len(false_negatives)/len(Y_test_values)))"
   ]
  },
  {
   "cell_type": "markdown",
   "metadata": {
    "colab_type": "text",
    "id": "VWWDZP1NnbNH"
   },
   "source": [
    "And try to visualize the heatmaps for false positives and negatives. Firstly the false negatives, where the network was supposed to answer _Signal_, but instead, it answered _Background_."
   ]
  },
  {
   "cell_type": "code",
   "execution_count": 68,
   "metadata": {
    "colab": {
     "base_uri": "https://localhost:8080/",
     "height": 353
    },
    "colab_type": "code",
    "id": "CGDjCVk3nbNI",
    "outputId": "74667460-8a60-4c61-c3c3-ab0b641a8e7d"
   },
   "outputs": [
    {
     "name": "stdout",
     "output_type": "stream",
     "text": [
      "[17, 25, 45, 47, 68, 76, 87, 93, 97]\n",
      "(825, 625)\n",
      "(625,)\n",
      "AxesSubplot(0.125,0.125;0.62x0.755)\n"
     ]
    },
    {
     "data": {
      "image/png": "[encoded data removed]",
      "text/plain": [
       "<Figure size 432x288 with 2 Axes>"
      ]
     },
     "metadata": {},
     "output_type": "display_data"
    }
   ],
   "source": [
    "print(false_negatives[1:10])\n",
    "false_negatives_values = X_test.iloc[false_negatives,]\n",
    "print(false_negatives_values.shape)\n",
    "\n",
    "mean_false_negatives = false_negatives_values.mean().values\n",
    "print(mean_false_negatives.shape)\n",
    "mean_false_negatives = mean_false_negatives.reshape((25,25))\n",
    "\n",
    "print_heatmap(mean_false_negatives)"
   ]
  },
  {
   "cell_type": "markdown",
   "metadata": {
    "colab_type": "text",
    "id": "QGi8K_t5nbNK"
   },
   "source": [
    "Then we examine the cases in which the network should have responded _Background_, but it answered _Signal_."
   ]
  },
  {
   "cell_type": "code",
   "execution_count": 69,
   "metadata": {
    "colab": {
     "base_uri": "https://localhost:8080/",
     "height": 353
    },
    "colab_type": "code",
    "id": "1T79aGd7nbNL",
    "outputId": "82beb1da-8ab8-4867-f976-d8b668344ac2"
   },
   "outputs": [
    {
     "name": "stdout",
     "output_type": "stream",
     "text": [
      "[19, 31, 36, 37, 48, 49, 51, 62, 63]\n",
      "(878, 625)\n",
      "(625,)\n",
      "AxesSubplot(0.125,0.125;0.62x0.755)\n"
     ]
    },
    {
     "data": {
      "image/png": "[encoded data removed]",
      "text/plain": [
       "<Figure size 432x288 with 2 Axes>"
      ]
     },
     "metadata": {},
     "output_type": "display_data"
    }
   ],
   "source": [
    "print(false_positives[1:10])\n",
    "false_positives_values = X_test.iloc[false_positives,]\n",
    "print(false_positives_values.shape)\n",
    "\n",
    "mean_false_positives = false_positives_values.mean().values\n",
    "print(mean_false_positives.shape)\n",
    "mean_false_positives = mean_false_positives.reshape((25,25))\n",
    "\n",
    "print_heatmap(mean_false_positives)"
   ]
  },
  {
   "cell_type": "code",
   "execution_count": null,
   "metadata": {},
   "outputs": [],
   "source": []
  },
  {
   "cell_type": "code",
   "execution_count": null,
   "metadata": {},
   "outputs": [],
   "source": []
  }
 ],
 "metadata": {
  "colab": {
   "collapsed_sections": [],
   "name": "Image Jet Tagging Analysis (PTJ 250-300).ipynb",
   "provenance": []
  },
  "kernelspec": {
   "display_name": "Python 3",
   "language": "python",
   "name": "python3"
  },
  "language_info": {
   "codemirror_mode": {
    "name": "ipython",
    "version": 3
   },
   "file_extension": ".py",
   "mimetype": "text/x-python",
   "name": "python",
   "nbconvert_exporter": "python",
   "pygments_lexer": "ipython3",
   "version": "3.7.6"
  }
 },
 "nbformat": 4,
 "nbformat_minor": 1
}
