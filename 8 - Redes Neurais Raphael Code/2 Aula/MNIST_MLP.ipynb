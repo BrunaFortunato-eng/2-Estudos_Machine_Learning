{
 "cells": [
  {
   "cell_type": "code",
   "execution_count": 1,
   "metadata": {
    "colab": {
     "base_uri": "https://localhost:8080/",
     "height": 615
    },
    "colab_type": "code",
    "id": "r0lVtk-v4iZA",
    "outputId": "4dbb6468-9c22-49e0-9614-90197d6fd9d5"
   },
   "outputs": [
    {
     "name": "stdout",
     "output_type": "stream",
     "text": [
      "Requirement already satisfied: tensorflow==2 in /home/hub/anaconda3/envs/fiep/lib/python3.7/site-packages (2.0.0)\n",
      "Requirement already satisfied: google-pasta>=0.1.6 in /home/hub/anaconda3/envs/fiep/lib/python3.7/site-packages (from tensorflow==2) (0.1.8)\n",
      "Requirement already satisfied: astor>=0.6.0 in /home/hub/anaconda3/envs/fiep/lib/python3.7/site-packages (from tensorflow==2) (0.8.1)\n",
      "Requirement already satisfied: tensorflow-estimator<2.1.0,>=2.0.0 in /home/hub/anaconda3/envs/fiep/lib/python3.7/site-packages (from tensorflow==2) (2.0.1)\n",
      "Requirement already satisfied: absl-py>=0.7.0 in /home/hub/anaconda3/envs/fiep/lib/python3.7/site-packages (from tensorflow==2) (0.9.0)\n",
      "Requirement already satisfied: tensorboard<2.1.0,>=2.0.0 in /home/hub/anaconda3/envs/fiep/lib/python3.7/site-packages (from tensorflow==2) (2.0.2)\n",
      "Requirement already satisfied: wheel>=0.26 in /home/hub/anaconda3/envs/fiep/lib/python3.7/site-packages (from tensorflow==2) (0.33.6)\n",
      "Requirement already satisfied: keras-preprocessing>=1.0.5 in /home/hub/anaconda3/envs/fiep/lib/python3.7/site-packages (from tensorflow==2) (1.1.0)\n",
      "Requirement already satisfied: wrapt>=1.11.1 in /home/hub/anaconda3/envs/fiep/lib/python3.7/site-packages (from tensorflow==2) (1.11.2)\n",
      "Requirement already satisfied: six>=1.10.0 in /home/hub/anaconda3/envs/fiep/lib/python3.7/site-packages (from tensorflow==2) (1.13.0)\n",
      "Requirement already satisfied: keras-applications>=1.0.8 in /home/hub/anaconda3/envs/fiep/lib/python3.7/site-packages (from tensorflow==2) (1.0.8)\n",
      "Requirement already satisfied: opt-einsum>=2.3.2 in /home/hub/anaconda3/envs/fiep/lib/python3.7/site-packages (from tensorflow==2) (3.1.0)\n",
      "Requirement already satisfied: grpcio>=1.8.6 in /home/hub/anaconda3/envs/fiep/lib/python3.7/site-packages (from tensorflow==2) (1.27.2)\n",
      "Requirement already satisfied: numpy<2.0,>=1.16.0 in /home/hub/anaconda3/envs/fiep/lib/python3.7/site-packages (from tensorflow==2) (1.18.1)\n",
      "Requirement already satisfied: termcolor>=1.1.0 in /home/hub/anaconda3/envs/fiep/lib/python3.7/site-packages (from tensorflow==2) (1.1.0)\n",
      "Requirement already satisfied: gast==0.2.2 in /home/hub/anaconda3/envs/fiep/lib/python3.7/site-packages (from tensorflow==2) (0.2.2)\n",
      "Requirement already satisfied: protobuf>=3.6.1 in /home/hub/anaconda3/envs/fiep/lib/python3.7/site-packages (from tensorflow==2) (3.11.3)\n",
      "Requirement already satisfied: google-auth<2,>=1.6.3 in /home/hub/anaconda3/envs/fiep/lib/python3.7/site-packages (from tensorboard<2.1.0,>=2.0.0->tensorflow==2) (1.11.2)\n",
      "Requirement already satisfied: requests<3,>=2.21.0 in /home/hub/anaconda3/envs/fiep/lib/python3.7/site-packages (from tensorboard<2.1.0,>=2.0.0->tensorflow==2) (2.22.0)\n",
      "Requirement already satisfied: markdown>=2.6.8 in /home/hub/anaconda3/envs/fiep/lib/python3.7/site-packages (from tensorboard<2.1.0,>=2.0.0->tensorflow==2) (3.2.1)\n",
      "Requirement already satisfied: setuptools>=41.0.0 in /home/hub/anaconda3/envs/fiep/lib/python3.7/site-packages (from tensorboard<2.1.0,>=2.0.0->tensorflow==2) (44.0.0.post20200106)\n",
      "Requirement already satisfied: google-auth-oauthlib<0.5,>=0.4.1 in /home/hub/anaconda3/envs/fiep/lib/python3.7/site-packages (from tensorboard<2.1.0,>=2.0.0->tensorflow==2) (0.4.1)\n",
      "Requirement already satisfied: werkzeug>=0.11.15 in /home/hub/anaconda3/envs/fiep/lib/python3.7/site-packages (from tensorboard<2.1.0,>=2.0.0->tensorflow==2) (0.16.0)\n",
      "Requirement already satisfied: h5py in /home/hub/anaconda3/envs/fiep/lib/python3.7/site-packages (from keras-applications>=1.0.8->tensorflow==2) (2.9.0)\n",
      "Requirement already satisfied: pyasn1-modules>=0.2.1 in /home/hub/anaconda3/envs/fiep/lib/python3.7/site-packages (from google-auth<2,>=1.6.3->tensorboard<2.1.0,>=2.0.0->tensorflow==2) (0.2.8)\n",
      "Requirement already satisfied: rsa<4.1,>=3.1.4 in /home/hub/anaconda3/envs/fiep/lib/python3.7/site-packages (from google-auth<2,>=1.6.3->tensorboard<2.1.0,>=2.0.0->tensorflow==2) (4.0)\n",
      "Requirement already satisfied: cachetools<5.0,>=2.0.0 in /home/hub/anaconda3/envs/fiep/lib/python3.7/site-packages (from google-auth<2,>=1.6.3->tensorboard<2.1.0,>=2.0.0->tensorflow==2) (4.0.0)\n",
      "Requirement already satisfied: idna<2.9,>=2.5 in /home/hub/anaconda3/envs/fiep/lib/python3.7/site-packages (from requests<3,>=2.21.0->tensorboard<2.1.0,>=2.0.0->tensorflow==2) (2.8)\n",
      "Requirement already satisfied: urllib3!=1.25.0,!=1.25.1,<1.26,>=1.21.1 in /home/hub/anaconda3/envs/fiep/lib/python3.7/site-packages (from requests<3,>=2.21.0->tensorboard<2.1.0,>=2.0.0->tensorflow==2) (1.25.7)\n",
      "Requirement already satisfied: certifi>=2017.4.17 in /home/hub/anaconda3/envs/fiep/lib/python3.7/site-packages (from requests<3,>=2.21.0->tensorboard<2.1.0,>=2.0.0->tensorflow==2) (2019.11.28)\n",
      "Requirement already satisfied: chardet<3.1.0,>=3.0.2 in /home/hub/anaconda3/envs/fiep/lib/python3.7/site-packages (from requests<3,>=2.21.0->tensorboard<2.1.0,>=2.0.0->tensorflow==2) (3.0.4)\n",
      "Requirement already satisfied: requests-oauthlib>=0.7.0 in /home/hub/anaconda3/envs/fiep/lib/python3.7/site-packages (from google-auth-oauthlib<0.5,>=0.4.1->tensorboard<2.1.0,>=2.0.0->tensorflow==2) (1.3.0)\n",
      "Requirement already satisfied: pyasn1<0.5.0,>=0.4.6 in /home/hub/anaconda3/envs/fiep/lib/python3.7/site-packages (from pyasn1-modules>=0.2.1->google-auth<2,>=1.6.3->tensorboard<2.1.0,>=2.0.0->tensorflow==2) (0.4.8)\n",
      "Requirement already satisfied: oauthlib>=3.0.0 in /home/hub/anaconda3/envs/fiep/lib/python3.7/site-packages (from requests-oauthlib>=0.7.0->google-auth-oauthlib<0.5,>=0.4.1->tensorboard<2.1.0,>=2.0.0->tensorflow==2) (3.1.0)\n"
     ]
    }
   ],
   "source": [
    "!pip install tensorflow==2"
   ]
  },
  {
   "cell_type": "code",
   "execution_count": 2,
   "metadata": {
    "colab": {},
    "colab_type": "code",
    "id": "Wh6XFQg85BCk"
   },
   "outputs": [],
   "source": [
    "from tensorflow.keras.datasets import mnist\n",
    "from tensorflow.keras.models import Sequential\n",
    "from tensorflow.keras.layers import Dense, Dropout\n",
    "from tensorflow.keras.utils import to_categorical"
   ]
  },
  {
   "cell_type": "markdown",
   "metadata": {
    "colab_type": "text",
    "id": "r4dmzR297gFE"
   },
   "source": [
    "Load the dataset and split into test and train data"
   ]
  },
  {
   "cell_type": "code",
   "execution_count": 3,
   "metadata": {
    "colab": {},
    "colab_type": "code",
    "id": "0Xg4aewN7ej1"
   },
   "outputs": [],
   "source": [
    "# the data, split between train and test sets\n",
    "(x_train, y_train), (x_test, y_test) = mnist.load_data()"
   ]
  },
  {
   "cell_type": "markdown",
   "metadata": {
    "colab_type": "text",
    "id": "dzXbF8hf7mJI"
   },
   "source": [
    "Check the Shape of the data"
   ]
  },
  {
   "cell_type": "code",
   "execution_count": 4,
   "metadata": {
    "colab": {
     "base_uri": "https://localhost:8080/",
     "height": 51
    },
    "colab_type": "code",
    "id": "AGt1BnC37o9U",
    "outputId": "ed0c653d-7476-4116-f82b-d268b9bf1c33"
   },
   "outputs": [
    {
     "name": "stdout",
     "output_type": "stream",
     "text": [
      "(60000, 28, 28)\n",
      "(60000,)\n"
     ]
    }
   ],
   "source": [
    "print(x_train.shape)  #60000 imagens de tamanho 28 x 28\n",
    "print(y_train.shape)"
   ]
  },
  {
   "cell_type": "markdown",
   "metadata": {
    "colab_type": "text",
    "id": "G6bbgq9H7zHG"
   },
   "source": [
    "Plot one of the digits:"
   ]
  },
  {
   "cell_type": "code",
   "execution_count": 9,
   "metadata": {
    "colab": {},
    "colab_type": "code",
    "id": "ku_wKmab72J-"
   },
   "outputs": [],
   "source": [
    "import seaborn as sns\n",
    "import random"
   ]
  },
  {
   "cell_type": "code",
   "execution_count": 10,
   "metadata": {
    "colab": {},
    "colab_type": "code",
    "id": "2fTAiwXx9Z85"
   },
   "outputs": [],
   "source": [
    "random_index= random.randint(0,5999)"
   ]
  },
  {
   "cell_type": "code",
   "execution_count": 11,
   "metadata": {
    "colab": {
     "base_uri": "https://localhost:8080/",
     "height": 265
    },
    "colab_type": "code",
    "id": "j1pYOJyX75Hb",
    "outputId": "abfb860e-b373-48e0-eca4-e97318cf86b2"
   },
   "outputs": [
    {
     "data": {
      "text/plain": [
       "<matplotlib.axes._subplots.AxesSubplot at 0x7ffb9012fdd0>"
      ]
     },
     "execution_count": 11,
     "metadata": {},
     "output_type": "execute_result"
    },
    {
     "data": {
      "image/png": "[encoded data removed]",
      "text/plain": [
       "<Figure size 432x288 with 1 Axes>"
      ]
     },
     "metadata": {},
     "output_type": "display_data"
    }
   ],
   "source": [
    "sns.heatmap(x_train[random_index], cbar=False, xticklabels=False, yticklabels=False)"
   ]
  },
  {
   "cell_type": "markdown",
   "metadata": {
    "colab_type": "text",
    "id": "WWc8SEDW9vlR"
   },
   "source": [
    "Reshape data so it is just a single line per handwritten digit"
   ]
  },
  {
   "cell_type": "code",
   "execution_count": 13,
   "metadata": {
    "colab": {
     "base_uri": "https://localhost:8080/",
     "height": 51
    },
    "colab_type": "code",
    "id": "OVVCWnqv5LKJ",
    "outputId": "6790c0ba-e945-4af2-9677-4623a9f9c0cd"
   },
   "outputs": [
    {
     "name": "stdout",
     "output_type": "stream",
     "text": [
      "60000 train samples\n",
      "10000 test samples\n"
     ]
    }
   ],
   "source": [
    "x_train = x_train.reshape(60000, 784) #coloca de duas dimensoes para 1 dimensao (28 x 28)\n",
    "x_test = x_test.reshape(10000, 784)\n",
    "\n",
    "print(x_train.shape[0], 'train samples')\n",
    "print(x_test.shape[0], 'test samples')"
   ]
  },
  {
   "cell_type": "markdown",
   "metadata": {
    "colab_type": "text",
    "id": "HHDX0Hur-XBd"
   },
   "source": [
    "Convert class vectors to binary class matrices"
   ]
  },
  {
   "cell_type": "code",
   "execution_count": 14,
   "metadata": {
    "colab": {
     "base_uri": "https://localhost:8080/",
     "height": 34
    },
    "colab_type": "code",
    "id": "TgGl9B-u-ary",
    "outputId": "2cdd15c0-c980-495e-9a70-395129af19d2"
   },
   "outputs": [
    {
     "name": "stdout",
     "output_type": "stream",
     "text": [
      "5\n"
     ]
    }
   ],
   "source": [
    "print(y_train[100])"
   ]
  },
  {
   "cell_type": "code",
   "execution_count": 15,
   "metadata": {},
   "outputs": [],
   "source": [
    "x_train = x_train.astype('float32')\n",
    "x_test = x_test.astype('float32')"
   ]
  },
  {
   "cell_type": "code",
   "execution_count": 16,
   "metadata": {},
   "outputs": [],
   "source": [
    "x_train /= 32\n",
    "x_test /= 32"
   ]
  },
  {
   "cell_type": "markdown",
   "metadata": {
    "colab_type": "text",
    "id": "qcBfmxoJ-fJW"
   },
   "source": [
    "We need to do the one-hot encoding (adding statistical dummy variables to represent classes)"
   ]
  },
  {
   "cell_type": "code",
   "execution_count": 17,
   "metadata": {
    "colab": {},
    "colab_type": "code",
    "id": "4aN0BbMd5OHv"
   },
   "outputs": [],
   "source": [
    "y_train = to_categorical(y_train, 32)  #pega um valor de pixel e diz se eh zero ou um\n",
    "y_test = to_categorical(y_test, 32)"
   ]
  },
  {
   "cell_type": "code",
   "execution_count": 18,
   "metadata": {
    "colab": {
     "base_uri": "https://localhost:8080/",
     "height": 34
    },
    "colab_type": "code",
    "id": "mfL0f_7r-m18",
    "outputId": "63202102-df13-42e9-854c-68ca891187e1"
   },
   "outputs": [
    {
     "name": "stdout",
     "output_type": "stream",
     "text": [
      "[0. 0. 0. 0. 0. 1. 0. 0. 0. 0. 0. 0. 0. 0. 0. 0. 0. 0. 0. 0. 0. 0. 0. 0.\n",
      " 0. 0. 0. 0. 0. 0. 0. 0.]\n"
     ]
    }
   ],
   "source": [
    "print(y_train[100])"
   ]
  },
  {
   "cell_type": "markdown",
   "metadata": {
    "colab_type": "text",
    "id": "mG_8UTHV-uoD"
   },
   "source": [
    "Start with a very simple model"
   ]
  },
  {
   "cell_type": "code",
   "execution_count": 19,
   "metadata": {
    "colab": {},
    "colab_type": "code",
    "id": "KcgDoyJmB4aN"
   },
   "outputs": [
    {
     "name": "stdout",
     "output_type": "stream",
     "text": [
      "WARNING:tensorflow:Large dropout rate: 0.7 (>0.5). In TensorFlow 2.x, dropout() uses dropout rate instead of keep_prob. Please ensure that this is intended.\n"
     ]
    }
   ],
   "source": [
    "model1 = Sequential()\n",
    "model1.add(Dense(8, activation=\"sigmoid\", input_shape=(784,))) #primeira camada de neuronios\n",
    "model1.add(Dense(10, activation=\"softmax\")) #segunda camada de neuronios\n",
    "model1.add(Dropout(0.7))"
   ]
  },
  {
   "cell_type": "markdown",
   "metadata": {
    "colab_type": "text",
    "id": "VE_SZkolCGsw"
   },
   "source": [
    "Print the model summary"
   ]
  },
  {
   "cell_type": "code",
   "execution_count": 89,
   "metadata": {
    "colab": {
     "base_uri": "https://localhost:8080/",
     "height": 221
    },
    "colab_type": "code",
    "id": "9nm8SoY3CKUT",
    "outputId": "2a625402-0c84-4b7a-fd28-05fc7b4a607e"
   },
   "outputs": [
    {
     "name": "stdout",
     "output_type": "stream",
     "text": [
      "Model: \"sequential_10\"\n",
      "_________________________________________________________________\n",
      "Layer (type)                 Output Shape              Param #   \n",
      "=================================================================\n",
      "dense_20 (Dense)             (None, 8)                 6280      \n",
      "_________________________________________________________________\n",
      "dense_21 (Dense)             (None, 10)                90        \n",
      "_________________________________________________________________\n",
      "dropout_4 (Dropout)          (None, 10)                0         \n",
      "=================================================================\n",
      "Total params: 6,370\n",
      "Trainable params: 6,370\n",
      "Non-trainable params: 0\n",
      "_________________________________________________________________\n"
     ]
    }
   ],
   "source": [
    "model1.summary()"
   ]
  },
  {
   "cell_type": "markdown",
   "metadata": {
    "colab_type": "text",
    "id": "fpHOSfNFCWqq"
   },
   "source": [
    "Lets compile it using the categorical_crossentropy since this is a classification problem"
   ]
  },
  {
   "cell_type": "code",
   "execution_count": 90,
   "metadata": {
    "colab": {},
    "colab_type": "code",
    "id": "4Gn41wixCVOs"
   },
   "outputs": [],
   "source": [
    "model1.compile(loss='binary_crossentropy', optimizer=\"Adam\",\n",
    "               metrics=['accuracy'])"
   ]
  },
  {
   "cell_type": "markdown",
   "metadata": {
    "colab_type": "text",
    "id": "XPJwcFHICv5K"
   },
   "source": [
    "Do the training"
   ]
  },
  {
   "cell_type": "code",
   "execution_count": null,
   "metadata": {
    "colab": {
     "base_uri": "https://localhost:8080/",
     "height": 204
    },
    "colab_type": "code",
    "id": "ywRGj-QtCz0m",
    "outputId": "72a224c3-5017-47ae-9071-36326c808c3e"
   },
   "outputs": [],
   "source": [
    "history = model1.fit(x_train, y_train,\n",
    "                     epochs=5,\n",
    "                     verbose=1)  #verbose = guarda o historico e faz a realimentacao do sistema"
   ]
  },
  {
   "cell_type": "markdown",
   "metadata": {
    "colab_type": "text",
    "id": "KDj_hyRrD1hZ"
   },
   "source": [
    "Evaluate the quality of the model"
   ]
  },
  {
   "cell_type": "code",
   "execution_count": 67,
   "metadata": {
    "colab": {
     "base_uri": "https://localhost:8080/",
     "height": 34
    },
    "colab_type": "code",
    "id": "h6PiI4s7D0P7",
    "outputId": "d845922a-7b6b-4ac5-f3d5-24571ec7ddc7"
   },
   "outputs": [
    {
     "name": "stdout",
     "output_type": "stream",
     "text": [
      "0.8999973\n"
     ]
    }
   ],
   "source": [
    "score = model1.evaluate(x_test, y_test, verbose=0)\n",
    "print(score[1])\n"
   ]
  },
  {
   "cell_type": "code",
   "execution_count": null,
   "metadata": {},
   "outputs": [],
   "source": []
  }
 ],
 "metadata": {
  "colab": {
   "name": "MNIST MLP",
   "provenance": []
  },
  "kernelspec": {
   "display_name": "Python 3",
   "language": "python",
   "name": "python3"
  },
  "language_info": {
   "codemirror_mode": {
    "name": "ipython",
    "version": 3
   },
   "file_extension": ".py",
   "mimetype": "text/x-python",
   "name": "python",
   "nbconvert_exporter": "python",
   "pygments_lexer": "ipython3",
   "version": "3.7.6"
  }
 },
 "nbformat": 4,
 "nbformat_minor": 1
}
