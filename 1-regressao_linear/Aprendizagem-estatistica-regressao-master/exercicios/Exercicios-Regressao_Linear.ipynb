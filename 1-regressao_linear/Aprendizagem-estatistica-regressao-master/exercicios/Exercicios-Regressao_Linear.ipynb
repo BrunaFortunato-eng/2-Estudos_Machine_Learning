{
 "cells": [
  {
   "cell_type": "markdown",
   "metadata": {},
   "source": [
    "## Regressão\n",
    "\n",
    "O objetivo deste exercício é introduzir e praticar conceitos de Regressão. Para isso utilizaremos 2 bases: <i>Advertising.csv</i> e <i>Portland_housePrices.csv</i>"
   ]
  },
  {
   "cell_type": "code",
   "execution_count": 1,
   "metadata": {},
   "outputs": [
    {
     "data": {
      "text/html": [
       "<div>\n",
       "<style scoped>\n",
       "    .dataframe tbody tr th:only-of-type {\n",
       "        vertical-align: middle;\n",
       "    }\n",
       "\n",
       "    .dataframe tbody tr th {\n",
       "        vertical-align: top;\n",
       "    }\n",
       "\n",
       "    .dataframe thead th {\n",
       "        text-align: right;\n",
       "    }\n",
       "</style>\n",
       "<table border=\"1\" class=\"dataframe\">\n",
       "  <thead>\n",
       "    <tr style=\"text-align: right;\">\n",
       "      <th></th>\n",
       "      <th>TV</th>\n",
       "      <th>radio</th>\n",
       "      <th>newspaper</th>\n",
       "      <th>sales</th>\n",
       "    </tr>\n",
       "  </thead>\n",
       "  <tbody>\n",
       "    <tr>\n",
       "      <th>1</th>\n",
       "      <td>230.1</td>\n",
       "      <td>37.8</td>\n",
       "      <td>69.2</td>\n",
       "      <td>22.1</td>\n",
       "    </tr>\n",
       "    <tr>\n",
       "      <th>2</th>\n",
       "      <td>44.5</td>\n",
       "      <td>39.3</td>\n",
       "      <td>45.1</td>\n",
       "      <td>10.4</td>\n",
       "    </tr>\n",
       "    <tr>\n",
       "      <th>3</th>\n",
       "      <td>17.2</td>\n",
       "      <td>45.9</td>\n",
       "      <td>69.3</td>\n",
       "      <td>9.3</td>\n",
       "    </tr>\n",
       "    <tr>\n",
       "      <th>4</th>\n",
       "      <td>151.5</td>\n",
       "      <td>41.3</td>\n",
       "      <td>58.5</td>\n",
       "      <td>18.5</td>\n",
       "    </tr>\n",
       "    <tr>\n",
       "      <th>5</th>\n",
       "      <td>180.8</td>\n",
       "      <td>10.8</td>\n",
       "      <td>58.4</td>\n",
       "      <td>12.9</td>\n",
       "    </tr>\n",
       "  </tbody>\n",
       "</table>\n",
       "</div>"
      ],
      "text/plain": [
       "      TV  radio  newspaper  sales\n",
       "1  230.1   37.8       69.2   22.1\n",
       "2   44.5   39.3       45.1   10.4\n",
       "3   17.2   45.9       69.3    9.3\n",
       "4  151.5   41.3       58.5   18.5\n",
       "5  180.8   10.8       58.4   12.9"
      ]
     },
     "execution_count": 1,
     "metadata": {},
     "output_type": "execute_result"
    }
   ],
   "source": [
    "import pandas as pd\n",
    "\n",
    "dados_adv = pd.read_csv('Advertising.csv', index_col=0)\n",
    "dados_adv.head()"
   ]
  },
  {
   "cell_type": "markdown",
   "metadata": {},
   "source": [
    "<i>Advertising</i> é um conjunto de dados relacionando o montante de vendas (<i>sales</i>) com o montante investido em marketing em diferentes médias (<i>TV</i>,<i>radio</i> e <i>newspaper</i>).\n",
    "\n",
    "Por sua vez, <i>Portland_housePrices</i> relaciona o preço de casas com seu tamanho e número de quartos.\n",
    "\n"
   ]
  },
  {
   "cell_type": "code",
   "execution_count": 2,
   "metadata": {},
   "outputs": [
    {
     "data": {
      "text/html": [
       "<div>\n",
       "<style scoped>\n",
       "    .dataframe tbody tr th:only-of-type {\n",
       "        vertical-align: middle;\n",
       "    }\n",
       "\n",
       "    .dataframe tbody tr th {\n",
       "        vertical-align: top;\n",
       "    }\n",
       "\n",
       "    .dataframe thead th {\n",
       "        text-align: right;\n",
       "    }\n",
       "</style>\n",
       "<table border=\"1\" class=\"dataframe\">\n",
       "  <thead>\n",
       "    <tr style=\"text-align: right;\">\n",
       "      <th></th>\n",
       "      <th>tamanho</th>\n",
       "      <th>quartos</th>\n",
       "      <th>preco</th>\n",
       "    </tr>\n",
       "  </thead>\n",
       "  <tbody>\n",
       "    <tr>\n",
       "      <th>0</th>\n",
       "      <td>2104</td>\n",
       "      <td>3</td>\n",
       "      <td>399900</td>\n",
       "    </tr>\n",
       "    <tr>\n",
       "      <th>1</th>\n",
       "      <td>1600</td>\n",
       "      <td>3</td>\n",
       "      <td>329900</td>\n",
       "    </tr>\n",
       "    <tr>\n",
       "      <th>2</th>\n",
       "      <td>2400</td>\n",
       "      <td>3</td>\n",
       "      <td>369000</td>\n",
       "    </tr>\n",
       "    <tr>\n",
       "      <th>3</th>\n",
       "      <td>1416</td>\n",
       "      <td>2</td>\n",
       "      <td>232000</td>\n",
       "    </tr>\n",
       "    <tr>\n",
       "      <th>4</th>\n",
       "      <td>3000</td>\n",
       "      <td>4</td>\n",
       "      <td>539900</td>\n",
       "    </tr>\n",
       "  </tbody>\n",
       "</table>\n",
       "</div>"
      ],
      "text/plain": [
       "   tamanho  quartos   preco\n",
       "0     2104        3  399900\n",
       "1     1600        3  329900\n",
       "2     2400        3  369000\n",
       "3     1416        2  232000\n",
       "4     3000        4  539900"
      ]
     },
     "execution_count": 2,
     "metadata": {},
     "output_type": "execute_result"
    }
   ],
   "source": [
    "dados_por = pd.read_csv('Portland_housePrices.csv', index_col=None)\n",
    "dados_por.head()"
   ]
  },
  {
   "cell_type": "markdown",
   "metadata": {},
   "source": [
    "## Como treinar e usar modelos?\n",
    "Para virtualmente qualquer tipo de algoritmo de Regressão, existirá uma função <i>fit</i> para treinar o modelo.\n",
    "\n",
    "Por exemplo, para a regressão linear:\n",
    "\n",
    "```python\n",
    " reg = LinearRegression().fit(X,y)\n",
    "``` \n",
    "\n",
    "Onde <i> X </i> se refere aos atributos de treinamento e <i>y</i> à variável resposta.\n"
   ]
  },
  {
   "cell_type": "code",
   "execution_count": 3,
   "metadata": {},
   "outputs": [
    {
     "data": {
      "text/plain": [
       "LinearRegression(copy_X=True, fit_intercept=True, n_jobs=None, normalize=False)"
      ]
     },
     "execution_count": 3,
     "metadata": {},
     "output_type": "execute_result"
    }
   ],
   "source": [
    "from sklearn.linear_model import LinearRegression\n",
    "#Treina modelo utilizando dados de tamanho para prever preco\n",
    "X = dados_por.loc[:,['tamanho']]\n",
    "y = dados_por.loc[:,['preco']]\n",
    "\n",
    "reg = LinearRegression().fit(X,y)\n",
    "reg"
   ]
  },
  {
   "cell_type": "markdown",
   "metadata": {},
   "source": [
    "Após treinado, o modelo pode ser utilizado para fazer predições (prever <i>y</i> para novos exemplos), através da função <i>predict</i>"
   ]
  },
  {
   "cell_type": "code",
   "execution_count": 4,
   "metadata": {},
   "outputs": [
    {
     "data": {
      "text/plain": [
       "array([[354311.69781212],\n",
       "       [286510.95280112],\n",
       "       [394131.18297731],\n",
       "       [261758.29986059]])"
      ]
     },
     "execution_count": 4,
     "metadata": {},
     "output_type": "execute_result"
    }
   ],
   "source": [
    "y_hat = reg.predict(X[0:4])\n",
    "y_hat"
   ]
  },
  {
   "cell_type": "markdown",
   "metadata": {},
   "source": [
    "## Regressão Linear Univariada\n",
    "\n",
    "O framework disponibiliza uma classe <a href=\"https://scikit-learn.org/stable/modules/generated/sklearn.linear_model.LinearRegression.html\">LinearRegression</a> que implementa regressão linear com o método de mínimos quadrados:\n",
    "\n",
    "```python\n",
    "linear_model = LinearRegression()\n",
    "linear_model.fit(X,y)\n",
    "linear_model.predict(X)\n",
    "\n",
    "```\n",
    "## Avaliando Modelos\n",
    "\n",
    "Existem algumas formas de inspecionar ou avaliar o modelo aprendido. A primeira forma é visualizar o modelo em um gráfico.\n",
    "\n"
   ]
  },
  {
   "cell_type": "code",
   "execution_count": 5,
   "metadata": {},
   "outputs": [
    {
     "data": {
      "text/plain": [
       "Text(0, 0.5, 'Preço')"
      ]
     },
     "execution_count": 5,
     "metadata": {},
     "output_type": "execute_result"
    },
    {
     "data": {
      "image/png": "[encoded data removed]",
      "text/plain": [
       "<Figure size 432x288 with 1 Axes>"
      ]
     },
     "metadata": {
      "needs_background": "light"
     },
     "output_type": "display_data"
    }
   ],
   "source": [
    "from matplotlib import pyplot as plt\n",
    "\n",
    "plt.scatter(X, y,color='g')\n",
    "plt.plot(X, reg.predict(X),color='k')\n",
    "plt.xlabel('Tamanho (pe2)')\n",
    "plt.ylabel('Preço')"
   ]
  },
  {
   "cell_type": "markdown",
   "metadata": {},
   "source": [
    "Quando há mais de um atributo preditor, visualizar o modelo torna-se difícil, mas ainda é possível avaliar o modelo através do <b>erro quadrático (RSS)</b> ou a métrica <a href=\"https://scikit-learn.org/stable/modules/generated/sklearn.metrics.r2_score.html\"><b>R^2</b></a>"
   ]
  },
  {
   "cell_type": "code",
   "execution_count": 6,
   "metadata": {},
   "outputs": [],
   "source": [
    "from sklearn.metrics import r2_score\n",
    "def calc_rss(y,predicted):\n",
    "    return float(((predicted - y) ** 2).sum())\n",
    "    \n",
    "def calc_r2(y,predicted):\n",
    "    return r2_score(predicted,y)"
   ]
  },
  {
   "cell_type": "code",
   "execution_count": 7,
   "metadata": {},
   "outputs": [
    {
     "name": "stdout",
     "output_type": "stream",
     "text": [
      "193464477600.7059\n",
      "0.6320180251851147\n"
     ]
    }
   ],
   "source": [
    "rss = calc_rss(y,reg.predict(X))\n",
    "r2 = calc_r2(y,reg.predict(X))\n",
    "print(rss)\n",
    "print(r2)"
   ]
  },
  {
   "cell_type": "markdown",
   "metadata": {},
   "source": [
    "# Exercício 1\n",
    "Treine modelos lineares na base <i>Portland_housePrices.csv</i> utilizando apenas um dos atributos preditores.\n",
    "\n",
    "1) Observando visualmente o modelo, qual atributo parece mais razoável? o que foi aprendido com <i>tamanho</i> ou com <i>número de quartos</i>?\n",
    "\n",
    "2) O RSS e R^2 corroboram suas impressões observando o modelo?\n",
    "\n",
    "\n"
   ]
  },
  {
   "cell_type": "markdown",
   "metadata": {},
   "source": [
    "## Observando a predição de preços a partir do tamanho das casas"
   ]
  },
  {
   "cell_type": "code",
   "execution_count": 5,
   "metadata": {},
   "outputs": [
    {
     "data": {
      "text/html": [
       "<div>\n",
       "<style scoped>\n",
       "    .dataframe tbody tr th:only-of-type {\n",
       "        vertical-align: middle;\n",
       "    }\n",
       "\n",
       "    .dataframe tbody tr th {\n",
       "        vertical-align: top;\n",
       "    }\n",
       "\n",
       "    .dataframe thead th {\n",
       "        text-align: right;\n",
       "    }\n",
       "</style>\n",
       "<table border=\"1\" class=\"dataframe\">\n",
       "  <thead>\n",
       "    <tr style=\"text-align: right;\">\n",
       "      <th></th>\n",
       "      <th>tamanho</th>\n",
       "      <th>quartos</th>\n",
       "      <th>preco</th>\n",
       "    </tr>\n",
       "  </thead>\n",
       "  <tbody>\n",
       "    <tr>\n",
       "      <th>count</th>\n",
       "      <td>47.000000</td>\n",
       "      <td>47.000000</td>\n",
       "      <td>47.000000</td>\n",
       "    </tr>\n",
       "    <tr>\n",
       "      <th>mean</th>\n",
       "      <td>2000.680851</td>\n",
       "      <td>3.170213</td>\n",
       "      <td>340412.659574</td>\n",
       "    </tr>\n",
       "    <tr>\n",
       "      <th>std</th>\n",
       "      <td>794.702354</td>\n",
       "      <td>0.760982</td>\n",
       "      <td>125039.899586</td>\n",
       "    </tr>\n",
       "    <tr>\n",
       "      <th>min</th>\n",
       "      <td>852.000000</td>\n",
       "      <td>1.000000</td>\n",
       "      <td>169900.000000</td>\n",
       "    </tr>\n",
       "    <tr>\n",
       "      <th>25%</th>\n",
       "      <td>1432.000000</td>\n",
       "      <td>3.000000</td>\n",
       "      <td>249900.000000</td>\n",
       "    </tr>\n",
       "    <tr>\n",
       "      <th>50%</th>\n",
       "      <td>1888.000000</td>\n",
       "      <td>3.000000</td>\n",
       "      <td>299900.000000</td>\n",
       "    </tr>\n",
       "    <tr>\n",
       "      <th>75%</th>\n",
       "      <td>2269.000000</td>\n",
       "      <td>4.000000</td>\n",
       "      <td>384450.000000</td>\n",
       "    </tr>\n",
       "    <tr>\n",
       "      <th>max</th>\n",
       "      <td>4478.000000</td>\n",
       "      <td>5.000000</td>\n",
       "      <td>699900.000000</td>\n",
       "    </tr>\n",
       "  </tbody>\n",
       "</table>\n",
       "</div>"
      ],
      "text/plain": [
       "           tamanho    quartos          preco\n",
       "count    47.000000  47.000000      47.000000\n",
       "mean   2000.680851   3.170213  340412.659574\n",
       "std     794.702354   0.760982  125039.899586\n",
       "min     852.000000   1.000000  169900.000000\n",
       "25%    1432.000000   3.000000  249900.000000\n",
       "50%    1888.000000   3.000000  299900.000000\n",
       "75%    2269.000000   4.000000  384450.000000\n",
       "max    4478.000000   5.000000  699900.000000"
      ]
     },
     "execution_count": 5,
     "metadata": {},
     "output_type": "execute_result"
    }
   ],
   "source": [
    "import pandas as pd\n",
    "\n",
    "\n",
    "df_ph = pd.read_csv('Portland_housePrices.csv', index_col = None)\n",
    "\n",
    "#df_ph.head()\n",
    "df_ph.describe()"
   ]
  },
  {
   "cell_type": "code",
   "execution_count": 6,
   "metadata": {},
   "outputs": [
    {
     "data": {
      "text/plain": [
       "LinearRegression(copy_X=True, fit_intercept=True, n_jobs=None, normalize=False)"
      ]
     },
     "execution_count": 6,
     "metadata": {},
     "output_type": "execute_result"
    }
   ],
   "source": [
    "from sklearn.linear_model import LinearRegression\n",
    "#Treina modelo utilizando dados de tamanho para prever preco\n",
    "X = df_ph.loc[:,['tamanho']]\n",
    "y = df_ph.loc[:,['preco']]\n",
    "\n",
    "resp_reg = LinearRegression().fit(X,y)   #X = atributo para treinamento ; y = resposta aprendida\n",
    "resp_reg"
   ]
  },
  {
   "cell_type": "code",
   "execution_count": 11,
   "metadata": {},
   "outputs": [
    {
     "data": {
      "text/plain": [
       "array([[354311.69781212],\n",
       "       [286510.95280112],\n",
       "       [394131.18297731],\n",
       "       [261758.29986059],\n",
       "       [474846.35560945],\n",
       "       [338303.18857341],\n",
       "       [277632.28381158],\n",
       "       [263238.07802551],\n",
       "       [256915.38950266],\n",
       "       [272251.27230277],\n",
       "       [332249.550626  ],\n",
       "       [340321.06788921],\n",
       "       [325523.28623999],\n",
       "       [673674.73085997],\n",
       "       [241848.557278  ],\n",
       "       [380678.65420528],\n",
       "       [248843.87223945],\n",
       "       [237543.74807095],\n",
       "       [422246.96811084],\n",
       "       [479016.63952878],\n",
       "       [308976.6758504 ],\n",
       "       [325254.23566454],\n",
       "       [287049.053952  ],\n",
       "       [335209.10695584],\n",
       "       [594573.86168047]])"
      ]
     },
     "execution_count": 11,
     "metadata": {},
     "output_type": "execute_result"
    }
   ],
   "source": [
    "#após treinado, vamos testar o modelo para predição\n",
    "\n",
    "y_predict = resp_reg. predict(X[0:25])  #estipulei 50% das amostras para predição\n",
    "y_predict\n",
    "\n"
   ]
  },
  {
   "cell_type": "markdown",
   "metadata": {},
   "source": [
    "* valores acima da média : Possíveis outliers : \n",
    "[474846.35560945], \n",
    "[673674.73085997],\n",
    "[422246.96811084],\n",
    "[479016.63952878]\n",
    "\n",
    "* Como é somente uma variável para predição, vamos utilizar o método para avaliação gráfica dos resultados"
   ]
  },
  {
   "cell_type": "code",
   "execution_count": 13,
   "metadata": {},
   "outputs": [
    {
     "data": {
      "text/plain": [
       "Text(0, 0.5, 'Preço')"
      ]
     },
     "execution_count": 13,
     "metadata": {},
     "output_type": "execute_result"
    },
    {
     "data": {
      "image/png": "[encoded data removed]",
      "text/plain": [
       "<Figure size 432x288 with 1 Axes>"
      ]
     },
     "metadata": {
      "needs_background": "light"
     },
     "output_type": "display_data"
    }
   ],
   "source": [
    "from matplotlib import pyplot as plt\n",
    "\n",
    "plt.scatter(X, y,color='g')\n",
    "plt.plot(X, resp_reg.predict(X),color='k')\n",
    "plt.xlabel('Tamanho (pe2)')\n",
    "plt.ylabel('Preço')"
   ]
  },
  {
   "cell_type": "markdown",
   "metadata": {},
   "source": [
    "## Utilizando a variável quartos para predição de preços\n"
   ]
  },
  {
   "cell_type": "code",
   "execution_count": 14,
   "metadata": {},
   "outputs": [
    {
     "data": {
      "text/plain": [
       "LinearRegression(copy_X=True, fit_intercept=True, n_jobs=None, normalize=False)"
      ]
     },
     "execution_count": 14,
     "metadata": {},
     "output_type": "execute_result"
    }
   ],
   "source": [
    "from sklearn.linear_model import LinearRegression\n",
    "#Treina modelo utilizando dados de tamanho para prever preco\n",
    "X = df_ph.loc[:,['quartos']]\n",
    "y = df_ph.loc[:,['preco']]\n",
    "\n",
    "resp_reg = LinearRegression().fit(X,y)   #X = atributo para treinamento ; y = resposta aprendida\n",
    "resp_reg"
   ]
  },
  {
   "cell_type": "code",
   "execution_count": 20,
   "metadata": {},
   "outputs": [
    {
     "data": {
      "text/plain": [
       "array([[328043.35782748],\n",
       "       [328043.35782748],\n",
       "       [328043.35782748],\n",
       "       [255373.7100639 ],\n",
       "       [400713.00559105],\n",
       "       [400713.00559105],\n",
       "       [328043.35782748],\n",
       "       [328043.35782748],\n",
       "       [328043.35782748],\n",
       "       [328043.35782748],\n",
       "       [400713.00559105],\n",
       "       [328043.35782748],\n",
       "       [328043.35782748],\n",
       "       [473382.65335463],\n",
       "       [328043.35782748],\n",
       "       [400713.00559105],\n",
       "       [255373.7100639 ],\n",
       "       [328043.35782748],\n",
       "       [400713.00559105],\n",
       "       [400713.00559105],\n",
       "       [328043.35782748],\n",
       "       [255373.7100639 ],\n",
       "       [328043.35782748],\n",
       "       [400713.00559105],\n",
       "       [328043.35782748],\n",
       "       [328043.35782748],\n",
       "       [328043.35782748],\n",
       "       [328043.35782748],\n",
       "       [328043.35782748],\n",
       "       [328043.35782748],\n",
       "       [255373.7100639 ],\n",
       "       [182704.06230032],\n",
       "       [400713.00559105],\n",
       "       [328043.35782748],\n",
       "       [400713.00559105],\n",
       "       [328043.35782748],\n",
       "       [328043.35782748],\n",
       "       [400713.00559105],\n",
       "       [400713.00559105],\n",
       "       [400713.00559105],\n",
       "       [255373.7100639 ],\n",
       "       [328043.35782748],\n",
       "       [400713.00559105],\n",
       "       [328043.35782748],\n",
       "       [255373.7100639 ],\n",
       "       [400713.00559105],\n",
       "       [328043.35782748]])"
      ]
     },
     "execution_count": 20,
     "metadata": {},
     "output_type": "execute_result"
    }
   ],
   "source": [
    "#após treinado, vamos testar o modelo para predição\n",
    "\n",
    "y_predict = resp_reg. predict(X[0:50])  #estipulei 50% das amostras para predição\n",
    "y_predict"
   ]
  },
  {
   "cell_type": "code",
   "execution_count": 21,
   "metadata": {},
   "outputs": [
    {
     "data": {
      "text/plain": [
       "Text(0, 0.5, 'Preço')"
      ]
     },
     "execution_count": 21,
     "metadata": {},
     "output_type": "execute_result"
    },
    {
     "data": {
      "image/png": "[encoded data removed]",
      "text/plain": [
       "<Figure size 432x288 with 1 Axes>"
      ]
     },
     "metadata": {
      "needs_background": "light"
     },
     "output_type": "display_data"
    }
   ],
   "source": [
    "from matplotlib import pyplot as plt\n",
    "\n",
    "plt.scatter(X, y,color='g')\n",
    "plt.plot(X, resp_reg.predict(X),color='k')\n",
    "plt.xlabel('QUARTOS')\n",
    "plt.ylabel('Preço')"
   ]
  },
  {
   "cell_type": "markdown",
   "metadata": {},
   "source": [
    "Observa-se que somente a variavel quartos nao é suficiente para predizer os valores de preço, pois, embora seu comportamento seja linear (qde de quartos implica em maior preço), as amostras parecem estar bem dispersas em relação a reta de aproximação , implicando em um maior erro para convergência de acertos do algoritmo."
   ]
  },
  {
   "cell_type": "markdown",
   "metadata": {},
   "source": [
    "### Explorações adicionais para estudos ; Predição de quartos pelo tamanho da casa"
   ]
  },
  {
   "cell_type": "code",
   "execution_count": 23,
   "metadata": {},
   "outputs": [
    {
     "data": {
      "text/plain": [
       "LinearRegression(copy_X=True, fit_intercept=True, n_jobs=None, normalize=False)"
      ]
     },
     "execution_count": 23,
     "metadata": {},
     "output_type": "execute_result"
    }
   ],
   "source": [
    "from sklearn.linear_model import LinearRegression\n",
    "#Treina modelo utilizando dados de tamanho para prever preco\n",
    "X1 = df_ph.loc[:,['tamanho']]\n",
    "X2 = df_ph.loc[:,['quartos']]\n",
    "\n",
    "\n",
    "resp_reg = LinearRegression().fit(X1,X2)   #X = atributo para treinamento ; y = resposta aprendida\n",
    "resp_reg"
   ]
  },
  {
   "cell_type": "code",
   "execution_count": 27,
   "metadata": {},
   "outputs": [
    {
     "data": {
      "text/plain": [
       "array([[2.09904247],\n",
       "       [2.09904247],\n",
       "       [2.09904247],\n",
       "       [2.09850627],\n",
       "       [2.09957868],\n",
       "       [2.09957868],\n",
       "       [2.09904247],\n",
       "       [2.09904247],\n",
       "       [2.09904247],\n",
       "       [2.09904247],\n",
       "       [2.09957868],\n",
       "       [2.09904247],\n",
       "       [2.09904247],\n",
       "       [2.10011489],\n",
       "       [2.09904247],\n",
       "       [2.09957868],\n",
       "       [2.09850627],\n",
       "       [2.09904247],\n",
       "       [2.09957868],\n",
       "       [2.09957868],\n",
       "       [2.09904247],\n",
       "       [2.09850627],\n",
       "       [2.09904247],\n",
       "       [2.09957868],\n",
       "       [2.09904247],\n",
       "       [2.09904247],\n",
       "       [2.09904247],\n",
       "       [2.09904247],\n",
       "       [2.09904247],\n",
       "       [2.09904247],\n",
       "       [2.09850627],\n",
       "       [2.09797006],\n",
       "       [2.09957868],\n",
       "       [2.09904247],\n",
       "       [2.09957868],\n",
       "       [2.09904247],\n",
       "       [2.09904247],\n",
       "       [2.09957868],\n",
       "       [2.09957868],\n",
       "       [2.09957868],\n",
       "       [2.09850627],\n",
       "       [2.09904247],\n",
       "       [2.09957868],\n",
       "       [2.09904247],\n",
       "       [2.09850627],\n",
       "       [2.09957868],\n",
       "       [2.09904247]])"
      ]
     },
     "execution_count": 27,
     "metadata": {},
     "output_type": "execute_result"
    }
   ],
   "source": [
    "#após treinado, vamos testar o modelo para predição\n",
    "\n",
    "y_predict = resp_reg. predict(X2)  \n",
    "y_predict"
   ]
  },
  {
   "cell_type": "code",
   "execution_count": 29,
   "metadata": {},
   "outputs": [
    {
     "data": {
      "text/plain": [
       "Text(0, 0.5, 'Quartos')"
      ]
     },
     "execution_count": 29,
     "metadata": {},
     "output_type": "execute_result"
    },
    {
     "data": {
      "image/png": "[encoded data removed]",
      "text/plain": [
       "<Figure size 432x288 with 1 Axes>"
      ]
     },
     "metadata": {
      "needs_background": "light"
     },
     "output_type": "display_data"
    }
   ],
   "source": [
    "from matplotlib import pyplot as plt\n",
    "\n",
    "plt.scatter(X1, X2,color='g')\n",
    "plt.plot(X1, resp_reg.predict(X1),color='k')\n",
    "plt.xlabel('Tamanho')\n",
    "plt.ylabel('Quartos')"
   ]
  },
  {
   "cell_type": "markdown",
   "metadata": {},
   "source": [
    "Não é possível prever pois o valor não é tão linear (qto mais quartos maior o preço - em muitos casos a mesma qde de quartos apresenta valores distintos para a casa)"
   ]
  },
  {
   "cell_type": "markdown",
   "metadata": {},
   "source": [
    "# Exercício 2\n",
    "\n",
    "Treine modelos lineares na base <i>Advertising.csv</i> utilizando apenas um dos atributos preditores.\n",
    "\n",
    "1) Observando visualmente o modelo, qual atributo parece mais razoável? o que foi aprendido com TV, radio ou newspaper?\n",
    "\n",
    "2) Qual dos modelos é melhor? como você chegou a esta conclusão?"
   ]
  },
  {
   "cell_type": "code",
   "execution_count": 31,
   "metadata": {},
   "outputs": [
    {
     "data": {
      "text/html": [
       "<div>\n",
       "<style scoped>\n",
       "    .dataframe tbody tr th:only-of-type {\n",
       "        vertical-align: middle;\n",
       "    }\n",
       "\n",
       "    .dataframe tbody tr th {\n",
       "        vertical-align: top;\n",
       "    }\n",
       "\n",
       "    .dataframe thead th {\n",
       "        text-align: right;\n",
       "    }\n",
       "</style>\n",
       "<table border=\"1\" class=\"dataframe\">\n",
       "  <thead>\n",
       "    <tr style=\"text-align: right;\">\n",
       "      <th></th>\n",
       "      <th>TV</th>\n",
       "      <th>radio</th>\n",
       "      <th>newspaper</th>\n",
       "      <th>sales</th>\n",
       "    </tr>\n",
       "  </thead>\n",
       "  <tbody>\n",
       "    <tr>\n",
       "      <th>1</th>\n",
       "      <td>230.1</td>\n",
       "      <td>37.8</td>\n",
       "      <td>69.2</td>\n",
       "      <td>22.1</td>\n",
       "    </tr>\n",
       "    <tr>\n",
       "      <th>2</th>\n",
       "      <td>44.5</td>\n",
       "      <td>39.3</td>\n",
       "      <td>45.1</td>\n",
       "      <td>10.4</td>\n",
       "    </tr>\n",
       "    <tr>\n",
       "      <th>3</th>\n",
       "      <td>17.2</td>\n",
       "      <td>45.9</td>\n",
       "      <td>69.3</td>\n",
       "      <td>9.3</td>\n",
       "    </tr>\n",
       "    <tr>\n",
       "      <th>4</th>\n",
       "      <td>151.5</td>\n",
       "      <td>41.3</td>\n",
       "      <td>58.5</td>\n",
       "      <td>18.5</td>\n",
       "    </tr>\n",
       "    <tr>\n",
       "      <th>5</th>\n",
       "      <td>180.8</td>\n",
       "      <td>10.8</td>\n",
       "      <td>58.4</td>\n",
       "      <td>12.9</td>\n",
       "    </tr>\n",
       "  </tbody>\n",
       "</table>\n",
       "</div>"
      ],
      "text/plain": [
       "      TV  radio  newspaper  sales\n",
       "1  230.1   37.8       69.2   22.1\n",
       "2   44.5   39.3       45.1   10.4\n",
       "3   17.2   45.9       69.3    9.3\n",
       "4  151.5   41.3       58.5   18.5\n",
       "5  180.8   10.8       58.4   12.9"
      ]
     },
     "execution_count": 31,
     "metadata": {},
     "output_type": "execute_result"
    }
   ],
   "source": [
    "import pandas as pd\n",
    "\n",
    "dados_adv = pd.read_csv('Advertising.csv', index_col=0)\n",
    "dados_adv.head()"
   ]
  },
  {
   "cell_type": "code",
   "execution_count": 32,
   "metadata": {},
   "outputs": [],
   "source": [
    "from sklearn.linear_model import LinearRegression\n",
    "#Treina modelo utilizando dados de tamanho para prever preco\n",
    "x_tv = dados_adv.loc[:,['TV']]\n",
    "x_radio = dados_adv.loc[:,['radio']]\n",
    "x_news = dados_adv.loc[:,['newspaper']]\n",
    "\n",
    "\n",
    "y_sales =  dados_adv.loc[:,['sales']]\n",
    "\n",
    "\n",
    "#teste 1\n",
    "resp_reg_tv = LinearRegression().fit(x_tv,y_sales)  \n",
    "\n",
    "#teste 2\n",
    "resp_reg_radio = LinearRegression().fit(x_radio,y_sales)\n",
    "\n",
    "#teste 3\n",
    "resp_reg_news = LinearRegression().fit(x_news,y_sales)"
   ]
  },
  {
   "cell_type": "code",
   "execution_count": 44,
   "metadata": {},
   "outputs": [
    {
     "data": {
      "text/plain": [
       "array([[16.13616948],\n",
       "       [14.81806581],\n",
       "       [16.14163879],\n",
       "       [15.55095333],\n",
       "       [15.54548402],\n",
       "       [16.45338945],\n",
       "       [13.63669488],\n",
       "       [12.98584701],\n",
       "       [12.40610017],\n",
       "       [13.51090076],\n",
       "       [13.67498005],\n",
       "       [12.57017946],\n",
       "       [15.95568226],\n",
       "       [12.74519738],\n",
       "       [14.8672896 ],\n",
       "       [15.24467198],\n",
       "       [18.5864203 ],\n",
       "       [15.40328196],\n",
       "       [13.35229077],\n",
       "       [13.39604525],\n",
       "       [15.27201853],\n",
       "       [13.63669488],\n",
       "       [15.06418475],\n",
       "       [13.78436625],\n",
       "       [13.35229077],\n",
       "       [13.41792249],\n",
       "       [13.04054011],\n",
       "       [13.60387902],\n",
       "       [13.60387902],\n",
       "       [14.58288549],\n",
       "       [14.71414892],\n",
       "       [14.46256067],\n",
       "       [13.99220002],\n",
       "       [12.367815  ],\n",
       "       [12.756136  ],\n",
       "       [12.81629841],\n",
       "       [12.62487256],\n",
       "       [14.85088167],\n",
       "       [14.27113483],\n",
       "       [14.10158622],\n",
       "       [14.07970898],\n",
       "       [14.46802998],\n",
       "       [12.44985465],\n",
       "       [13.79530487],\n",
       "       [14.71961823],\n",
       "       [14.07423967],\n",
       "       [14.30395068],\n",
       "       [13.36322939],\n",
       "       [15.08059268],\n",
       "       [14.36411309],\n",
       "       [14.24378828],\n",
       "       [12.54830222],\n",
       "       [14.51725377],\n",
       "       [15.56189195],\n",
       "       [13.22102733],\n",
       "       [15.63299298],\n",
       "       [14.61570135],\n",
       "       [13.2593125 ],\n",
       "       [14.41333688],\n",
       "       [12.86005289],\n",
       "       [13.52183938],\n",
       "       [15.34311956],\n",
       "       [13.84452866],\n",
       "       [12.8108291 ],\n",
       "       [13.93203762],\n",
       "       [12.40063086],\n",
       "       [12.47173189],\n",
       "       [12.90927667],\n",
       "       [12.95303115],\n",
       "       [13.83905935],\n",
       "       [14.46802998],\n",
       "       [14.08517829],\n",
       "       [13.40698387],\n",
       "       [14.06330105],\n",
       "       [13.06788666],\n",
       "       [17.24097007],\n",
       "       [13.48355421],\n",
       "       [13.12804907],\n",
       "       [12.86552219],\n",
       "       [13.61481764],\n",
       "       [13.57106317],\n",
       "       [14.3695824 ],\n",
       "       [14.12893277],\n",
       "       [14.29848137],\n",
       "       [14.2000338 ],\n",
       "       [15.94474364],\n",
       "       [13.22649664],\n",
       "       [15.80801089],\n",
       "       [16.3658805 ],\n",
       "       [15.16263233],\n",
       "       [12.86005289],\n",
       "       [14.15627932],\n",
       "       [15.57829988],\n",
       "       [16.30571809],\n",
       "       [12.94756184],\n",
       "       [15.24467198],\n",
       "       [12.67409635],\n",
       "       [13.55465524],\n",
       "       [15.15169371],\n",
       "       [14.86182029],\n",
       "       [15.07512337],\n",
       "       [17.86994071],\n",
       "       [13.52183938],\n",
       "       [13.33041353],\n",
       "       [12.64128049],\n",
       "       [15.57829988],\n",
       "       [13.97579209],\n",
       "       [13.62028695],\n",
       "       [13.75155039],\n",
       "       [12.65221911],\n",
       "       [15.44156713],\n",
       "       [13.62028695],\n",
       "       [12.48267051],\n",
       "       [12.93662322],\n",
       "       [14.23831897],\n",
       "       [15.23373336],\n",
       "       [13.75155039],\n",
       "       [13.16086493],\n",
       "       [16.68310047],\n",
       "       [13.57106317],\n",
       "       [14.87822822],\n",
       "       [15.10793923],\n",
       "       [13.20461941],\n",
       "       [13.02960149],\n",
       "       [16.40963498],\n",
       "       [13.76795832],\n",
       "       [15.11887785],\n",
       "       [12.85458358],\n",
       "       [12.52642498],\n",
       "       [14.70867961],\n",
       "       [12.82723703],\n",
       "       [14.7032103 ],\n",
       "       [12.46626258],\n",
       "       [14.81806581],\n",
       "       [15.93927433],\n",
       "       [12.81629841],\n",
       "       [12.86005289],\n",
       "       [15.61658505],\n",
       "       [13.47261559],\n",
       "       [12.44438534],\n",
       "       [13.05694804],\n",
       "       [16.48620531],\n",
       "       [14.4242755 ],\n",
       "       [14.23284966],\n",
       "       [14.4789686 ],\n",
       "       [12.84364496],\n",
       "       [12.82723703],\n",
       "       [14.77431133],\n",
       "       [13.00225494],\n",
       "       [13.4780849 ],\n",
       "       [14.37505171],\n",
       "       [15.01496096],\n",
       "       [13.12804907],\n",
       "       [14.41333688],\n",
       "       [12.8709915 ],\n",
       "       [12.66315773],\n",
       "       [15.11340854],\n",
       "       [13.68044936],\n",
       "       [14.82353512],\n",
       "       [14.24378828],\n",
       "       [14.03048519],\n",
       "       [15.04777682],\n",
       "       [13.75155039],\n",
       "       [12.756136  ],\n",
       "       [12.6467498 ],\n",
       "       [16.98938182],\n",
       "       [13.532778  ],\n",
       "       [13.41245318],\n",
       "       [15.50172954],\n",
       "       [12.7014429 ],\n",
       "       [13.35776008],\n",
       "       [14.94385994],\n",
       "       [13.28118974],\n",
       "       [13.05147873],\n",
       "       [13.06788666],\n",
       "       [14.63757859],\n",
       "       [13.46167697],\n",
       "       [14.27660414],\n",
       "       [13.6476335 ],\n",
       "       [13.3140056 ],\n",
       "       [12.80535979],\n",
       "       [13.84999797],\n",
       "       [13.97579209],\n",
       "       [16.27837154],\n",
       "       [13.99220002],\n",
       "       [13.4233918 ],\n",
       "       [13.80624349],\n",
       "       [13.34682146],\n",
       "       [12.55377153],\n",
       "       [13.63122557],\n",
       "       [12.66862704],\n",
       "       [12.67956566],\n",
       "       [14.07970898],\n",
       "       [12.54830222],\n",
       "       [12.67956566],\n",
       "       [13.10617183],\n",
       "       [12.79442117],\n",
       "       [12.7014429 ],\n",
       "       [15.97209019],\n",
       "       [12.82723703]])"
      ]
     },
     "execution_count": 44,
     "metadata": {},
     "output_type": "execute_result"
    }
   ],
   "source": [
    "y_tv_predsales = resp_reg_tv.predict(x_tv)\n",
    "y_tv_predsales\n",
    "\n",
    "y_radsales = resp_reg_radio.predict(x_radio)\n",
    "y_radsales\n",
    "\n",
    "y_newssales = resp_reg_news.predict(x_news)\n",
    "y_newssales\n"
   ]
  },
  {
   "cell_type": "code",
   "execution_count": 51,
   "metadata": {},
   "outputs": [
    {
     "data": {
      "text/plain": [
       "Text(0, 0.5, 'sales')"
      ]
     },
     "execution_count": 51,
     "metadata": {},
     "output_type": "execute_result"
    },
    {
     "data": {
      "image/png": "[encoded data removed]",
      "text/plain": [
       "<Figure size 432x288 with 1 Axes>"
      ]
     },
     "metadata": {
      "needs_background": "light"
     },
     "output_type": "display_data"
    }
   ],
   "source": [
    "from matplotlib import pyplot as plt\n",
    "\n",
    "plt.scatter(x_tv, y_sales ,color='g')\n",
    "plt.plot(x_tv, y_tv_predsales,color='k')\n",
    "plt.xlabel('Radio')\n",
    "plt.ylabel('sales')\n"
   ]
  },
  {
   "cell_type": "code",
   "execution_count": 49,
   "metadata": {},
   "outputs": [
    {
     "data": {
      "text/plain": [
       "Text(0, 0.5, 'sales')"
      ]
     },
     "execution_count": 49,
     "metadata": {},
     "output_type": "execute_result"
    },
    {
     "data": {
      "image/png": "[encoded data removed]",
      "text/plain": [
       "<Figure size 432x288 with 1 Axes>"
      ]
     },
     "metadata": {
      "needs_background": "light"
     },
     "output_type": "display_data"
    }
   ],
   "source": [
    "from matplotlib import pyplot as plt\n",
    "\n",
    "plt.scatter(x_radio, y_sales ,color='g')\n",
    "plt.plot(x_radio, y_radsales,color='k')\n",
    "plt.xlabel('Radio')\n",
    "plt.ylabel('sales')\n"
   ]
  },
  {
   "cell_type": "code",
   "execution_count": 48,
   "metadata": {},
   "outputs": [
    {
     "data": {
      "text/plain": [
       "Text(0, 0.5, 'sales')"
      ]
     },
     "execution_count": 48,
     "metadata": {},
     "output_type": "execute_result"
    },
    {
     "data": {
      "image/png": "[encoded data removed]",
      "text/plain": [
       "<Figure size 432x288 with 1 Axes>"
      ]
     },
     "metadata": {
      "needs_background": "light"
     },
     "output_type": "display_data"
    }
   ],
   "source": [
    "plt.scatter(x_news, y_sales ,color='g')\n",
    "plt.plot(x_news, y_newssales,color='k')\n",
    "plt.xlabel('Tv')\n",
    "plt.ylabel('sales')\n",
    "\n",
    "\n"
   ]
  },
  {
   "cell_type": "markdown",
   "metadata": {},
   "source": [
    "Resposta: A variável que apresenta maior aproximação em relação à predição do algoritmo é a tv"
   ]
  },
  {
   "cell_type": "markdown",
   "metadata": {},
   "source": [
    "# Regressão Linear Multivariada\n",
    "A classe <i>LinearRegression</i> já está implementada de modo a funcionar com múltiplos atributos preditores.\n",
    "\n",
    "Também é possível utilizar o método de <i>Descida de Gradiente</i> através da classe <a href='https://scikit-learn.org/stable/modules/generated/sklearn.linear_model.SGDRegressor.html'>SGDRegressor</a>:\n",
    "    \n"
   ]
  },
  {
   "cell_type": "code",
   "execution_count": null,
   "metadata": {},
   "outputs": [],
   "source": []
  },
  {
   "cell_type": "code",
   "execution_count": 8,
   "metadata": {},
   "outputs": [
    {
     "data": {
      "text/plain": [
       "SGDRegressor(alpha=0, average=False, early_stopping=False, epsilon=0.1,\n",
       "             eta0=0.01, fit_intercept=True, l1_ratio=0.15,\n",
       "             learning_rate='invscaling', loss='squared_loss', max_iter=5000,\n",
       "             n_iter_no_change=5, penalty='l2', power_t=0.25, random_state=None,\n",
       "             shuffle=True, tol=0.001, validation_fraction=0.1, verbose=0,\n",
       "             warm_start=False)"
      ]
     },
     "execution_count": 8,
     "metadata": {},
     "output_type": "execute_result"
    }
   ],
   "source": [
    "from sklearn.linear_model import SGDRegressor\n",
    "reg_grad = SGDRegressor(max_iter=5000,alpha=0) #alpha = 0 significa que o modelo nao usa regularização (a ser explicado nas próximas aulas)\n",
    "reg_grad.fit(X,y.values.ravel())"
   ]
  },
  {
   "cell_type": "code",
   "execution_count": 9,
   "metadata": {},
   "outputs": [
    {
     "data": {
      "text/plain": [
       "Text(0, 0.5, 'Preço')"
      ]
     },
     "execution_count": 9,
     "metadata": {},
     "output_type": "execute_result"
    },
    {
     "data": {
      "image/png": "[encoded data removed]",
      "text/plain": [
       "<Figure size 432x288 with 1 Axes>"
      ]
     },
     "metadata": {
      "needs_background": "light"
     },
     "output_type": "display_data"
    }
   ],
   "source": [
    "plt.scatter(X, y,color='g')\n",
    "plt.plot(X, reg_grad.predict(X),color='k')\n",
    "plt.xlabel('Tamanho (pe2)')\n",
    "plt.ylabel('Preço')"
   ]
  },
  {
   "cell_type": "markdown",
   "metadata": {},
   "source": [
    "<b>Entretanto</b>... o algoritmo não aprende quando os dados são usados diretamente.\n",
    "\n",
    "<b>Por quê?</b>\n",
    "\n",
    "A escala dos dados atrapalha o algoritmo. Tente treinar o regressor linear com descida do gradiente <i>depois de normalizar os dados de entrada</i>.\n",
    "\n",
    "## Exercício 3\n",
    "\n",
    "Para cada um dos conjuntos de treinamento, utilize a função <i>fit</i> múltiplas vezes considerando apenas <i>um</i> atributo preditor.\n",
    "\n",
    "1) O modelo aprendido muda a cada vez que a função <i>fit</i> é utilizada?\n",
    "\n",
    "2) Os modelos finais aprendidos são os mesmos da outra implementação de regressão linear?\n"
   ]
  },
  {
   "cell_type": "code",
   "execution_count": null,
   "metadata": {},
   "outputs": [],
   "source": []
  },
  {
   "cell_type": "markdown",
   "metadata": {},
   "source": [
    "## Exercício 4\n",
    "\n",
    "\n",
    "Aprenda modelos utilizando todos os atributos de entrada.\n",
    "\n",
    "1) Baseado no RSS e no R^2, é possível obter um modelo melhor utilizando todos os dados?\n",
    "\n",
    "2) Existem atributos que poderiam ser desconsiderados sem que fosse afetada a precisão?\n",
    "\n",
    "3) Qual implementação treina mais rápido? A com método dos mínimos quadrados ou a com descida de gradiente?\n"
   ]
  },
  {
   "cell_type": "code",
   "execution_count": null,
   "metadata": {},
   "outputs": [],
   "source": []
  }
 ],
 "metadata": {
  "kernelspec": {
   "display_name": "Python 3",
   "language": "python",
   "name": "python3"
  },
  "language_info": {
   "codemirror_mode": {
    "name": "ipython",
    "version": 3
   },
   "file_extension": ".py",
   "mimetype": "text/x-python",
   "name": "python",
   "nbconvert_exporter": "python",
   "pygments_lexer": "ipython3",
   "version": "3.7.6"
  }
 },
 "nbformat": 4,
 "nbformat_minor": 2
}
